{
 "cells": [
  {
   "cell_type": "code",
   "execution_count": 1,
   "metadata": {
    "collapsed": true
   },
   "outputs": [],
   "source": [
    "import pandas as pd\n",
    "import numpy as np\n",
    "import matplotlib.pyplot as plt\n",
    "%matplotlib inline"
   ]
  },
  {
   "cell_type": "code",
   "execution_count": 2,
   "metadata": {
    "collapsed": true
   },
   "outputs": [],
   "source": [
    "cols = ['idnum', 'age', 'workerclass', 'interestincome', \n",
    "'traveltimetowork', 'vehicleoccupancy', 'meansoftransport', \n",
    "'marital', 'schoolenrollment', 'educationalattain', \n",
    "'sex', 'workarrivaltime', 'hoursworkperweek', \n",
    "'ancestry', 'degreefield', 'industryworkedin', \n",
    "'wages']"
   ]
  },
  {
   "cell_type": "code",
   "execution_count": 3,
   "metadata": {
    "scrolled": true
   },
   "outputs": [
    {
     "data": {
      "text/html": [
       "<div>\n",
       "<style>\n",
       "    .dataframe thead tr:only-child th {\n",
       "        text-align: right;\n",
       "    }\n",
       "\n",
       "    .dataframe thead th {\n",
       "        text-align: left;\n",
       "    }\n",
       "\n",
       "    .dataframe tbody tr th {\n",
       "        vertical-align: top;\n",
       "    }\n",
       "</style>\n",
       "<table border=\"1\" class=\"dataframe\">\n",
       "  <thead>\n",
       "    <tr style=\"text-align: right;\">\n",
       "      <th></th>\n",
       "      <th>idnum</th>\n",
       "      <th>age</th>\n",
       "      <th>workerclass</th>\n",
       "      <th>interestincome</th>\n",
       "      <th>traveltimetowork</th>\n",
       "      <th>vehicleoccupancy</th>\n",
       "      <th>meansoftransport</th>\n",
       "      <th>marital</th>\n",
       "      <th>schoolenrollment</th>\n",
       "      <th>educationalattain</th>\n",
       "      <th>sex</th>\n",
       "      <th>workarrivaltime</th>\n",
       "      <th>hoursworkperweek</th>\n",
       "      <th>ancestry</th>\n",
       "      <th>degreefield</th>\n",
       "      <th>industryworkedin</th>\n",
       "      <th>wages</th>\n",
       "    </tr>\n",
       "  </thead>\n",
       "  <tbody>\n",
       "    <tr>\n",
       "      <th>0</th>\n",
       "      <td>0.0</td>\n",
       "      <td>58.0</td>\n",
       "      <td>3.0</td>\n",
       "      <td>0.0</td>\n",
       "      <td>40.0</td>\n",
       "      <td>2.0</td>\n",
       "      <td>1.0</td>\n",
       "      <td>1.0</td>\n",
       "      <td>1.0</td>\n",
       "      <td>22.0</td>\n",
       "      <td>1.0</td>\n",
       "      <td>84.0</td>\n",
       "      <td>40.0</td>\n",
       "      <td>32.0</td>\n",
       "      <td>2300.0</td>\n",
       "      <td>7870.0</td>\n",
       "      <td>110000.0</td>\n",
       "    </tr>\n",
       "    <tr>\n",
       "      <th>1</th>\n",
       "      <td>1.0</td>\n",
       "      <td>34.0</td>\n",
       "      <td>3.0</td>\n",
       "      <td>0.0</td>\n",
       "      <td>10.0</td>\n",
       "      <td>1.0</td>\n",
       "      <td>1.0</td>\n",
       "      <td>5.0</td>\n",
       "      <td>1.0</td>\n",
       "      <td>16.0</td>\n",
       "      <td>1.0</td>\n",
       "      <td>168.0</td>\n",
       "      <td>40.0</td>\n",
       "      <td>51.0</td>\n",
       "      <td>NaN</td>\n",
       "      <td>7860.0</td>\n",
       "      <td>34500.0</td>\n",
       "    </tr>\n",
       "    <tr>\n",
       "      <th>2</th>\n",
       "      <td>2.0</td>\n",
       "      <td>57.0</td>\n",
       "      <td>2.0</td>\n",
       "      <td>0.0</td>\n",
       "      <td>15.0</td>\n",
       "      <td>8.0</td>\n",
       "      <td>1.0</td>\n",
       "      <td>5.0</td>\n",
       "      <td>1.0</td>\n",
       "      <td>16.0</td>\n",
       "      <td>1.0</td>\n",
       "      <td>100.0</td>\n",
       "      <td>30.0</td>\n",
       "      <td>51.0</td>\n",
       "      <td>NaN</td>\n",
       "      <td>8390.0</td>\n",
       "      <td>4700.0</td>\n",
       "    </tr>\n",
       "    <tr>\n",
       "      <th>3</th>\n",
       "      <td>3.0</td>\n",
       "      <td>17.0</td>\n",
       "      <td>NaN</td>\n",
       "      <td>0.0</td>\n",
       "      <td>NaN</td>\n",
       "      <td>NaN</td>\n",
       "      <td>NaN</td>\n",
       "      <td>5.0</td>\n",
       "      <td>2.0</td>\n",
       "      <td>15.0</td>\n",
       "      <td>2.0</td>\n",
       "      <td>NaN</td>\n",
       "      <td>NaN</td>\n",
       "      <td>714.0</td>\n",
       "      <td>NaN</td>\n",
       "      <td>NaN</td>\n",
       "      <td>0.0</td>\n",
       "    </tr>\n",
       "    <tr>\n",
       "      <th>4</th>\n",
       "      <td>4.0</td>\n",
       "      <td>42.0</td>\n",
       "      <td>1.0</td>\n",
       "      <td>0.0</td>\n",
       "      <td>20.0</td>\n",
       "      <td>1.0</td>\n",
       "      <td>1.0</td>\n",
       "      <td>1.0</td>\n",
       "      <td>1.0</td>\n",
       "      <td>22.0</td>\n",
       "      <td>1.0</td>\n",
       "      <td>92.0</td>\n",
       "      <td>45.0</td>\n",
       "      <td>21.0</td>\n",
       "      <td>5001.0</td>\n",
       "      <td>6990.0</td>\n",
       "      <td>120000.0</td>\n",
       "    </tr>\n",
       "  </tbody>\n",
       "</table>\n",
       "</div>"
      ],
      "text/plain": [
       "   idnum   age  workerclass  interestincome  traveltimetowork  \\\n",
       "0    0.0  58.0          3.0             0.0              40.0   \n",
       "1    1.0  34.0          3.0             0.0              10.0   \n",
       "2    2.0  57.0          2.0             0.0              15.0   \n",
       "3    3.0  17.0          NaN             0.0               NaN   \n",
       "4    4.0  42.0          1.0             0.0              20.0   \n",
       "\n",
       "   vehicleoccupancy  meansoftransport  marital  schoolenrollment  \\\n",
       "0               2.0               1.0      1.0               1.0   \n",
       "1               1.0               1.0      5.0               1.0   \n",
       "2               8.0               1.0      5.0               1.0   \n",
       "3               NaN               NaN      5.0               2.0   \n",
       "4               1.0               1.0      1.0               1.0   \n",
       "\n",
       "   educationalattain  sex  workarrivaltime  hoursworkperweek  ancestry  \\\n",
       "0               22.0  1.0             84.0              40.0      32.0   \n",
       "1               16.0  1.0            168.0              40.0      51.0   \n",
       "2               16.0  1.0            100.0              30.0      51.0   \n",
       "3               15.0  2.0              NaN               NaN     714.0   \n",
       "4               22.0  1.0             92.0              45.0      21.0   \n",
       "\n",
       "   degreefield  industryworkedin     wages  \n",
       "0       2300.0            7870.0  110000.0  \n",
       "1          NaN            7860.0   34500.0  \n",
       "2          NaN            8390.0    4700.0  \n",
       "3          NaN               NaN       0.0  \n",
       "4       5001.0            6990.0  120000.0  "
      ]
     },
     "execution_count": 3,
     "metadata": {},
     "output_type": "execute_result"
    }
   ],
   "source": [
    "df = pd.read_csv('census_train.csv',header=None, names=cols, na_values='?')\n",
    "df=df.astype(float)\n",
    "df.head()"
   ]
  },
  {
   "cell_type": "code",
   "execution_count": 4,
   "metadata": {
    "collapsed": true
   },
   "outputs": [],
   "source": [
    "df['industryworkedin'].replace(np.nan,0,inplace=True)\n",
    "bins = [-1, 169,290,490, 690, 770,3990,4590,5790,6390,6780,7190,7790,7890,8290,8470,8690,9290,9590,9870,9920]\n",
    "names = ['No Industry', 'AGR', 'EXT', 'UTL', 'CON','MFG','WHL','RET','TRN','INF','FIN','PRF','EDU',\n",
    "         'MED','SCA','ENT','SRV','EDM','MIL','Unemployed']\n",
    "df['industry']=pd.cut(df['industryworkedin'],bins,labels=names)"
   ]
  },
  {
   "cell_type": "code",
   "execution_count": 5,
   "metadata": {
    "collapsed": true
   },
   "outputs": [],
   "source": [
    "df['workarrivaltime'].replace(np.nan,0,inplace=True)\n",
    "bins = [-2,0,70,142,214,285]\n",
    "names=['nowork','late_night','morning','afternoon','night']\n",
    "df['workarrival']=pd.cut(df['workarrivaltime'],bins,labels=names)"
   ]
  },
  {
   "cell_type": "code",
   "execution_count": 6,
   "metadata": {},
   "outputs": [
    {
     "data": {
      "image/png": "[encoded data removed]",
      "text/plain": [
       "<matplotlib.figure.Figure at 0x10747da58>"
      ]
     },
     "metadata": {},
     "output_type": "display_data"
    }
   ],
   "source": [
    "plt.hist(df['wages'], color = 'orange', edgecolor = 'black')\n",
    "plt.show()"
   ]
  },
  {
   "cell_type": "code",
   "execution_count": 7,
   "metadata": {},
   "outputs": [
    {
     "data": {
      "image/png": "[encoded data removed]",
      "text/plain": [
       "<matplotlib.figure.Figure at 0x11012d470>"
      ]
     },
     "metadata": {},
     "output_type": "display_data"
    }
   ],
   "source": [
    "plt.hist(np.log1p(df['wages']), color = 'orange', edgecolor = 'black')\n",
    "plt.show()"
   ]
  },
  {
   "cell_type": "code",
   "execution_count": 8,
   "metadata": {},
   "outputs": [
    {
     "data": {
      "text/plain": [
       "(1184, 19)"
      ]
     },
     "execution_count": 8,
     "metadata": {},
     "output_type": "execute_result"
    }
   ],
   "source": [
    "df.shape"
   ]
  },
  {
   "cell_type": "code",
   "execution_count": 9,
   "metadata": {},
   "outputs": [
    {
     "data": {
      "text/plain": [
       "idnum                  0\n",
       "age                    0\n",
       "workerclass          378\n",
       "interestincome         0\n",
       "traveltimetowork     576\n",
       "vehicleoccupancy     775\n",
       "meansoftransport     543\n",
       "marital                0\n",
       "schoolenrollment       0\n",
       "educationalattain      0\n",
       "sex                    0\n",
       "workarrivaltime        0\n",
       "hoursworkperweek     465\n",
       "ancestry               0\n",
       "degreefield          766\n",
       "industryworkedin       0\n",
       "wages                  0\n",
       "industry               0\n",
       "workarrival            0\n",
       "dtype: int64"
      ]
     },
     "execution_count": 9,
     "metadata": {},
     "output_type": "execute_result"
    }
   ],
   "source": [
    "df.isnull().sum()"
   ]
  },
  {
   "cell_type": "code",
   "execution_count": 10,
   "metadata": {},
   "outputs": [
    {
     "data": {
      "text/html": [
       "<div>\n",
       "<style>\n",
       "    .dataframe thead tr:only-child th {\n",
       "        text-align: right;\n",
       "    }\n",
       "\n",
       "    .dataframe thead th {\n",
       "        text-align: left;\n",
       "    }\n",
       "\n",
       "    .dataframe tbody tr th {\n",
       "        vertical-align: top;\n",
       "    }\n",
       "</style>\n",
       "<table border=\"1\" class=\"dataframe\">\n",
       "  <thead>\n",
       "    <tr style=\"text-align: right;\">\n",
       "      <th></th>\n",
       "      <th>idnum</th>\n",
       "      <th>age</th>\n",
       "      <th>workerclass</th>\n",
       "      <th>interestincome</th>\n",
       "      <th>traveltimetowork</th>\n",
       "      <th>vehicleoccupancy</th>\n",
       "      <th>meansoftransport</th>\n",
       "      <th>marital</th>\n",
       "      <th>schoolenrollment</th>\n",
       "      <th>educationalattain</th>\n",
       "      <th>sex</th>\n",
       "      <th>workarrivaltime</th>\n",
       "      <th>hoursworkperweek</th>\n",
       "      <th>ancestry</th>\n",
       "      <th>degreefield</th>\n",
       "      <th>industryworkedin</th>\n",
       "      <th>wages</th>\n",
       "    </tr>\n",
       "  </thead>\n",
       "  <tbody>\n",
       "    <tr>\n",
       "      <th>count</th>\n",
       "      <td>1184.000000</td>\n",
       "      <td>1184.000000</td>\n",
       "      <td>806.000000</td>\n",
       "      <td>1184.000000</td>\n",
       "      <td>608.000000</td>\n",
       "      <td>409.000000</td>\n",
       "      <td>641.000000</td>\n",
       "      <td>1184.000000</td>\n",
       "      <td>1184.000000</td>\n",
       "      <td>1184.000000</td>\n",
       "      <td>1184.000000</td>\n",
       "      <td>1184.000000</td>\n",
       "      <td>719.000000</td>\n",
       "      <td>1184.000000</td>\n",
       "      <td>418.000000</td>\n",
       "      <td>1184.000000</td>\n",
       "      <td>1184.00000</td>\n",
       "    </tr>\n",
       "    <tr>\n",
       "      <th>mean</th>\n",
       "      <td>703.373311</td>\n",
       "      <td>48.086993</td>\n",
       "      <td>2.250620</td>\n",
       "      <td>2993.521959</td>\n",
       "      <td>32.745066</td>\n",
       "      <td>1.117359</td>\n",
       "      <td>2.847114</td>\n",
       "      <td>2.762669</td>\n",
       "      <td>1.182432</td>\n",
       "      <td>18.612331</td>\n",
       "      <td>1.535473</td>\n",
       "      <td>55.029561</td>\n",
       "      <td>38.229485</td>\n",
       "      <td>439.025338</td>\n",
       "      <td>4524.153110</td>\n",
       "      <td>4633.986486</td>\n",
       "      <td>35786.52027</td>\n",
       "    </tr>\n",
       "    <tr>\n",
       "      <th>std</th>\n",
       "      <td>408.865047</td>\n",
       "      <td>20.066332</td>\n",
       "      <td>1.936692</td>\n",
       "      <td>24243.640541</td>\n",
       "      <td>25.838284</td>\n",
       "      <td>0.491014</td>\n",
       "      <td>3.148665</td>\n",
       "      <td>1.826894</td>\n",
       "      <td>0.480028</td>\n",
       "      <td>2.709530</td>\n",
       "      <td>0.498951</td>\n",
       "      <td>60.862538</td>\n",
       "      <td>12.677769</td>\n",
       "      <td>403.688048</td>\n",
       "      <td>1633.451509</td>\n",
       "      <td>3694.669587</td>\n",
       "      <td>74676.01826</td>\n",
       "    </tr>\n",
       "    <tr>\n",
       "      <th>min</th>\n",
       "      <td>0.000000</td>\n",
       "      <td>15.000000</td>\n",
       "      <td>1.000000</td>\n",
       "      <td>-1400.000000</td>\n",
       "      <td>1.000000</td>\n",
       "      <td>1.000000</td>\n",
       "      <td>1.000000</td>\n",
       "      <td>1.000000</td>\n",
       "      <td>1.000000</td>\n",
       "      <td>15.000000</td>\n",
       "      <td>1.000000</td>\n",
       "      <td>0.000000</td>\n",
       "      <td>1.000000</td>\n",
       "      <td>3.000000</td>\n",
       "      <td>1103.000000</td>\n",
       "      <td>0.000000</td>\n",
       "      <td>0.00000</td>\n",
       "    </tr>\n",
       "    <tr>\n",
       "      <th>25%</th>\n",
       "      <td>351.750000</td>\n",
       "      <td>31.000000</td>\n",
       "      <td>1.000000</td>\n",
       "      <td>0.000000</td>\n",
       "      <td>15.000000</td>\n",
       "      <td>1.000000</td>\n",
       "      <td>1.000000</td>\n",
       "      <td>1.000000</td>\n",
       "      <td>1.000000</td>\n",
       "      <td>16.000000</td>\n",
       "      <td>1.000000</td>\n",
       "      <td>0.000000</td>\n",
       "      <td>35.000000</td>\n",
       "      <td>51.000000</td>\n",
       "      <td>2599.500000</td>\n",
       "      <td>0.000000</td>\n",
       "      <td>0.00000</td>\n",
       "    </tr>\n",
       "    <tr>\n",
       "      <th>50%</th>\n",
       "      <td>700.500000</td>\n",
       "      <td>47.000000</td>\n",
       "      <td>1.000000</td>\n",
       "      <td>0.000000</td>\n",
       "      <td>25.000000</td>\n",
       "      <td>1.000000</td>\n",
       "      <td>1.000000</td>\n",
       "      <td>2.000000</td>\n",
       "      <td>1.000000</td>\n",
       "      <td>19.000000</td>\n",
       "      <td>2.000000</td>\n",
       "      <td>55.000000</td>\n",
       "      <td>40.000000</td>\n",
       "      <td>261.000000</td>\n",
       "      <td>5200.000000</td>\n",
       "      <td>6180.000000</td>\n",
       "      <td>8500.00000</td>\n",
       "    </tr>\n",
       "    <tr>\n",
       "      <th>75%</th>\n",
       "      <td>1061.250000</td>\n",
       "      <td>63.000000</td>\n",
       "      <td>3.000000</td>\n",
       "      <td>0.000000</td>\n",
       "      <td>45.000000</td>\n",
       "      <td>1.000000</td>\n",
       "      <td>4.000000</td>\n",
       "      <td>5.000000</td>\n",
       "      <td>1.000000</td>\n",
       "      <td>21.000000</td>\n",
       "      <td>2.000000</td>\n",
       "      <td>98.000000</td>\n",
       "      <td>42.000000</td>\n",
       "      <td>921.000000</td>\n",
       "      <td>6107.000000</td>\n",
       "      <td>7872.500000</td>\n",
       "      <td>48000.00000</td>\n",
       "    </tr>\n",
       "    <tr>\n",
       "      <th>max</th>\n",
       "      <td>1403.000000</td>\n",
       "      <td>95.000000</td>\n",
       "      <td>9.000000</td>\n",
       "      <td>329000.000000</td>\n",
       "      <td>138.000000</td>\n",
       "      <td>8.000000</td>\n",
       "      <td>12.000000</td>\n",
       "      <td>5.000000</td>\n",
       "      <td>3.000000</td>\n",
       "      <td>24.000000</td>\n",
       "      <td>2.000000</td>\n",
       "      <td>282.000000</td>\n",
       "      <td>99.000000</td>\n",
       "      <td>999.000000</td>\n",
       "      <td>6402.000000</td>\n",
       "      <td>9920.000000</td>\n",
       "      <td>638000.00000</td>\n",
       "    </tr>\n",
       "  </tbody>\n",
       "</table>\n",
       "</div>"
      ],
      "text/plain": [
       "             idnum          age  workerclass  interestincome  \\\n",
       "count  1184.000000  1184.000000   806.000000     1184.000000   \n",
       "mean    703.373311    48.086993     2.250620     2993.521959   \n",
       "std     408.865047    20.066332     1.936692    24243.640541   \n",
       "min       0.000000    15.000000     1.000000    -1400.000000   \n",
       "25%     351.750000    31.000000     1.000000        0.000000   \n",
       "50%     700.500000    47.000000     1.000000        0.000000   \n",
       "75%    1061.250000    63.000000     3.000000        0.000000   \n",
       "max    1403.000000    95.000000     9.000000   329000.000000   \n",
       "\n",
       "       traveltimetowork  vehicleoccupancy  meansoftransport      marital  \\\n",
       "count        608.000000        409.000000        641.000000  1184.000000   \n",
       "mean          32.745066          1.117359          2.847114     2.762669   \n",
       "std           25.838284          0.491014          3.148665     1.826894   \n",
       "min            1.000000          1.000000          1.000000     1.000000   \n",
       "25%           15.000000          1.000000          1.000000     1.000000   \n",
       "50%           25.000000          1.000000          1.000000     2.000000   \n",
       "75%           45.000000          1.000000          4.000000     5.000000   \n",
       "max          138.000000          8.000000         12.000000     5.000000   \n",
       "\n",
       "       schoolenrollment  educationalattain          sex  workarrivaltime  \\\n",
       "count       1184.000000        1184.000000  1184.000000      1184.000000   \n",
       "mean           1.182432          18.612331     1.535473        55.029561   \n",
       "std            0.480028           2.709530     0.498951        60.862538   \n",
       "min            1.000000          15.000000     1.000000         0.000000   \n",
       "25%            1.000000          16.000000     1.000000         0.000000   \n",
       "50%            1.000000          19.000000     2.000000        55.000000   \n",
       "75%            1.000000          21.000000     2.000000        98.000000   \n",
       "max            3.000000          24.000000     2.000000       282.000000   \n",
       "\n",
       "       hoursworkperweek     ancestry  degreefield  industryworkedin  \\\n",
       "count        719.000000  1184.000000   418.000000       1184.000000   \n",
       "mean          38.229485   439.025338  4524.153110       4633.986486   \n",
       "std           12.677769   403.688048  1633.451509       3694.669587   \n",
       "min            1.000000     3.000000  1103.000000          0.000000   \n",
       "25%           35.000000    51.000000  2599.500000          0.000000   \n",
       "50%           40.000000   261.000000  5200.000000       6180.000000   \n",
       "75%           42.000000   921.000000  6107.000000       7872.500000   \n",
       "max           99.000000   999.000000  6402.000000       9920.000000   \n",
       "\n",
       "              wages  \n",
       "count    1184.00000  \n",
       "mean    35786.52027  \n",
       "std     74676.01826  \n",
       "min         0.00000  \n",
       "25%         0.00000  \n",
       "50%      8500.00000  \n",
       "75%     48000.00000  \n",
       "max    638000.00000  "
      ]
     },
     "execution_count": 10,
     "metadata": {},
     "output_type": "execute_result"
    }
   ],
   "source": [
    "df.describe()"
   ]
  },
  {
   "cell_type": "markdown",
   "metadata": {},
   "source": [
    "### Categorical Variables"
   ]
  },
  {
   "cell_type": "code",
   "execution_count": 11,
   "metadata": {
    "collapsed": true
   },
   "outputs": [],
   "source": [
    "df['workerclass'].replace(np.nan,0,inplace=True)\n",
    "df['vehicleoccupancy'].replace(np.nan,77,inplace=True)\n",
    "df['meansoftransport'].replace(np.nan,0,inplace=True)\n",
    "df['schoolenrollment'].replace(np.nan,0,inplace=True)\n",
    "df['educationalattain'].replace(np.nan,0,inplace=True)\n",
    "df['workarrivaltime'].replace(np.nan,0,inplace=True)\n",
    "df['degreefield'].replace(np.nan,0,inplace=True)\n",
    "df['industry'].replace(np.nan,0,inplace=True)"
   ]
  },
  {
   "cell_type": "markdown",
   "metadata": {},
   "source": [
    "### Numerical Variables"
   ]
  },
  {
   "cell_type": "code",
   "execution_count": 12,
   "metadata": {
    "collapsed": true
   },
   "outputs": [],
   "source": [
    "df['interestincome'].replace(np.nan,0,inplace=True)\n",
    "df['traveltimetowork'].replace(np.nan,0,inplace=True)\n",
    "df['hoursworkperweek'].replace(np.nan,0,inplace=True)"
   ]
  },
  {
   "cell_type": "markdown",
   "metadata": {},
   "source": [
    "###  Target Variable"
   ]
  },
  {
   "cell_type": "code",
   "execution_count": 13,
   "metadata": {
    "collapsed": true
   },
   "outputs": [],
   "source": [
    "df['wages'].replace(np.nan,0,inplace=True)"
   ]
  },
  {
   "cell_type": "markdown",
   "metadata": {},
   "source": [
    "### One Hot Encoding"
   ]
  },
  {
   "cell_type": "code",
   "execution_count": 14,
   "metadata": {
    "collapsed": true
   },
   "outputs": [],
   "source": [
    "workerclass = ['workerclass_0.0','workerclass_1.0','workerclass_2.0','workerclass_3.0','workerclass_4.0',\n",
    "               'workerclass_5.0','workerclass_6.0','workerclass_7.0','workerclass_8.0','workerclass_9.0']\n",
    "vehicleoccupancy=['vehicleoccupancy_1.0','vehicleoccupancy_2.0','vehicleoccupancy_3.0','vehicleoccupancy_4.0','vehicleoccupancy_5.0',\n",
    "                  'vehicleoccupancy_6.0','vehicleoccupancy_7.0','vehicleoccupancy_8.0','vehicleoccupancy_9.0','vehicleoccupancy_10.0',\n",
    "                  'vehicleoccupancy_77.0']\n",
    "meansoftransport = ['meansoftransport_0.0',\n",
    "                    'meansoftransport_1.0',\n",
    "                    'meansoftransport_2.0',\n",
    "                    'meansoftransport_3.0',\n",
    "                    'meansoftransport_4.0',\n",
    "                    'meansoftransport_5.0',\n",
    "                    'meansoftransport_6.0',\n",
    "                    'meansoftransport_7.0',\n",
    "                    'meansoftransport_8.0',\n",
    "                    'meansoftransport_9.0',\n",
    "                    'meansoftransport_10.0',\n",
    "                    'meansoftransport_11.0',\n",
    "                    'meansoftransport_12.0'\n",
    "                   ]\n",
    "\n",
    "schoolenrollment = [\n",
    "                    'schoolenrollment_0.0',\n",
    "                    'schoolenrollment_1.0',\n",
    "                    'schoolenrollment_2.0',\n",
    "                    'schoolenrollment_3.0'\n",
    "                    ]\n",
    "educationalattain = [\n",
    "                    'educationalattain_0.0',\n",
    "                    'educationalattain_15.0',\n",
    "                    'educationalattain_16.0',\n",
    "                    'educationalattain_17.0',\n",
    "                    'educationalattain_18.0',\n",
    "                    'educationalattain_19.0',\n",
    "                    'educationalattain_20.0',\n",
    "                    'educationalattain_21.0',\n",
    "                    'educationalattain_22.0',\n",
    "                    'educationalattain_23.0',\n",
    "                    'educationalattain_24.0'\n",
    "                    ]\n",
    "marital = [\n",
    "            'marital_1.0',\n",
    "            'marital_2.0',\n",
    "            'marital_3.0',\n",
    "            'marital_4.0',\n",
    "            'marital_5.0'\n",
    "        ]"
   ]
  },
  {
   "cell_type": "code",
   "execution_count": 15,
   "metadata": {
    "collapsed": true
   },
   "outputs": [],
   "source": [
    "workarrivaltime = [\n",
    "    'workarrivaltime_0.0', 'workarrivaltime_1.0', 'workarrivaltime_2.0', 'workarrivaltime_3.0', \n",
    "    'workarrivaltime_4.0', 'workarrivaltime_5.0', 'workarrivaltime_6.0', 'workarrivaltime_7.0', \n",
    "    'workarrivaltime_8.0', 'workarrivaltime_9.0', 'workarrivaltime_10.0', 'workarrivaltime_11.0', \n",
    "    'workarrivaltime_12.0', 'workarrivaltime_13.0', 'workarrivaltime_14.0', 'workarrivaltime_15.0', \n",
    "    'workarrivaltime_16.0', 'workarrivaltime_17.0', 'workarrivaltime_18.0', 'workarrivaltime_19.0', \n",
    "    'workarrivaltime_20.0', 'workarrivaltime_21.0', 'workarrivaltime_22.0', 'workarrivaltime_23.0', \n",
    "    'workarrivaltime_24.0', 'workarrivaltime_25.0', 'workarrivaltime_26.0', 'workarrivaltime_27.0', \n",
    "    'workarrivaltime_28.0', 'workarrivaltime_29.0', 'workarrivaltime_30.0', 'workarrivaltime_31.0', \n",
    "    'workarrivaltime_32.0', 'workarrivaltime_33.0', 'workarrivaltime_34.0', 'workarrivaltime_35.0', \n",
    "    'workarrivaltime_36.0', 'workarrivaltime_37.0', 'workarrivaltime_38.0', 'workarrivaltime_39.0', \n",
    "    'workarrivaltime_40.0', 'workarrivaltime_41.0', 'workarrivaltime_42.0', 'workarrivaltime_43.0', \n",
    "    'workarrivaltime_44.0', 'workarrivaltime_45.0', 'workarrivaltime_46.0', 'workarrivaltime_47.0', \n",
    "    'workarrivaltime_48.0', 'workarrivaltime_49.0', 'workarrivaltime_50.0', 'workarrivaltime_51.0', \n",
    "    'workarrivaltime_52.0', 'workarrivaltime_53.0', 'workarrivaltime_54.0', 'workarrivaltime_55.0', \n",
    "    'workarrivaltime_56.0', 'workarrivaltime_57.0', 'workarrivaltime_58.0', 'workarrivaltime_59.0', \n",
    "    'workarrivaltime_60.0', 'workarrivaltime_61.0', 'workarrivaltime_62.0', 'workarrivaltime_63.0', \n",
    "    'workarrivaltime_64.0', 'workarrivaltime_65.0', 'workarrivaltime_66.0', 'workarrivaltime_67.0', \n",
    "    'workarrivaltime_68.0', 'workarrivaltime_69.0', 'workarrivaltime_70.0', 'workarrivaltime_71.0', \n",
    "    'workarrivaltime_72.0', 'workarrivaltime_73.0', 'workarrivaltime_74.0', 'workarrivaltime_75.0', \n",
    "    'workarrivaltime_76.0', 'workarrivaltime_77.0', 'workarrivaltime_78.0', 'workarrivaltime_79.0', \n",
    "    'workarrivaltime_80.0', 'workarrivaltime_81.0', 'workarrivaltime_82.0', 'workarrivaltime_83.0', \n",
    "    'workarrivaltime_84.0', 'workarrivaltime_85.0', 'workarrivaltime_86.0', 'workarrivaltime_87.0', \n",
    "    'workarrivaltime_88.0', 'workarrivaltime_89.0', 'workarrivaltime_90.0', 'workarrivaltime_91.0', \n",
    "    'workarrivaltime_92.0', 'workarrivaltime_93.0', 'workarrivaltime_94.0', 'workarrivaltime_95.0', \n",
    "    'workarrivaltime_96.0', 'workarrivaltime_97.0', 'workarrivaltime_98.0', 'workarrivaltime_99.0', \n",
    "    'workarrivaltime_100.0', 'workarrivaltime_101.0', 'workarrivaltime_102.0', 'workarrivaltime_103.0', \n",
    "    'workarrivaltime_104.0', 'workarrivaltime_105.0', 'workarrivaltime_106.0', 'workarrivaltime_107.0', \n",
    "    'workarrivaltime_108.0', 'workarrivaltime_109.0', 'workarrivaltime_110.0', 'workarrivaltime_111.0', \n",
    "    'workarrivaltime_112.0', 'workarrivaltime_113.0', 'workarrivaltime_114.0', 'workarrivaltime_115.0', \n",
    "    'workarrivaltime_116.0', 'workarrivaltime_117.0', 'workarrivaltime_118.0', 'workarrivaltime_119.0', \n",
    "    'workarrivaltime_120.0', 'workarrivaltime_121.0', 'workarrivaltime_122.0', 'workarrivaltime_123.0', \n",
    "    'workarrivaltime_124.0', 'workarrivaltime_125.0', 'workarrivaltime_126.0', 'workarrivaltime_127.0', \n",
    "    'workarrivaltime_128.0', 'workarrivaltime_129.0', 'workarrivaltime_130.0', 'workarrivaltime_131.0', \n",
    "    'workarrivaltime_132.0', 'workarrivaltime_133.0', 'workarrivaltime_134.0', 'workarrivaltime_135.0', \n",
    "    'workarrivaltime_136.0', 'workarrivaltime_137.0', 'workarrivaltime_138.0', 'workarrivaltime_139.0', \n",
    "    'workarrivaltime_140.0', 'workarrivaltime_141.0', 'workarrivaltime_142.0', 'workarrivaltime_143.0', \n",
    "    'workarrivaltime_144.0', 'workarrivaltime_145.0', 'workarrivaltime_146.0', 'workarrivaltime_147.0', \n",
    "    'workarrivaltime_148.0', 'workarrivaltime_149.0', 'workarrivaltime_150.0', 'workarrivaltime_151.0', \n",
    "    'workarrivaltime_152.0', 'workarrivaltime_153.0', 'workarrivaltime_154.0', 'workarrivaltime_155.0', \n",
    "    'workarrivaltime_156.0', 'workarrivaltime_157.0', 'workarrivaltime_158.0', 'workarrivaltime_159.0', \n",
    "    'workarrivaltime_160.0', 'workarrivaltime_161.0', 'workarrivaltime_162.0', 'workarrivaltime_163.0', \n",
    "    'workarrivaltime_164.0', 'workarrivaltime_165.0', 'workarrivaltime_166.0', 'workarrivaltime_167.0', \n",
    "    'workarrivaltime_168.0', 'workarrivaltime_169.0', 'workarrivaltime_170.0', 'workarrivaltime_171.0', \n",
    "    'workarrivaltime_172.0', 'workarrivaltime_173.0', 'workarrivaltime_174.0', 'workarrivaltime_175.0', \n",
    "    'workarrivaltime_176.0', 'workarrivaltime_177.0', 'workarrivaltime_178.0', 'workarrivaltime_179.0', \n",
    "    'workarrivaltime_180.0', 'workarrivaltime_181.0', 'workarrivaltime_182.0', 'workarrivaltime_183.0', \n",
    "    'workarrivaltime_184.0', 'workarrivaltime_185.0', 'workarrivaltime_186.0', 'workarrivaltime_187.0', \n",
    "    'workarrivaltime_188.0', 'workarrivaltime_189.0', 'workarrivaltime_190.0', 'workarrivaltime_191.0', \n",
    "    'workarrivaltime_192.0', 'workarrivaltime_193.0', 'workarrivaltime_194.0', 'workarrivaltime_195.0', \n",
    "    'workarrivaltime_196.0', 'workarrivaltime_197.0', 'workarrivaltime_198.0', 'workarrivaltime_199.0', \n",
    "    'workarrivaltime_200.0', 'workarrivaltime_201.0', 'workarrivaltime_202.0', 'workarrivaltime_203.0', \n",
    "    'workarrivaltime_204.0', 'workarrivaltime_205.0', 'workarrivaltime_206.0', 'workarrivaltime_207.0', \n",
    "    'workarrivaltime_208.0', 'workarrivaltime_209.0', 'workarrivaltime_210.0', 'workarrivaltime_211.0', \n",
    "    'workarrivaltime_212.0', 'workarrivaltime_213.0', 'workarrivaltime_214.0', 'workarrivaltime_215.0', \n",
    "    'workarrivaltime_216.0', 'workarrivaltime_217.0', 'workarrivaltime_218.0', 'workarrivaltime_219.0', \n",
    "    'workarrivaltime_220.0', 'workarrivaltime_221.0', 'workarrivaltime_222.0', 'workarrivaltime_223.0', \n",
    "    'workarrivaltime_224.0', 'workarrivaltime_225.0', 'workarrivaltime_226.0', 'workarrivaltime_227.0', \n",
    "    'workarrivaltime_228.0', 'workarrivaltime_229.0', 'workarrivaltime_230.0', 'workarrivaltime_231.0', \n",
    "    'workarrivaltime_232.0', 'workarrivaltime_233.0', 'workarrivaltime_234.0', 'workarrivaltime_235.0', \n",
    "    'workarrivaltime_236.0', 'workarrivaltime_237.0', 'workarrivaltime_238.0', 'workarrivaltime_239.0', \n",
    "    'workarrivaltime_240.0', 'workarrivaltime_241.0', 'workarrivaltime_242.0', 'workarrivaltime_243.0', \n",
    "    'workarrivaltime_244.0', 'workarrivaltime_245.0', 'workarrivaltime_246.0', 'workarrivaltime_247.0', \n",
    "    'workarrivaltime_248.0', 'workarrivaltime_249.0', 'workarrivaltime_250.0', 'workarrivaltime_251.0', \n",
    "    'workarrivaltime_252.0', 'workarrivaltime_253.0', 'workarrivaltime_254.0', 'workarrivaltime_255.0', \n",
    "    'workarrivaltime_256.0', 'workarrivaltime_257.0', 'workarrivaltime_258.0', 'workarrivaltime_259.0', \n",
    "    'workarrivaltime_260.0', 'workarrivaltime_261.0', 'workarrivaltime_262.0', 'workarrivaltime_263.0', \n",
    "    'workarrivaltime_264.0', 'workarrivaltime_265.0', 'workarrivaltime_266.0', 'workarrivaltime_267.0', \n",
    "    'workarrivaltime_268.0', 'workarrivaltime_269.0', 'workarrivaltime_270.0', 'workarrivaltime_271.0', \n",
    "    'workarrivaltime_272.0', 'workarrivaltime_273.0', 'workarrivaltime_274.0', 'workarrivaltime_275.0', \n",
    "    'workarrivaltime_276.0', 'workarrivaltime_277.0', 'workarrivaltime_278.0', 'workarrivaltime_279.0', \n",
    "    'workarrivaltime_280.0', 'workarrivaltime_281.0', 'workarrivaltime_282.0', 'workarrivaltime_283.0', \n",
    "    'workarrivaltime_284.0', 'workarrivaltime_285.0'\n",
    "]"
   ]
  },
  {
   "cell_type": "code",
   "execution_count": 16,
   "metadata": {
    "collapsed": true
   },
   "outputs": [],
   "source": [
    "ancestry = [\n",
    "    'ancestry_1.0', 'ancestry_3.0', 'ancestry_5.0', 'ancestry_8.0', 'ancestry_9.0', 'ancestry_11.0', 'ancestry_12.0', \n",
    "    'ancestry_20.0', 'ancestry_21.0', 'ancestry_22.0', 'ancestry_24.0', 'ancestry_26.0', 'ancestry_32.0', \n",
    "    'ancestry_40.0', 'ancestry_46.0', 'ancestry_49.0', 'ancestry_50.0', 'ancestry_51.0', 'ancestry_68.0', \n",
    "    'ancestry_77.0', 'ancestry_78.0', 'ancestry_82.0', 'ancestry_84.0', 'ancestry_87.0', 'ancestry_88.0', \n",
    "    'ancestry_89.0', 'ancestry_91.0', 'ancestry_94.0', 'ancestry_97.0', 'ancestry_98.0', 'ancestry_99.0', \n",
    "    'ancestry_100.0', 'ancestry_102.0', 'ancestry_103.0', 'ancestry_109.0', 'ancestry_111.0', 'ancestry_112.0', \n",
    "    'ancestry_114.0', 'ancestry_115.0', 'ancestry_122.0', 'ancestry_124.0', 'ancestry_125.0', 'ancestry_128.0', \n",
    "    'ancestry_129.0', 'ancestry_130.0', 'ancestry_131.0','ancestry_142.0', 'ancestry_144.0', 'ancestry_146.0'\n",
    "    'ancestry_148.0', 'ancestry_152.0', \n",
    "    'ancestry_153.0', 'ancestry_154.0', 'ancestry_168.0', 'ancestry_169.0', 'ancestry_170.0', 'ancestry_171.0', \n",
    "    'ancestry_176.0', 'ancestry_177.0', 'ancestry_178.0', 'ancestry_179.0', 'ancestry_181.0', 'ancestry_183.0', \n",
    "    'ancestry_185.0', 'ancestry_187.0', 'ancestry_190.0', 'ancestry_194.0', 'ancestry_195.0', 'ancestry_200.0', \n",
    "    'ancestry_210.0', 'ancestry_211.0', 'ancestry_212.0', 'ancestry_213.0', 'ancestry_215.0', 'ancestry_218.0', \n",
    "    'ancestry_219.0', 'ancestry_221.0', 'ancestry_222.0', 'ancestry_223.0', 'ancestry_224.0', 'ancestry_225.0', \n",
    "    'ancestry_226.0', 'ancestry_227.0', 'ancestry_231.0', 'ancestry_232.0', 'ancestry_233.0', 'ancestry_234.0', \n",
    "    'ancestry_235.0', 'ancestry_236.0', 'ancestry_237.0', 'ancestry_238.0', 'ancestry_239.0', 'ancestry_249.0', \n",
    "    'ancestry_250.0', 'ancestry_251.0', 'ancestry_252.0', 'ancestry_261.0', 'ancestry_271.0', 'ancestry_275.0', \n",
    "    'ancestry_290.0', 'ancestry_291.0', 'ancestry_295.0', 'ancestry_300.0', 'ancestry_301.0', 'ancestry_302.0', \n",
    "    'ancestry_308.0', 'ancestry_310.0', 'ancestry_314.0', 'ancestry_322.0', 'ancestry_325.0', 'ancestry_329.0', \n",
    "    'ancestry_330.0', 'ancestry_331.0', 'ancestry_335.0', 'ancestry_336.0', 'ancestry_359.0', 'ancestry_360.0', \n",
    "    'ancestry_370.0', 'ancestry_400.0', 'ancestry_402.0', 'ancestry_406.0', 'ancestry_411.0', 'ancestry_416.0', \n",
    "    'ancestry_417.0', 'ancestry_419.0', 'ancestry_421.0', 'ancestry_425.0', 'ancestry_427.0', 'ancestry_429.0', \n",
    "    'ancestry_431.0', 'ancestry_434.0', 'ancestry_435.0', 'ancestry_442.0', 'ancestry_465.0', 'ancestry_483.0', \n",
    "    'ancestry_484.0', 'ancestry_490.0', 'ancestry_495.0', 'ancestry_496.0', 'ancestry_499.0', 'ancestry_508.0', \n",
    "    'ancestry_510.0', 'ancestry_515.0', 'ancestry_522.0', 'ancestry_523.0', 'ancestry_529.0', 'ancestry_534.0', \n",
    "    'ancestry_541.0', 'ancestry_553.0', 'ancestry_564.0', 'ancestry_566.0', 'ancestry_568.0', 'ancestry_570.0',\n",
    "    'ancestry_576.0', 'ancestry_587.0', 'ancestry_588.0', 'ancestry_598.0', 'ancestry_599.0', 'ancestry_600.0', \n",
    "    'ancestry_603.0', 'ancestry_607.0', 'ancestry_609.0', 'ancestry_615.0', 'ancestry_618.0', 'ancestry_620.0', \n",
    "    'ancestry_650.0', 'ancestry_680.0', 'ancestry_690.0', 'ancestry_700.0', 'ancestry_703.0', 'ancestry_706.0', \n",
    "    'ancestry_707.0', 'ancestry_712.0', 'ancestry_714.0', 'ancestry_720.0', 'ancestry_730.0', 'ancestry_740.0', \n",
    "    'ancestry_748.0', 'ancestry_750.0', 'ancestry_765.0', 'ancestry_768.0', 'ancestry_770.0', 'ancestry_776.0', \n",
    "    'ancestry_782.0', 'ancestry_785.0', 'ancestry_793.0', 'ancestry_795.0', 'ancestry_799.0', 'ancestry_800.0', \n",
    "    'ancestry_803.0', 'ancestry_808.0', 'ancestry_811.0', 'ancestry_814.0', 'ancestry_815.0', 'ancestry_820.0', \n",
    "    'ancestry_821.0', 'ancestry_822.0', 'ancestry_825.0', 'ancestry_841.0', 'ancestry_850.0', 'ancestry_899.0', \n",
    "    'ancestry_900.0', 'ancestry_901.0', 'ancestry_902.0', 'ancestry_903.0', 'ancestry_904.0', 'ancestry_907.0', \n",
    "    'ancestry_913.0', 'ancestry_914.0', 'ancestry_917.0', 'ancestry_918.0', 'ancestry_919.0', 'ancestry_920.0', \n",
    "    'ancestry_921.0', 'ancestry_922.0', 'ancestry_924.0', 'ancestry_925.0', 'ancestry_927.0', 'ancestry_929.0', \n",
    "    'ancestry_931.0', 'ancestry_935.0', 'ancestry_937.0', 'ancestry_939.0', 'ancestry_940.0', 'ancestry_983.0', \n",
    "    'ancestry_994.0', 'ancestry_995.0', 'ancestry_996.0', 'ancestry_997.0', 'ancestry_998.0', 'ancestry_999.0']"
   ]
  },
  {
   "cell_type": "code",
   "execution_count": 17,
   "metadata": {
    "collapsed": true
   },
   "outputs": [],
   "source": [
    "degreefield = [\n",
    "    'degreefield_0.0', 'degreefield_1100.0', 'degreefield_1101.0', 'degreefield_1102.0', 'degreefield_1103.0',\n",
    "    'degreefield_1104.0', 'degreefield_1105.0', 'degreefield_1106.0', 'degreefield_1199.0', 'degreefield_1301.0',\n",
    "    'degreefield_1302.0', 'degreefield_1303.0', 'degreefield_1401.0', 'degreefield_1501.0', 'degreefield_1901.0',\n",
    "    'degreefield_1902.0', 'degreefield_1903.0', 'degreefield_1904.0', 'degreefield_2001.0', 'degreefield_2100.0',\n",
    "    'degreefield_2101.0', 'degreefield_2102.0', 'degreefield_2105.0', 'degreefield_2106.0', 'degreefield_2107.0',\n",
    "    'degreefield_2201.0', 'degreefield_2300.0', 'degreefield_2301.0', 'degreefield_2303.0', 'degreefield_2304.0',\n",
    "    'degreefield_2305.0', 'degreefield_2306.0', 'degreefield_2307.0', 'degreefield_2308.0', 'degreefield_2309.0',\n",
    "    'degreefield_2310.0', 'degreefield_2311.0', 'degreefield_2312.0', 'degreefield_2313.0', 'degreefield_2314.0',\n",
    "    'degreefield_2399.0', 'degreefield_2400.0', 'degreefield_2401.0', 'degreefield_2402.0', 'degreefield_2403.0',\n",
    "    'degreefield_2404.0', 'degreefield_2405.0', 'degreefield_2406.0', 'degreefield_2407.0', 'degreefield_2408.0',\n",
    "    'degreefield_2409.0', 'degreefield_2410.0', 'degreefield_2411.0', 'degreefield_2412.0', 'degreefield_2413.0',\n",
    "    'degreefield_2414.0', 'degreefield_2415.0', 'degreefield_2416.0', 'degreefield_2417.0', 'degreefield_2418.0',\n",
    "    'degreefield_2419.0', 'degreefield_2499.0', 'degreefield_2500.0', 'degreefield_2501.0', 'degreefield_2502.0',\n",
    "    'degreefield_2503.0', 'degreefield_2504.0', 'degreefield_2599.0', 'degreefield_2601.0', 'degreefield_2602.0',\n",
    "    'degreefield_2603.0', 'degreefield_2901.0', 'degreefield_3201.0', 'degreefield_3202.0', 'degreefield_3301.0',\n",
    "    'degreefield_3302.0', 'degreefield_3401.0', 'degreefield_3402.0', 'degreefield_3501.0', 'degreefield_3600.0',\n",
    "    'degreefield_3601.0', 'degreefield_3602.0', 'degreefield_3603.0', 'degreefield_3604.0', 'degreefield_3605.0',\n",
    "    'degreefield_3606.0', 'degreefield_3607.0', 'degreefield_3608.0', 'degreefield_3609.0', 'degreefield_3611.0',\n",
    "    'degreefield_3699.0', 'degreefield_3700.0', 'degreefield_3701.0', 'degreefield_3702.0', 'degreefield_3801.0',\n",
    "    'degreefield_4000.0', 'degreefield_4001.0', 'degreefield_4002.0', 'degreefield_4005.0', 'degreefield_4006.0',\n",
    "    'degreefield_4007.0', 'degreefield_4101.0', 'degreefield_4801.0', 'degreefield_4901.0', 'degreefield_5000.0',\n",
    "    'degreefield_5001.0', 'degreefield_5002.0', 'degreefield_5003.0', 'degreefield_5004.0', 'degreefield_5005.0',\n",
    "    'degreefield_5006.0', 'degreefield_5007.0', 'degreefield_5008.0', 'degreefield_5098.0', 'degreefield_5102.0',\n",
    "    'degreefield_5200.0', 'degreefield_5201.0', 'degreefield_5202.0', 'degreefield_5203.0', 'degreefield_5205.0',\n",
    "    'degreefield_5206.0', 'degreefield_5299.0', 'degreefield_5301.0', 'degreefield_5401.0', 'degreefield_5402.0',\n",
    "    'degreefield_5403.0', 'degreefield_5404.0', 'degreefield_5500.0', 'degreefield_5501.0', 'degreefield_5502.0', \n",
    "    'degreefield_5503.0', 'degreefield_5504.0', 'degreefield_5505.0', 'degreefield_5506.0', 'degreefield_5507.0',\n",
    "    'degreefield_5599.0', 'degreefield_5601.0', 'degreefield_5701.0', 'degreefield_5901.0', 'degreefield_6000.0',\n",
    "    'degreefield_6001.0', 'degreefield_6002.0', 'degreefield_6003.0', 'degreefield_6004.0', 'degreefield_6005.0',\n",
    "    'degreefield_6006.0', 'degreefield_6007.0', 'degreefield_6099.0', 'degreefield_6100.0', 'degreefield_6102.0',\n",
    "    'degreefield_6103.0', 'degreefield_6104.0', 'degreefield_6105.0', 'degreefield_6106.0', 'degreefield_6107.0',\n",
    "    'degreefield_6108.0', 'degreefield_6109.0', 'degreefield_6110.0', 'degreefield_6199.0', 'degreefield_6200.0',\n",
    "    'degreefield_6201.0', 'degreefield_6202.0', 'degreefield_6203.0', 'degreefield_6204.0', 'degreefield_6205.0',\n",
    "    'degreefield_6206.0', 'degreefield_6207.0', 'degreefield_6209.0', 'degreefield_6210.0', 'degreefield_6211.0',\n",
    "    'degreefield_6212.0', 'degreefield_6299.0', 'degreefield_6402.0', 'degreefield_6403.0']"
   ]
  },
  {
   "cell_type": "code",
   "execution_count": 18,
   "metadata": {
    "collapsed": true
   },
   "outputs": [],
   "source": [
    "industryworkedin = [\n",
    "    'industryworkedin_0.0', 'industryworkedin_170.0', 'industryworkedin_180.0', 'industryworkedin_190.0', \n",
    "    'industryworkedin_270.0', 'industryworkedin_280.0', 'industryworkedin_290.0', 'industryworkedin_370.0', \n",
    "    'industryworkedin_380.0', 'industryworkedin_390.0', 'industryworkedin_470.0', 'industryworkedin_490.0', \n",
    "    'industryworkedin_570.0', 'industryworkedin_580.0', 'industryworkedin_590.0', 'industryworkedin_670.0', \n",
    "    'industryworkedin_680.0', 'industryworkedin_690.0', 'industryworkedin_770.0', 'industryworkedin_1070.0', \n",
    "    'industryworkedin_1080.0', 'industryworkedin_1090.0', 'industryworkedin_1170.0', 'industryworkedin_1180.0', \n",
    "    'industryworkedin_1190.0', 'industryworkedin_1270.0', 'industryworkedin_1280.0', 'industryworkedin_1290.0', \n",
    "    'industryworkedin_1370.0', 'industryworkedin_1390.0', 'industryworkedin_1470.0', 'industryworkedin_1480.0', \n",
    "    'industryworkedin_1490.0', 'industryworkedin_1570.0', 'industryworkedin_1590.0', 'industryworkedin_1670.0', \n",
    "    'industryworkedin_1680.0', 'industryworkedin_1690.0', 'industryworkedin_1770.0', 'industryworkedin_1790.0', \n",
    "    'industryworkedin_1870.0', 'industryworkedin_1880.0', 'industryworkedin_1890.0', 'industryworkedin_1990.0', \n",
    "    'industryworkedin_2070.0', 'industryworkedin_2090.0', 'industryworkedin_2170.0', 'industryworkedin_2180.0', \n",
    "    'industryworkedin_2190.0', 'industryworkedin_2270.0', 'industryworkedin_2280.0', 'industryworkedin_2290.0', \n",
    "    'industryworkedin_2370.0', 'industryworkedin_2380.0', 'industryworkedin_2390.0', 'industryworkedin_2470.0', \n",
    "    'industryworkedin_2480.0', 'industryworkedin_2490.0', 'industryworkedin_2570.0', 'industryworkedin_2590.0', \n",
    "    'industryworkedin_2670.0', 'industryworkedin_2680.0', 'industryworkedin_2690.0', 'industryworkedin_2770.0', \n",
    "    'industryworkedin_2780.0', 'industryworkedin_2790.0', 'industryworkedin_2870.0', 'industryworkedin_2880.0', \n",
    "    'industryworkedin_2890.0', 'industryworkedin_2970.0', 'industryworkedin_2980.0', 'industryworkedin_2990.0', \n",
    "    'industryworkedin_3070.0', 'industryworkedin_3080.0', 'industryworkedin_3095.0', 'industryworkedin_3170.0', \n",
    "    'industryworkedin_3180.0', 'industryworkedin_3190.0', 'industryworkedin_3365.0', 'industryworkedin_3370.0', \n",
    "    'industryworkedin_3380.0', 'industryworkedin_3390.0', 'industryworkedin_3470.0', 'industryworkedin_3490.0', \n",
    "    'industryworkedin_3570.0', 'industryworkedin_3580.0', 'industryworkedin_3590.0', 'industryworkedin_3670.0', \n",
    "    'industryworkedin_3680.0', 'industryworkedin_3690.0', 'industryworkedin_3770.0', 'industryworkedin_3780.0', \n",
    "    'industryworkedin_3790.0', 'industryworkedin_3875.0', 'industryworkedin_3895.0', 'industryworkedin_3960.0', \n",
    "    'industryworkedin_3970.0', 'industryworkedin_3980.0', 'industryworkedin_3990.0', 'industryworkedin_4070.0', \n",
    "    'industryworkedin_4080.0', 'industryworkedin_4090.0', 'industryworkedin_4170.0', 'industryworkedin_4180.0', \n",
    "    'industryworkedin_4195.0', 'industryworkedin_4265.0', 'industryworkedin_4270.0', 'industryworkedin_4280.0', \n",
    "    'industryworkedin_4290.0', 'industryworkedin_4370.0', 'industryworkedin_4380.0', 'industryworkedin_4390.0', \n",
    "    'industryworkedin_4470.0', 'industryworkedin_4480.0', 'industryworkedin_4490.0', 'industryworkedin_4560.0', \n",
    "    'industryworkedin_4570.0', 'industryworkedin_4580.0', 'industryworkedin_4585.0', 'industryworkedin_4590.0', \n",
    "    'industryworkedin_4670.0', 'industryworkedin_4680.0', 'industryworkedin_4690.0', 'industryworkedin_4770.0', \n",
    "    'industryworkedin_4780.0', 'industryworkedin_4795.0', 'industryworkedin_4870.0', 'industryworkedin_4880.0', \n",
    "    'industryworkedin_4890.0', 'industryworkedin_4970.0', 'industryworkedin_4980.0', 'industryworkedin_4990.0', \n",
    "    'industryworkedin_5070.0', 'industryworkedin_5080.0', 'industryworkedin_5090.0', 'industryworkedin_5170.0', \n",
    "    'industryworkedin_5180.0', 'industryworkedin_5190.0', 'industryworkedin_5275.0', 'industryworkedin_5280.0', \n",
    "    'industryworkedin_5295.0', 'industryworkedin_5370.0', 'industryworkedin_5380.0', 'industryworkedin_5390.0', \n",
    "    'industryworkedin_5470.0', 'industryworkedin_5480.0', 'industryworkedin_5490.0', 'industryworkedin_5570.0', \n",
    "    'industryworkedin_5580.0', 'industryworkedin_5590.0', 'industryworkedin_5591.0', 'industryworkedin_5592.0', \n",
    "    'industryworkedin_5670.0', 'industryworkedin_5680.0', 'industryworkedin_5690.0', 'industryworkedin_5790.0', \n",
    "    'industryworkedin_6070.0', 'industryworkedin_6080.0', 'industryworkedin_6090.0', 'industryworkedin_6170.0', \n",
    "    'industryworkedin_6180.0', 'industryworkedin_6190.0', 'industryworkedin_6270.0', 'industryworkedin_6280.0', \n",
    "    'industryworkedin_6290.0', 'industryworkedin_6370.0', 'industryworkedin_6380.0', 'industryworkedin_6390.0', \n",
    "    'industryworkedin_6470.0', 'industryworkedin_6480.0', 'industryworkedin_6490.0', 'industryworkedin_6570.0', \n",
    "    'industryworkedin_6590.0', 'industryworkedin_6670.0', 'industryworkedin_6672.0', 'industryworkedin_6680.0', \n",
    "    'industryworkedin_6690.0', 'industryworkedin_6695.0', 'industryworkedin_6770.0', 'industryworkedin_6780.0', \n",
    "    'industryworkedin_6870.0', 'industryworkedin_6880.0', 'industryworkedin_6890.0', 'industryworkedin_6970.0', \n",
    "    'industryworkedin_6990.0', 'industryworkedin_7070.0', 'industryworkedin_7080.0', 'industryworkedin_7170.0', \n",
    "    'industryworkedin_7180.0', 'industryworkedin_7190.0', 'industryworkedin_7270.0', 'industryworkedin_7280.0', \n",
    "    'industryworkedin_7290.0', 'industryworkedin_7370.0', 'industryworkedin_7380.0', 'industryworkedin_7390.0', \n",
    "    'industryworkedin_7460.0', 'industryworkedin_7470.0', 'industryworkedin_7480.0', 'industryworkedin_7490.0', \n",
    "    'industryworkedin_7570.0', 'industryworkedin_7580.0', 'industryworkedin_7590.0', 'industryworkedin_7670.0', \n",
    "    'industryworkedin_7680.0', 'industryworkedin_7690.0', 'industryworkedin_7770.0', 'industryworkedin_7780.0', \n",
    "    'industryworkedin_7790.0', 'industryworkedin_7860.0', 'industryworkedin_7870.0', 'industryworkedin_7880.0', \n",
    "    'industryworkedin_7890.0', 'industryworkedin_7970.0', 'industryworkedin_7980.0', 'industryworkedin_7990.0', \n",
    "    'industryworkedin_8070.0', 'industryworkedin_8080.0', 'industryworkedin_8090.0', 'industryworkedin_8170.0', \n",
    "    'industryworkedin_8180.0', 'industryworkedin_8190.0', 'industryworkedin_8270.0', 'industryworkedin_8290.0', \n",
    "    'industryworkedin_8370.0', 'industryworkedin_8380.0', 'industryworkedin_8390.0', 'industryworkedin_8470.0', \n",
    "    'industryworkedin_8560.0', 'industryworkedin_8570.0', 'industryworkedin_8580.0', 'industryworkedin_8590.0', \n",
    "    'industryworkedin_8660.0', 'industryworkedin_8670.0', 'industryworkedin_8680.0', 'industryworkedin_8690.0', \n",
    "    'industryworkedin_8770.0', 'industryworkedin_8780.0', 'industryworkedin_8790.0', 'industryworkedin_8870.0', \n",
    "    'industryworkedin_8880.0', 'industryworkedin_8970.0', 'industryworkedin_8980.0', 'industryworkedin_8990.0', \n",
    "    'industryworkedin_9070.0', 'industryworkedin_9080.0', 'industryworkedin_9090.0', 'industryworkedin_9160.0', \n",
    "    'industryworkedin_9170.0', 'industryworkedin_9180.0', 'industryworkedin_9190.0', 'industryworkedin_9290.0', \n",
    "    'industryworkedin_9370.0', 'industryworkedin_9380.0', 'industryworkedin_9390.0', 'industryworkedin_9470.0', \n",
    "    'industryworkedin_9480.0', 'industryworkedin_9490.0', 'industryworkedin_9570.0', 'industryworkedin_9590.0', \n",
    "    'industryworkedin_9670.0', 'industryworkedin_9680.0', 'industryworkedin_9690.0', 'industryworkedin_9770.0', \n",
    "    'industryworkedin_9780.0', 'industryworkedin_9790.0', 'industryworkedin_9870.0', 'industryworkedin_9920.0']"
   ]
  },
  {
   "cell_type": "code",
   "execution_count": 19,
   "metadata": {
    "collapsed": true
   },
   "outputs": [],
   "source": [
    "industry = ['industry_NoIndustry', 'industry_AGR', 'industry_EXT', 'industry_UTL', 'industry_CON','industry_MFG',\n",
    "            'industry_WHL','industry_RET','industry_TRN','industry_INF','industry_FIN','industry_PRF','industry_EDU',\n",
    "         'industry_MED','industry_SCA','industry_ENT','industry_SRV','industry_EDM','industry_MIL','industry_Chutiya']"
   ]
  },
  {
   "cell_type": "code",
   "execution_count": 20,
   "metadata": {
    "collapsed": true
   },
   "outputs": [],
   "source": [
    "workarrival = ['workarrival_nowork','workarrival_late_night','workarrival_morning','workarrival_aftrenoon','workarrival_night_shift']"
   ]
  },
  {
   "cell_type": "markdown",
   "metadata": {},
   "source": [
    "## Dictionary of all the categorical variables"
   ]
  },
  {
   "cell_type": "code",
   "execution_count": 21,
   "metadata": {},
   "outputs": [],
   "source": [
    "cat_cols = [workerclass,vehicleoccupancy,meansoftransport,schoolenrollment,educationalattain,marital,workarrival,\n",
    "       ancestry,degreefield,industry]\n",
    "categorical = ['workerclass','vehicleoccupancy','meansoftransport','schoolenrollment',\n",
    "               'educationalattain','marital','workarrival','ancestry','degreefield','industry']\n",
    "dicts={}\n",
    "c1=0\n",
    "for c in categorical:\n",
    "    dicts['df_'+c] = pd.concat((pd.get_dummies(df[c],prefix=c), pd.DataFrame(columns=cat_cols[c1]))).fillna(0)\n",
    "    c1+=1"
   ]
  },
  {
   "cell_type": "code",
   "execution_count": 22,
   "metadata": {
    "collapsed": true
   },
   "outputs": [],
   "source": [
    "df_workerclass = pd.DataFrame.from_dict(dicts['df_workerclass'])\n",
    "df_vehicleoccupancy = pd.DataFrame.from_dict(dicts['df_vehicleoccupancy'])\n",
    "df_meansoftransport = pd.DataFrame.from_dict(dicts['df_meansoftransport'])\n",
    "df_schoolenrollment = pd.DataFrame.from_dict(dicts['df_schoolenrollment'])\n",
    "df_educationalattain = pd.DataFrame.from_dict(dicts['df_educationalattain'])\n",
    "df_marital = pd.DataFrame.from_dict(dicts['df_marital'])\n",
    "df_workarrivaltime = pd.DataFrame.from_dict(dicts['df_workarrival'])\n",
    "df_ancestry = pd.DataFrame.from_dict(dicts['df_ancestry'])\n",
    "df_degreefield = pd.DataFrame.from_dict(dicts['df_degreefield'])\n",
    "df_industryworkedin = pd.DataFrame.from_dict(dicts['df_industry'])"
   ]
  },
  {
   "cell_type": "code",
   "execution_count": 23,
   "metadata": {
    "collapsed": true
   },
   "outputs": [],
   "source": [
    "frames = [df_workerclass,df_meansoftransport,df_schoolenrollment,df_educationalattain,df_marital,\n",
    "        df_workarrivaltime,df_industryworkedin]#,df_ancestry,df_degreefield,df_vehicleoccupancy,]\n",
    "df_categorical = pd.concat(frames,axis=1)"
   ]
  },
  {
   "cell_type": "code",
   "execution_count": 24,
   "metadata": {},
   "outputs": [
    {
     "data": {
      "text/plain": [
       "(1184, 71)"
      ]
     },
     "execution_count": 24,
     "metadata": {},
     "output_type": "execute_result"
    }
   ],
   "source": [
    "df_categorical.shape"
   ]
  },
  {
   "cell_type": "markdown",
   "metadata": {},
   "source": [
    "## One Hot Encoded, scaled and cleaned dataset"
   ]
  },
  {
   "cell_type": "code",
   "execution_count": 25,
   "metadata": {},
   "outputs": [
    {
     "data": {
      "text/plain": [
       "(1184, 71)"
      ]
     },
     "execution_count": 25,
     "metadata": {},
     "output_type": "execute_result"
    }
   ],
   "source": [
    "df_categorical.shape"
   ]
  },
  {
   "cell_type": "code",
   "execution_count": 26,
   "metadata": {},
   "outputs": [
    {
     "data": {
      "text/html": [
       "<div>\n",
       "<style>\n",
       "    .dataframe thead tr:only-child th {\n",
       "        text-align: right;\n",
       "    }\n",
       "\n",
       "    .dataframe thead th {\n",
       "        text-align: left;\n",
       "    }\n",
       "\n",
       "    .dataframe tbody tr th {\n",
       "        vertical-align: top;\n",
       "    }\n",
       "</style>\n",
       "<table border=\"1\" class=\"dataframe\">\n",
       "  <thead>\n",
       "    <tr style=\"text-align: right;\">\n",
       "      <th></th>\n",
       "      <th>sex</th>\n",
       "      <th>idnum</th>\n",
       "      <th>age</th>\n",
       "      <th>interestincome</th>\n",
       "      <th>traveltimetowork</th>\n",
       "      <th>hoursworkperweek</th>\n",
       "      <th>wages</th>\n",
       "    </tr>\n",
       "  </thead>\n",
       "  <tbody>\n",
       "    <tr>\n",
       "      <th>0</th>\n",
       "      <td>1.0</td>\n",
       "      <td>0.0</td>\n",
       "      <td>58.0</td>\n",
       "      <td>0.0</td>\n",
       "      <td>40.0</td>\n",
       "      <td>40.0</td>\n",
       "      <td>110000.0</td>\n",
       "    </tr>\n",
       "    <tr>\n",
       "      <th>1</th>\n",
       "      <td>1.0</td>\n",
       "      <td>1.0</td>\n",
       "      <td>34.0</td>\n",
       "      <td>0.0</td>\n",
       "      <td>10.0</td>\n",
       "      <td>40.0</td>\n",
       "      <td>34500.0</td>\n",
       "    </tr>\n",
       "    <tr>\n",
       "      <th>2</th>\n",
       "      <td>1.0</td>\n",
       "      <td>2.0</td>\n",
       "      <td>57.0</td>\n",
       "      <td>0.0</td>\n",
       "      <td>15.0</td>\n",
       "      <td>30.0</td>\n",
       "      <td>4700.0</td>\n",
       "    </tr>\n",
       "    <tr>\n",
       "      <th>3</th>\n",
       "      <td>2.0</td>\n",
       "      <td>3.0</td>\n",
       "      <td>17.0</td>\n",
       "      <td>0.0</td>\n",
       "      <td>0.0</td>\n",
       "      <td>0.0</td>\n",
       "      <td>0.0</td>\n",
       "    </tr>\n",
       "    <tr>\n",
       "      <th>4</th>\n",
       "      <td>1.0</td>\n",
       "      <td>4.0</td>\n",
       "      <td>42.0</td>\n",
       "      <td>0.0</td>\n",
       "      <td>20.0</td>\n",
       "      <td>45.0</td>\n",
       "      <td>120000.0</td>\n",
       "    </tr>\n",
       "  </tbody>\n",
       "</table>\n",
       "</div>"
      ],
      "text/plain": [
       "   sex  idnum   age  interestincome  traveltimetowork  hoursworkperweek  \\\n",
       "0  1.0    0.0  58.0             0.0              40.0              40.0   \n",
       "1  1.0    1.0  34.0             0.0              10.0              40.0   \n",
       "2  1.0    2.0  57.0             0.0              15.0              30.0   \n",
       "3  2.0    3.0  17.0             0.0               0.0               0.0   \n",
       "4  1.0    4.0  42.0             0.0              20.0              45.0   \n",
       "\n",
       "      wages  \n",
       "0  110000.0  \n",
       "1   34500.0  \n",
       "2    4700.0  \n",
       "3       0.0  \n",
       "4  120000.0  "
      ]
     },
     "execution_count": 26,
     "metadata": {},
     "output_type": "execute_result"
    }
   ],
   "source": [
    "df_numerical = df[['sex','idnum','age','interestincome','traveltimetowork','hoursworkperweek','wages']]\n",
    "df_numerical.head()"
   ]
  },
  {
   "cell_type": "code",
   "execution_count": 27,
   "metadata": {},
   "outputs": [
    {
     "data": {
      "text/plain": [
       "sex                -0.127629\n",
       "idnum              -0.006086\n",
       "age                -0.040988\n",
       "interestincome      0.002931\n",
       "traveltimetowork    0.287884\n",
       "hoursworkperweek    0.489955\n",
       "dtype: float64"
      ]
     },
     "execution_count": 27,
     "metadata": {},
     "output_type": "execute_result"
    }
   ],
   "source": [
    "df_numerical.drop(\"wages\", axis=1).apply(lambda x: x.corr(df.wages))"
   ]
  },
  {
   "cell_type": "code",
   "execution_count": 28,
   "metadata": {},
   "outputs": [
    {
     "data": {
      "text/html": [
       "<div>\n",
       "<style>\n",
       "    .dataframe thead tr:only-child th {\n",
       "        text-align: right;\n",
       "    }\n",
       "\n",
       "    .dataframe thead th {\n",
       "        text-align: left;\n",
       "    }\n",
       "\n",
       "    .dataframe tbody tr th {\n",
       "        vertical-align: top;\n",
       "    }\n",
       "</style>\n",
       "<table border=\"1\" class=\"dataframe\">\n",
       "  <thead>\n",
       "    <tr style=\"text-align: right;\">\n",
       "      <th></th>\n",
       "      <th>idnum</th>\n",
       "      <th>age</th>\n",
       "      <th>interestincome</th>\n",
       "      <th>traveltimetowork</th>\n",
       "      <th>hoursworkperweek</th>\n",
       "    </tr>\n",
       "  </thead>\n",
       "  <tbody>\n",
       "    <tr>\n",
       "      <th>0</th>\n",
       "      <td>-1.721034</td>\n",
       "      <td>0.494221</td>\n",
       "      <td>-0.123529</td>\n",
       "      <td>0.938631</td>\n",
       "      <td>0.794753</td>\n",
       "    </tr>\n",
       "    <tr>\n",
       "      <th>1</th>\n",
       "      <td>-1.718587</td>\n",
       "      <td>-0.702318</td>\n",
       "      <td>-0.123529</td>\n",
       "      <td>-0.275903</td>\n",
       "      <td>0.794753</td>\n",
       "    </tr>\n",
       "    <tr>\n",
       "      <th>2</th>\n",
       "      <td>-1.716140</td>\n",
       "      <td>0.444365</td>\n",
       "      <td>-0.123529</td>\n",
       "      <td>-0.073481</td>\n",
       "      <td>0.321252</td>\n",
       "    </tr>\n",
       "    <tr>\n",
       "      <th>3</th>\n",
       "      <td>-1.713693</td>\n",
       "      <td>-1.549866</td>\n",
       "      <td>-0.123529</td>\n",
       "      <td>-0.680748</td>\n",
       "      <td>-1.099248</td>\n",
       "    </tr>\n",
       "    <tr>\n",
       "      <th>4</th>\n",
       "      <td>-1.711246</td>\n",
       "      <td>-0.303472</td>\n",
       "      <td>-0.123529</td>\n",
       "      <td>0.128942</td>\n",
       "      <td>1.031503</td>\n",
       "    </tr>\n",
       "  </tbody>\n",
       "</table>\n",
       "</div>"
      ],
      "text/plain": [
       "      idnum       age  interestincome  traveltimetowork  hoursworkperweek\n",
       "0 -1.721034  0.494221       -0.123529          0.938631          0.794753\n",
       "1 -1.718587 -0.702318       -0.123529         -0.275903          0.794753\n",
       "2 -1.716140  0.444365       -0.123529         -0.073481          0.321252\n",
       "3 -1.713693 -1.549866       -0.123529         -0.680748         -1.099248\n",
       "4 -1.711246 -0.303472       -0.123529          0.128942          1.031503"
      ]
     },
     "execution_count": 28,
     "metadata": {},
     "output_type": "execute_result"
    }
   ],
   "source": [
    "from sklearn.preprocessing import StandardScaler\n",
    "data = df_numerical[['idnum','age','interestincome','traveltimetowork','hoursworkperweek']]\n",
    "scaler = StandardScaler()\n",
    "scaled_data = scaler.fit_transform(data)\n",
    "scaled_data_df = pd.DataFrame(scaled_data, index=data.index, columns=data.columns)\n",
    "scaled_data_df.head()"
   ]
  },
  {
   "cell_type": "code",
   "execution_count": 29,
   "metadata": {
    "collapsed": true
   },
   "outputs": [],
   "source": [
    "df_final = pd.concat((scaled_data_df,df_categorical,df_numerical['sex']),axis=1)"
   ]
  },
  {
   "cell_type": "code",
   "execution_count": 30,
   "metadata": {},
   "outputs": [
    {
     "data": {
      "text/html": [
       "<div>\n",
       "<style>\n",
       "    .dataframe thead tr:only-child th {\n",
       "        text-align: right;\n",
       "    }\n",
       "\n",
       "    .dataframe thead th {\n",
       "        text-align: left;\n",
       "    }\n",
       "\n",
       "    .dataframe tbody tr th {\n",
       "        vertical-align: top;\n",
       "    }\n",
       "</style>\n",
       "<table border=\"1\" class=\"dataframe\">\n",
       "  <thead>\n",
       "    <tr style=\"text-align: right;\">\n",
       "      <th></th>\n",
       "      <th>idnum</th>\n",
       "      <th>age</th>\n",
       "      <th>interestincome</th>\n",
       "      <th>traveltimetowork</th>\n",
       "      <th>hoursworkperweek</th>\n",
       "      <th>workerclass_0.0</th>\n",
       "      <th>workerclass_1.0</th>\n",
       "      <th>workerclass_2.0</th>\n",
       "      <th>workerclass_3.0</th>\n",
       "      <th>workerclass_4.0</th>\n",
       "      <th>...</th>\n",
       "      <th>industry_No Industry</th>\n",
       "      <th>industry_NoIndustry</th>\n",
       "      <th>industry_PRF</th>\n",
       "      <th>industry_RET</th>\n",
       "      <th>industry_SCA</th>\n",
       "      <th>industry_SRV</th>\n",
       "      <th>industry_TRN</th>\n",
       "      <th>industry_UTL</th>\n",
       "      <th>industry_WHL</th>\n",
       "      <th>sex</th>\n",
       "    </tr>\n",
       "  </thead>\n",
       "  <tbody>\n",
       "    <tr>\n",
       "      <th>0</th>\n",
       "      <td>-1.721034</td>\n",
       "      <td>0.494221</td>\n",
       "      <td>-0.123529</td>\n",
       "      <td>0.938631</td>\n",
       "      <td>0.794753</td>\n",
       "      <td>0</td>\n",
       "      <td>0</td>\n",
       "      <td>0</td>\n",
       "      <td>1</td>\n",
       "      <td>0</td>\n",
       "      <td>...</td>\n",
       "      <td>0.0</td>\n",
       "      <td>0</td>\n",
       "      <td>0</td>\n",
       "      <td>0</td>\n",
       "      <td>0</td>\n",
       "      <td>0</td>\n",
       "      <td>0</td>\n",
       "      <td>0</td>\n",
       "      <td>0</td>\n",
       "      <td>1.0</td>\n",
       "    </tr>\n",
       "    <tr>\n",
       "      <th>1</th>\n",
       "      <td>-1.718587</td>\n",
       "      <td>-0.702318</td>\n",
       "      <td>-0.123529</td>\n",
       "      <td>-0.275903</td>\n",
       "      <td>0.794753</td>\n",
       "      <td>0</td>\n",
       "      <td>0</td>\n",
       "      <td>0</td>\n",
       "      <td>1</td>\n",
       "      <td>0</td>\n",
       "      <td>...</td>\n",
       "      <td>0.0</td>\n",
       "      <td>0</td>\n",
       "      <td>0</td>\n",
       "      <td>0</td>\n",
       "      <td>0</td>\n",
       "      <td>0</td>\n",
       "      <td>0</td>\n",
       "      <td>0</td>\n",
       "      <td>0</td>\n",
       "      <td>1.0</td>\n",
       "    </tr>\n",
       "    <tr>\n",
       "      <th>2</th>\n",
       "      <td>-1.716140</td>\n",
       "      <td>0.444365</td>\n",
       "      <td>-0.123529</td>\n",
       "      <td>-0.073481</td>\n",
       "      <td>0.321252</td>\n",
       "      <td>0</td>\n",
       "      <td>0</td>\n",
       "      <td>1</td>\n",
       "      <td>0</td>\n",
       "      <td>0</td>\n",
       "      <td>...</td>\n",
       "      <td>0.0</td>\n",
       "      <td>0</td>\n",
       "      <td>0</td>\n",
       "      <td>0</td>\n",
       "      <td>1</td>\n",
       "      <td>0</td>\n",
       "      <td>0</td>\n",
       "      <td>0</td>\n",
       "      <td>0</td>\n",
       "      <td>1.0</td>\n",
       "    </tr>\n",
       "    <tr>\n",
       "      <th>3</th>\n",
       "      <td>-1.713693</td>\n",
       "      <td>-1.549866</td>\n",
       "      <td>-0.123529</td>\n",
       "      <td>-0.680748</td>\n",
       "      <td>-1.099248</td>\n",
       "      <td>1</td>\n",
       "      <td>0</td>\n",
       "      <td>0</td>\n",
       "      <td>0</td>\n",
       "      <td>0</td>\n",
       "      <td>...</td>\n",
       "      <td>1.0</td>\n",
       "      <td>0</td>\n",
       "      <td>0</td>\n",
       "      <td>0</td>\n",
       "      <td>0</td>\n",
       "      <td>0</td>\n",
       "      <td>0</td>\n",
       "      <td>0</td>\n",
       "      <td>0</td>\n",
       "      <td>2.0</td>\n",
       "    </tr>\n",
       "    <tr>\n",
       "      <th>4</th>\n",
       "      <td>-1.711246</td>\n",
       "      <td>-0.303472</td>\n",
       "      <td>-0.123529</td>\n",
       "      <td>0.128942</td>\n",
       "      <td>1.031503</td>\n",
       "      <td>0</td>\n",
       "      <td>1</td>\n",
       "      <td>0</td>\n",
       "      <td>0</td>\n",
       "      <td>0</td>\n",
       "      <td>...</td>\n",
       "      <td>0.0</td>\n",
       "      <td>0</td>\n",
       "      <td>0</td>\n",
       "      <td>0</td>\n",
       "      <td>0</td>\n",
       "      <td>0</td>\n",
       "      <td>0</td>\n",
       "      <td>0</td>\n",
       "      <td>0</td>\n",
       "      <td>1.0</td>\n",
       "    </tr>\n",
       "  </tbody>\n",
       "</table>\n",
       "<p>5 rows × 77 columns</p>\n",
       "</div>"
      ],
      "text/plain": [
       "      idnum       age  interestincome  traveltimetowork  hoursworkperweek  \\\n",
       "0 -1.721034  0.494221       -0.123529          0.938631          0.794753   \n",
       "1 -1.718587 -0.702318       -0.123529         -0.275903          0.794753   \n",
       "2 -1.716140  0.444365       -0.123529         -0.073481          0.321252   \n",
       "3 -1.713693 -1.549866       -0.123529         -0.680748         -1.099248   \n",
       "4 -1.711246 -0.303472       -0.123529          0.128942          1.031503   \n",
       "\n",
       "   workerclass_0.0  workerclass_1.0  workerclass_2.0  workerclass_3.0  \\\n",
       "0                0                0                0                1   \n",
       "1                0                0                0                1   \n",
       "2                0                0                1                0   \n",
       "3                1                0                0                0   \n",
       "4                0                1                0                0   \n",
       "\n",
       "   workerclass_4.0 ...   industry_No Industry  industry_NoIndustry  \\\n",
       "0                0 ...                    0.0                    0   \n",
       "1                0 ...                    0.0                    0   \n",
       "2                0 ...                    0.0                    0   \n",
       "3                0 ...                    1.0                    0   \n",
       "4                0 ...                    0.0                    0   \n",
       "\n",
       "   industry_PRF  industry_RET  industry_SCA  industry_SRV  industry_TRN  \\\n",
       "0             0             0             0             0             0   \n",
       "1             0             0             0             0             0   \n",
       "2             0             0             1             0             0   \n",
       "3             0             0             0             0             0   \n",
       "4             0             0             0             0             0   \n",
       "\n",
       "   industry_UTL  industry_WHL  sex  \n",
       "0             0             0  1.0  \n",
       "1             0             0  1.0  \n",
       "2             0             0  1.0  \n",
       "3             0             0  2.0  \n",
       "4             0             0  1.0  \n",
       "\n",
       "[5 rows x 77 columns]"
      ]
     },
     "execution_count": 30,
     "metadata": {},
     "output_type": "execute_result"
    }
   ],
   "source": [
    "df_final.head()"
   ]
  },
  {
   "cell_type": "code",
   "execution_count": 31,
   "metadata": {
    "collapsed": true
   },
   "outputs": [],
   "source": [
    "df_final.drop('idnum',axis=1,inplace=True)\n"
   ]
  },
  {
   "cell_type": "code",
   "execution_count": 32,
   "metadata": {
    "collapsed": true
   },
   "outputs": [],
   "source": [
    "# df_final.drop('age',axis=1,inplace=True)\n",
    "df_final.drop('interestincome',axis=1,inplace=True)"
   ]
  },
  {
   "cell_type": "code",
   "execution_count": 33,
   "metadata": {},
   "outputs": [
    {
     "data": {
      "text/plain": [
       "(1184, 75)"
      ]
     },
     "execution_count": 33,
     "metadata": {},
     "output_type": "execute_result"
    }
   ],
   "source": [
    "df_final.shape"
   ]
  },
  {
   "cell_type": "markdown",
   "metadata": {},
   "source": [
    "## ML"
   ]
  },
  {
   "cell_type": "code",
   "execution_count": 63,
   "metadata": {},
   "outputs": [],
   "source": [
    "from sklearn.linear_model import Lasso, LassoCV, Ridge, RidgeCV\n",
    "from sklearn.linear_model import LinearRegression\n",
    "from sklearn.cross_validation import train_test_split\n",
    "from sklearn.linear_model import ElasticNet,ElasticNetCV\n",
    "from sklearn.metrics import mean_squared_error\n",
    "\n",
    "X_train,X_test,y_train,y_test=train_test_split(df_final,df_numerical['wages'],test_size=0.3,random_state=7)"
   ]
  },
  {
   "cell_type": "code",
   "execution_count": null,
   "metadata": {},
   "outputs": [],
   "source": [
    "y_train.describe()"
   ]
  },
  {
   "cell_type": "markdown",
   "metadata": {},
   "source": [
    "## L1, L2 regression on entire data set"
   ]
  },
  {
   "cell_type": "code",
   "execution_count": 75,
   "metadata": {
    "collapsed": true
   },
   "outputs": [],
   "source": [
    "def lasso(X_train,y_train,X_test,y_test,alphas):\n",
    "    lasso = Lasso(max_iter=10000)\n",
    "    lassocv = LassoCV(alphas=alphas, cv=10, max_iter=10000)\n",
    "    lassocv.fit(X_train, y_train)\n",
    "    lasso.set_params(alpha=lassocv.alpha_)\n",
    "    alpha=lassocv.alpha_\n",
    "    lasso.fit(X_train, y_train)\n",
    "    mse = mean_squared_error(y_test, lasso.predict(X_test))\n",
    "    rmse = np.sqrt(mean_squared_error(y_test, lasso.predict(X_test)))\n",
    "    coef = pd.Series(lasso.coef_, index=X_test.columns)\n",
    "    return alpha,mse,rmse,coef"
   ]
  },
  {
   "cell_type": "code",
   "execution_count": 76,
   "metadata": {},
   "outputs": [],
   "source": [
    "def ridge(X_train,y_train,X_test,y_test,alphas):\n",
    "    ridgecv = RidgeCV(alphas=alphas,normalize=False,cv=10)\n",
    "    ridgecv.fit(X_train, y_train)\n",
    "    alpha=ridgecv.alpha_\n",
    "    ridge6 = Ridge(alpha=ridgecv.alpha_,normalize=False)\n",
    "    ridge6.fit(X_train, y_train)\n",
    "    mse = mean_squared_error(y_test, ridge6.predict(X_test))\n",
    "    rmse = np.sqrt(mean_squared_error(y_test, ridge6.predict(X_test)))\n",
    "    coef = pd.Series(ridge6.coef_[0], index=X_test.columns)\n",
    "    return alpha,mse,rmse,coef"
   ]
  },
  {
   "cell_type": "code",
   "execution_count": 77,
   "metadata": {},
   "outputs": [],
   "source": [
    "alphas = 10**np.linspace(6,-2,50)*0.5\n",
    "l_alpha,l_mse,lrmse,l_coef = lasso(X_train,y_train,X_test,y_test,alphas)\n",
    "r_alpha,r_mse,rmse,r_coef = ridge(X_train,y_train,X_test,y_test,alphas)"
   ]
  },
  {
   "cell_type": "code",
   "execution_count": 113,
   "metadata": {},
   "outputs": [
    {
     "data": {
      "text/plain": [
       "array([  5.00000000e+05,   3.43324423e+05,   2.35743318e+05,\n",
       "         1.61872877e+05,   1.11149824e+05,   7.63208984e+04,\n",
       "         5.24056567e+04,   3.59842837e+04,   2.47085668e+04,\n",
       "         1.69661089e+04,   1.16497591e+04,   7.99929360e+03,\n",
       "         5.49270571e+03,   3.77156003e+03,   2.58973734e+03,\n",
       "         1.77824015e+03,   1.22102655e+03,   8.38416468e+02,\n",
       "         5.75697700e+02,   3.95302161e+02,   2.71433772e+02,\n",
       "         1.86379686e+02,   1.27977396e+02,   8.78755312e+01,\n",
       "         6.03396320e+01,   4.14321386e+01,   2.84493301e+01,\n",
       "         1.95346997e+01,   1.34134790e+01,   9.21034985e+00,\n",
       "         6.32427608e+00,   4.34255687e+00,   2.98181166e+00,\n",
       "         2.04745753e+00,   1.40588435e+00,   9.65348864e-01,\n",
       "         6.62855683e-01,   4.55149089e-01,   3.12527596e-01,\n",
       "         2.14596713e-01,   1.47352585e-01,   1.01179482e-01,\n",
       "         6.94747747e-02,   4.77047738e-02,   3.27564278e-02,\n",
       "         2.24921633e-02,   1.54442180e-02,   1.06047544e-02,\n",
       "         7.28174239e-03,   5.00000000e-03])"
      ]
     },
     "execution_count": 113,
     "metadata": {},
     "output_type": "execute_result"
    }
   ],
   "source": [
    "alphas"
   ]
  },
  {
   "cell_type": "code",
   "execution_count": 143,
   "metadata": {},
   "outputs": [
    {
     "data": {
      "text/plain": [
       "Lasso(alpha=100, copy_X=True, fit_intercept=True, max_iter=1000,\n",
       "   normalize=False, positive=False, precompute=False, random_state=None,\n",
       "   selection='cyclic', tol=0.0001, warm_start=False)"
      ]
     },
     "execution_count": 143,
     "metadata": {},
     "output_type": "execute_result"
    }
   ],
   "source": [
    "l1 = Lasso(alpha=100)\n",
    "l1.fit(X_train, y_train)"
   ]
  },
  {
   "cell_type": "code",
   "execution_count": 144,
   "metadata": {},
   "outputs": [
    {
     "data": {
      "text/plain": [
       "69810.02948046336"
      ]
     },
     "execution_count": 144,
     "metadata": {},
     "output_type": "execute_result"
    }
   ],
   "source": [
    "rmse = np.sqrt(mean_squared_error(y_test, l1.predict(X_test)))\n",
    "rmse"
   ]
  },
  {
   "cell_type": "code",
   "execution_count": 78,
   "metadata": {},
   "outputs": [
    {
     "name": "stdout",
     "output_type": "stream",
     "text": [
      "Lasso Details:\n",
      "Alpha- 271.433771966\n",
      "MSE- 4915106167.6\n",
      "R-MSE 70107.8181632\n"
     ]
    }
   ],
   "source": [
    "print('Lasso Details:')\n",
    "print('Alpha-',l_alpha)\n",
    "print('MSE-',l_mse)\n",
    "print('R-MSE',lrmse)\n",
    "# print('R-Squared on train:',l_train_score)\n",
    "# print('Feature Coeff:')\n",
    "# print(l_coef)"
   ]
  },
  {
   "cell_type": "code",
   "execution_count": 79,
   "metadata": {},
   "outputs": [
    {
     "name": "stdout",
     "output_type": "stream",
     "text": [
      "Ridge Details:\n",
      "Alpha- 28.4493301451\n",
      "MSE- 4775958855.49\n",
      "R-MSE 69108.312492\n"
     ]
    }
   ],
   "source": [
    "print('Ridge Details:')\n",
    "print('Alpha-',r_alpha)\n",
    "print('MSE-',r_mse)\n",
    "print('R-MSE',rmse)\n",
    "# print('R-Squared on train:',r_train_score)\n",
    "# print('Feature Coeff:')\n",
    "# print(r_coef)"
   ]
  },
  {
   "cell_type": "code",
   "execution_count": 147,
   "metadata": {},
   "outputs": [
    {
     "data": {
      "text/plain": [
       "70213.81948126691"
      ]
     },
     "execution_count": 147,
     "metadata": {},
     "output_type": "execute_result"
    }
   ],
   "source": [
    "r2 = Ridge(alpha=100,normalize=False)\n",
    "r2.fit(X_train, y_train)\n",
    "rmse = np.sqrt(mean_squared_error(y_test, r2.predict(X_test)))\n",
    "rmse"
   ]
  },
  {
   "cell_type": "code",
   "execution_count": 62,
   "metadata": {},
   "outputs": [
    {
     "data": {
      "text/plain": [
       "array([-3.37829597, -4.74147259, -3.76500728, -3.11926372, -2.81026402,\n",
       "       -2.71678929, -2.73087082, -1.72494889, -3.92987218, -2.37581124])"
      ]
     },
     "execution_count": 62,
     "metadata": {},
     "output_type": "execute_result"
    }
   ],
   "source": [
    "ridge_scores"
   ]
  },
  {
   "cell_type": "code",
   "execution_count": null,
   "metadata": {},
   "outputs": [],
   "source": [
    "test=pd.DataFrame({'Actual_log':y_test,'Actual':np.expm1(y_test), 'Predicted_log':ridge_pr,'Predicted':np.expm1(ridge_pr)})  \n",
    "test"
   ]
  },
  {
   "cell_type": "code",
   "execution_count": 112,
   "metadata": {},
   "outputs": [
    {
     "name": "stdout",
     "output_type": "stream",
     "text": [
      "xgb rmse(mean, std): (64270.953783, 59548.143871)\n",
      "xgb training rmse:  14869.9143941\n",
      "Xgb test rmse:  65956.1751467\n"
     ]
    }
   ],
   "source": [
    "import xgboost as xgb \n",
    "xgb_model = xgb.XGBRegressor(n_estimators=500,min_samples_leaf= 2,min_samples_split=8)\n",
    "xgb_model = xgb_model.fit(X_train, y_train)\n",
    "xgb_pred = xgb_model.predict(X_train)\n",
    "xgb_pr = xgb_model.predict(X_test)\n",
    "xgb_scores = cross_val_score(xgb_model, X_train, y_train, scoring=\"neg_mean_squared_error\", cv=10)\n",
    "print (\"xgb rmse(mean, std): (%lf, %lf)\" % (np.sqrt(-xgb_scores.mean()), np.sqrt(xgb_scores.std())))\n",
    "print (\"xgb training rmse: \", np.sqrt(mean_squared_error(y_train, xgb_pred)))\n",
    "print (\"Xgb test rmse: \", np.sqrt(mean_squared_error(y_test, xgb_pr)))"
   ]
  },
  {
   "cell_type": "code",
   "execution_count": null,
   "metadata": {
    "collapsed": true
   },
   "outputs": [],
   "source": []
  },
  {
   "cell_type": "code",
   "execution_count": null,
   "metadata": {},
   "outputs": [],
   "source": [
    "test=pd.DataFrame({'Actual_log':y_test,'Actual':np.expm1(y_test), 'Predicted_log':xgb_pr,'Predicted':np.expm1(xgb_pr)})  \n",
    "test"
   ]
  },
  {
   "cell_type": "markdown",
   "metadata": {},
   "source": [
    "## PCA"
   ]
  },
  {
   "cell_type": "code",
   "execution_count": null,
   "metadata": {},
   "outputs": [],
   "source": [
    "from sklearn.decomposition import PCA\n",
    "# Make an instance of the Model\n",
    "pca = PCA(.95)\n",
    "pca.fit(X_train)"
   ]
  },
  {
   "cell_type": "code",
   "execution_count": null,
   "metadata": {},
   "outputs": [],
   "source": [
    "pca.n_components_"
   ]
  },
  {
   "cell_type": "code",
   "execution_count": null,
   "metadata": {
    "collapsed": true
   },
   "outputs": [],
   "source": [
    "train_set = pca.transform(X_train)\n",
    "test_set = pca.transform(X_test)"
   ]
  },
  {
   "cell_type": "code",
   "execution_count": null,
   "metadata": {},
   "outputs": [],
   "source": [
    "import xgboost as xgb \n",
    "xgb_model = xgb.XGBRegressor(n_estimators=80, max_depth=3, learning_rate=0.1)\n",
    "xgb_model = xgb_model.fit(train_set, y_train)\n",
    "xgb_pred = xgb_model.predict(train_set)\n",
    "xgb_pr = ridge_model.predict(test_set)\n",
    "xgb_scores = cross_val_score(xgb_model, train_set, y_train, scoring=\"neg_mean_squared_error\", cv=20)\n",
    "print (\"xgb rmse(mean, std): (%lf, %lf)\" % (np.sqrt(-xgb_scores.mean()), np.sqrt(xgb_scores.std())))\n",
    "print (\"xgb training rmse: \", np.sqrt(mean_squared_error(y_train, xgb_pred)))\n",
    "print (\"Xgb test rmse: \", np.sqrt(mean_squared_error(np.expm1(y_test), np.expm1(xgb_pr))))"
   ]
  },
  {
   "cell_type": "code",
   "execution_count": 48,
   "metadata": {},
   "outputs": [
    {
     "ename": "NameError",
     "evalue": "name 'train_set' is not defined",
     "output_type": "error",
     "traceback": [
      "\u001b[0;31m---------------------------------------------------------------------------\u001b[0m",
      "\u001b[0;31mNameError\u001b[0m                                 Traceback (most recent call last)",
      "\u001b[0;32m<ipython-input-48-a2b2548ea4a1>\u001b[0m in \u001b[0;36m<module>\u001b[0;34m()\u001b[0m\n\u001b[1;32m      1\u001b[0m \u001b[0;32mfrom\u001b[0m \u001b[0msklearn\u001b[0m\u001b[0;34m.\u001b[0m\u001b[0mmodel_selection\u001b[0m \u001b[0;32mimport\u001b[0m \u001b[0mcross_val_score\u001b[0m\u001b[0;34m\u001b[0m\u001b[0m\n\u001b[0;32m----> 2\u001b[0;31m \u001b[0mridge_model\u001b[0m \u001b[0;34m=\u001b[0m \u001b[0mRidge\u001b[0m\u001b[0;34m(\u001b[0m\u001b[0malpha\u001b[0m\u001b[0;34m=\u001b[0m\u001b[0;36m28\u001b[0m\u001b[0;34m)\u001b[0m\u001b[0;34m.\u001b[0m\u001b[0mfit\u001b[0m\u001b[0;34m(\u001b[0m\u001b[0mtrain_set\u001b[0m\u001b[0;34m,\u001b[0m \u001b[0my_train\u001b[0m\u001b[0;34m)\u001b[0m\u001b[0;34m\u001b[0m\u001b[0m\n\u001b[0m\u001b[1;32m      3\u001b[0m \u001b[0mridge_pred\u001b[0m \u001b[0;34m=\u001b[0m \u001b[0mridge_model\u001b[0m\u001b[0;34m.\u001b[0m\u001b[0mpredict\u001b[0m\u001b[0;34m(\u001b[0m\u001b[0mtrain_set\u001b[0m\u001b[0;34m)\u001b[0m\u001b[0;34m\u001b[0m\u001b[0m\n\u001b[1;32m      4\u001b[0m \u001b[0mridge_pr\u001b[0m \u001b[0;34m=\u001b[0m \u001b[0mridge_model\u001b[0m\u001b[0;34m.\u001b[0m\u001b[0mpredict\u001b[0m\u001b[0;34m(\u001b[0m\u001b[0mtest_set\u001b[0m\u001b[0;34m)\u001b[0m\u001b[0;34m\u001b[0m\u001b[0m\n\u001b[1;32m      5\u001b[0m \u001b[0mridge_scores\u001b[0m \u001b[0;34m=\u001b[0m \u001b[0mcross_val_score\u001b[0m\u001b[0;34m(\u001b[0m\u001b[0mridge_model\u001b[0m\u001b[0;34m,\u001b[0m \u001b[0mtrain_set\u001b[0m\u001b[0;34m,\u001b[0m \u001b[0my_train\u001b[0m\u001b[0;34m,\u001b[0m \u001b[0mscoring\u001b[0m\u001b[0;34m=\u001b[0m\u001b[0;34m\"neg_mean_squared_error\"\u001b[0m\u001b[0;34m,\u001b[0m \u001b[0mcv\u001b[0m\u001b[0;34m=\u001b[0m\u001b[0;36m10\u001b[0m\u001b[0;34m)\u001b[0m\u001b[0;34m\u001b[0m\u001b[0m\n",
      "\u001b[0;31mNameError\u001b[0m: name 'train_set' is not defined"
     ]
    }
   ],
   "source": [
    "from sklearn.model_selection import cross_val_score\n",
    "ridge_model = Ridge(alpha=28).fit(train_set, y_train)\n",
    "ridge_pred = ridge_model.predict(train_set)\n",
    "ridge_pr = ridge_model.predict(test_set)\n",
    "ridge_scores = cross_val_score(ridge_model, train_set, y_train, scoring=\"neg_mean_squared_error\", cv=10)\n",
    "print (\"ridge rmse(mean, std): (%lf, %lf)\" % (np.sqrt(-ridge_scores.mean()), np.sqrt(ridge_scores.std())))\n",
    "print (\"ridge training rmse: \", np.sqrt(mean_squared_error(y_train, ridge_pred)))\n",
    "print (\"ridge test rmse: \", np.sqrt(mean_squared_error(np.expm1(y_test), np.expm1(ridge_pr))))"
   ]
  },
  {
   "cell_type": "code",
   "execution_count": null,
   "metadata": {
    "collapsed": true
   },
   "outputs": [],
   "source": [
    "alphas = 10**np.linspace(6,-2,50)*0.5\n",
    "l1_alpha,l1_mse,l1_score,l1_train_score,l1_coef = lasso(train_set,y_train,test_set,y_test,alphas)\n",
    "r2_alpha,r2_mse,r2_score,r2_train_score,r2_coef = ridge(train_set,y_train,test_set,y_test,alphas)"
   ]
  },
  {
   "cell_type": "markdown",
   "metadata": {},
   "source": [
    "## Decision Tree Regressor"
   ]
  },
  {
   "cell_type": "code",
   "execution_count": 82,
   "metadata": {},
   "outputs": [
    {
     "data": {
      "text/plain": [
       "DecisionTreeRegressor(criterion='mse', max_depth=None, max_features=None,\n",
       "           max_leaf_nodes=None, min_impurity_split=1e-07,\n",
       "           min_samples_leaf=1, min_samples_split=2,\n",
       "           min_weight_fraction_leaf=0.0, presort=False, random_state=None,\n",
       "           splitter='best')"
      ]
     },
     "execution_count": 82,
     "metadata": {},
     "output_type": "execute_result"
    }
   ],
   "source": [
    "from sklearn.tree import DecisionTreeRegressor  \n",
    "regressor = DecisionTreeRegressor()  \n",
    "regressor.fit(X_train, y_train)  "
   ]
  },
  {
   "cell_type": "code",
   "execution_count": 83,
   "metadata": {
    "collapsed": true
   },
   "outputs": [],
   "source": [
    "y_pred = regressor.predict(X_test)"
   ]
  },
  {
   "cell_type": "code",
   "execution_count": null,
   "metadata": {},
   "outputs": [],
   "source": [
    "test=pd.DataFrame({'Actual':y_test, 'Predicted':y_pred})  \n",
    "test"
   ]
  },
  {
   "cell_type": "code",
   "execution_count": 84,
   "metadata": {},
   "outputs": [
    {
     "name": "stdout",
     "output_type": "stream",
     "text": [
      "Mean Absolute Error: 29367.3314607\n",
      "Mean Squared Error: 6226797462.64\n",
      "Root Mean Squared Error: 78910.0593248\n"
     ]
    }
   ],
   "source": [
    "from sklearn import metrics  \n",
    "print('Mean Absolute Error:', metrics.mean_absolute_error(y_test, y_pred))  \n",
    "print('Mean Squared Error:', metrics.mean_squared_error(y_test, y_pred))  \n",
    "print('Root Mean Squared Error:', np.sqrt(metrics.mean_squared_error(y_test, y_pred))) "
   ]
  },
  {
   "cell_type": "markdown",
   "metadata": {},
   "source": [
    "## Random Forest"
   ]
  },
  {
   "cell_type": "code",
   "execution_count": 87,
   "metadata": {
    "collapsed": true
   },
   "outputs": [],
   "source": [
    "from sklearn.ensemble import RandomForestRegressor\n",
    "rf = RandomForestRegressor()\n",
    "# rf.fit(X_train, y_train)\n",
    "# predictions = rf.predict(X_test)"
   ]
  },
  {
   "cell_type": "code",
   "execution_count": 90,
   "metadata": {},
   "outputs": [
    {
     "name": "stdout",
     "output_type": "stream",
     "text": [
      "{'n_estimators': [200, 400, 600, 800, 1000, 1200, 1400, 1600, 1800, 2000], 'max_features': ['auto', 'sqrt'], 'max_depth': [10, 20, 30, 40, 50, 60, 70, 80, 90, 100, 110, None], 'min_samples_split': [2, 5, 10], 'min_samples_leaf': [1, 2, 4], 'bootstrap': [True, False]}\n"
     ]
    }
   ],
   "source": [
    "from sklearn.model_selection import RandomizedSearchCV\n",
    "# Number of trees in random forest\n",
    "n_estimators = [int(x) for x in np.linspace(start = 200, stop = 2000, num = 10)]\n",
    "# Number of features to consider at every split\n",
    "max_features = ['auto', 'sqrt']\n",
    "# Maximum number of levels in tree\n",
    "max_depth = [int(x) for x in np.linspace(10, 110, num = 11)]\n",
    "max_depth.append(None)\n",
    "# Minimum number of samples required to split a node\n",
    "min_samples_split = [2, 5, 10]\n",
    "# Minimum number of samples required at each leaf node\n",
    "min_samples_leaf = [1, 2, 4]\n",
    "# Method of selecting samples for training each tree\n",
    "bootstrap = [True, False]\n",
    "# Create the random grid\n",
    "random_grid = {'n_estimators': n_estimators,\n",
    "               'max_features': max_features,\n",
    "               'max_depth': max_depth,\n",
    "               'min_samples_split': min_samples_split,\n",
    "               'min_samples_leaf': min_samples_leaf,\n",
    "               'bootstrap': bootstrap}\n",
    "print(random_grid)"
   ]
  },
  {
   "cell_type": "code",
   "execution_count": 91,
   "metadata": {},
   "outputs": [
    {
     "name": "stdout",
     "output_type": "stream",
     "text": [
      "Fitting 3 folds for each of 100 candidates, totalling 300 fits\n",
      "[CV] n_estimators=400, min_samples_split=5, min_samples_leaf=1, max_features=sqrt, max_depth=30, bootstrap=True \n",
      "[CV] n_estimators=400, min_samples_split=5, min_samples_leaf=1, max_features=sqrt, max_depth=30, bootstrap=True \n",
      "[CV] n_estimators=400, min_samples_split=5, min_samples_leaf=1, max_features=sqrt, max_depth=30, bootstrap=True \n",
      "[CV] n_estimators=2000, min_samples_split=5, min_samples_leaf=1, max_features=sqrt, max_depth=10, bootstrap=True \n",
      "[CV]  n_estimators=400, min_samples_split=5, min_samples_leaf=1, max_features=sqrt, max_depth=30, bootstrap=True, total=   1.2s\n",
      "[CV] n_estimators=2000, min_samples_split=5, min_samples_leaf=1, max_features=sqrt, max_depth=10, bootstrap=True \n",
      "[CV]  n_estimators=400, min_samples_split=5, min_samples_leaf=1, max_features=sqrt, max_depth=30, bootstrap=True, total=   1.2s\n",
      "[CV] n_estimators=2000, min_samples_split=5, min_samples_leaf=1, max_features=sqrt, max_depth=10, bootstrap=True \n",
      "[CV]  n_estimators=400, min_samples_split=5, min_samples_leaf=1, max_features=sqrt, max_depth=30, bootstrap=True, total=   1.3s\n",
      "[CV] n_estimators=1200, min_samples_split=5, min_samples_leaf=2, max_features=sqrt, max_depth=10, bootstrap=False \n",
      "[CV]  n_estimators=1200, min_samples_split=5, min_samples_leaf=2, max_features=sqrt, max_depth=10, bootstrap=False, total=   3.7s\n",
      "[CV] n_estimators=1200, min_samples_split=5, min_samples_leaf=2, max_features=sqrt, max_depth=10, bootstrap=False \n",
      "[CV]  n_estimators=2000, min_samples_split=5, min_samples_leaf=1, max_features=sqrt, max_depth=10, bootstrap=True, total=   6.1s\n",
      "[CV] n_estimators=1200, min_samples_split=5, min_samples_leaf=2, max_features=sqrt, max_depth=10, bootstrap=False \n",
      "[CV]  n_estimators=2000, min_samples_split=5, min_samples_leaf=1, max_features=sqrt, max_depth=10, bootstrap=True, total=   5.8s\n",
      "[CV] n_estimators=2000, min_samples_split=2, min_samples_leaf=4, max_features=auto, max_depth=30, bootstrap=False \n",
      "[CV]  n_estimators=2000, min_samples_split=5, min_samples_leaf=1, max_features=sqrt, max_depth=10, bootstrap=True, total=   5.9s\n",
      "[CV] n_estimators=2000, min_samples_split=2, min_samples_leaf=4, max_features=auto, max_depth=30, bootstrap=False \n",
      "[CV]  n_estimators=1200, min_samples_split=5, min_samples_leaf=2, max_features=sqrt, max_depth=10, bootstrap=False, total=   3.4s\n",
      "[CV] n_estimators=2000, min_samples_split=2, min_samples_leaf=4, max_features=auto, max_depth=30, bootstrap=False \n",
      "[CV]  n_estimators=1200, min_samples_split=5, min_samples_leaf=2, max_features=sqrt, max_depth=10, bootstrap=False, total=   3.4s\n",
      "[CV] n_estimators=1600, min_samples_split=2, min_samples_leaf=4, max_features=sqrt, max_depth=10, bootstrap=True \n",
      "[CV]  n_estimators=1600, min_samples_split=2, min_samples_leaf=4, max_features=sqrt, max_depth=10, bootstrap=True, total=   5.7s\n",
      "[CV] n_estimators=1600, min_samples_split=2, min_samples_leaf=4, max_features=sqrt, max_depth=10, bootstrap=True \n",
      "[CV]  n_estimators=1600, min_samples_split=2, min_samples_leaf=4, max_features=sqrt, max_depth=10, bootstrap=True, total=   6.7s\n",
      "[CV] n_estimators=1600, min_samples_split=2, min_samples_leaf=4, max_features=sqrt, max_depth=10, bootstrap=True \n",
      "[CV]  n_estimators=2000, min_samples_split=2, min_samples_leaf=4, max_features=auto, max_depth=30, bootstrap=False, total=  17.2s\n",
      "[CV] n_estimators=800, min_samples_split=5, min_samples_leaf=4, max_features=sqrt, max_depth=30, bootstrap=False \n",
      "[CV]  n_estimators=2000, min_samples_split=2, min_samples_leaf=4, max_features=auto, max_depth=30, bootstrap=False, total=  17.4s\n",
      "[CV] n_estimators=800, min_samples_split=5, min_samples_leaf=4, max_features=sqrt, max_depth=30, bootstrap=False \n",
      "[CV]  n_estimators=2000, min_samples_split=2, min_samples_leaf=4, max_features=auto, max_depth=30, bootstrap=False, total=  18.2s\n",
      "[CV] n_estimators=800, min_samples_split=5, min_samples_leaf=4, max_features=sqrt, max_depth=30, bootstrap=False \n",
      "[CV]  n_estimators=800, min_samples_split=5, min_samples_leaf=4, max_features=sqrt, max_depth=30, bootstrap=False, total=   4.9s\n",
      "[CV] n_estimators=1000, min_samples_split=5, min_samples_leaf=2, max_features=sqrt, max_depth=100, bootstrap=False \n",
      "[CV]  n_estimators=800, min_samples_split=5, min_samples_leaf=4, max_features=sqrt, max_depth=30, bootstrap=False, total=   4.9s\n",
      "[CV] n_estimators=1000, min_samples_split=5, min_samples_leaf=2, max_features=sqrt, max_depth=100, bootstrap=False \n",
      "[CV]  n_estimators=800, min_samples_split=5, min_samples_leaf=4, max_features=sqrt, max_depth=30, bootstrap=False, total=   4.8s\n",
      "[CV] n_estimators=1000, min_samples_split=5, min_samples_leaf=2, max_features=sqrt, max_depth=100, bootstrap=False \n",
      "[CV]  n_estimators=1600, min_samples_split=2, min_samples_leaf=4, max_features=sqrt, max_depth=10, bootstrap=True, total=   9.4s\n",
      "[CV] n_estimators=600, min_samples_split=5, min_samples_leaf=1, max_features=sqrt, max_depth=60, bootstrap=False \n",
      "[CV]  n_estimators=1000, min_samples_split=5, min_samples_leaf=2, max_features=sqrt, max_depth=100, bootstrap=False, total=   4.0s\n",
      "[CV]  n_estimators=600, min_samples_split=5, min_samples_leaf=1, max_features=sqrt, max_depth=60, bootstrap=False, total=   1.8s\n",
      "[CV] n_estimators=600, min_samples_split=5, min_samples_leaf=1, max_features=sqrt, max_depth=60, bootstrap=False \n",
      "[CV] n_estimators=600, min_samples_split=5, min_samples_leaf=1, max_features=sqrt, max_depth=60, bootstrap=False \n",
      "[CV]  n_estimators=1000, min_samples_split=5, min_samples_leaf=2, max_features=sqrt, max_depth=100, bootstrap=False, total=   3.9s\n",
      "[CV] n_estimators=1000, min_samples_split=2, min_samples_leaf=1, max_features=auto, max_depth=50, bootstrap=False \n",
      "[CV]  n_estimators=1000, min_samples_split=5, min_samples_leaf=2, max_features=sqrt, max_depth=100, bootstrap=False, total=   2.9s\n",
      "[CV] n_estimators=1000, min_samples_split=2, min_samples_leaf=1, max_features=auto, max_depth=50, bootstrap=False \n",
      "[CV]  n_estimators=600, min_samples_split=5, min_samples_leaf=1, max_features=sqrt, max_depth=60, bootstrap=False, total=   1.8s\n",
      "[CV] n_estimators=1000, min_samples_split=2, min_samples_leaf=1, max_features=auto, max_depth=50, bootstrap=False \n",
      "[CV]  n_estimators=600, min_samples_split=5, min_samples_leaf=1, max_features=sqrt, max_depth=60, bootstrap=False, total=   1.8s\n",
      "[CV] n_estimators=1800, min_samples_split=5, min_samples_leaf=4, max_features=auto, max_depth=10, bootstrap=False \n",
      "[CV]  n_estimators=1000, min_samples_split=2, min_samples_leaf=1, max_features=auto, max_depth=50, bootstrap=False, total=  11.0s\n",
      "[CV] n_estimators=1800, min_samples_split=5, min_samples_leaf=4, max_features=auto, max_depth=10, bootstrap=False \n",
      "[CV]  n_estimators=1000, min_samples_split=2, min_samples_leaf=1, max_features=auto, max_depth=50, bootstrap=False, total=  10.4s\n",
      "[CV] n_estimators=1800, min_samples_split=5, min_samples_leaf=4, max_features=auto, max_depth=10, bootstrap=False \n",
      "[CV]  n_estimators=1000, min_samples_split=2, min_samples_leaf=1, max_features=auto, max_depth=50, bootstrap=False, total=  10.6s\n",
      "[CV] n_estimators=400, min_samples_split=10, min_samples_leaf=4, max_features=auto, max_depth=70, bootstrap=True \n",
      "[CV]  n_estimators=400, min_samples_split=10, min_samples_leaf=4, max_features=auto, max_depth=70, bootstrap=True, total=   1.7s\n",
      "[CV] n_estimators=400, min_samples_split=10, min_samples_leaf=4, max_features=auto, max_depth=70, bootstrap=True \n",
      "[CV]  n_estimators=1800, min_samples_split=5, min_samples_leaf=4, max_features=auto, max_depth=10, bootstrap=False, total=  12.2s\n",
      "[CV] n_estimators=400, min_samples_split=10, min_samples_leaf=4, max_features=auto, max_depth=70, bootstrap=True \n",
      "[CV]  n_estimators=400, min_samples_split=10, min_samples_leaf=4, max_features=auto, max_depth=70, bootstrap=True, total=   1.7s\n",
      "[CV] n_estimators=800, min_samples_split=5, min_samples_leaf=1, max_features=sqrt, max_depth=90, bootstrap=False \n",
      "[CV]  n_estimators=400, min_samples_split=10, min_samples_leaf=4, max_features=auto, max_depth=70, bootstrap=True, total=   1.7s\n",
      "[CV] n_estimators=800, min_samples_split=5, min_samples_leaf=1, max_features=sqrt, max_depth=90, bootstrap=False \n",
      "[CV]  n_estimators=800, min_samples_split=5, min_samples_leaf=1, max_features=sqrt, max_depth=90, bootstrap=False, total=   2.5s\n"
     ]
    },
    {
     "name": "stdout",
     "output_type": "stream",
     "text": [
      "[CV] n_estimators=800, min_samples_split=5, min_samples_leaf=1, max_features=sqrt, max_depth=90, bootstrap=False \n",
      "[CV]  n_estimators=800, min_samples_split=5, min_samples_leaf=1, max_features=sqrt, max_depth=90, bootstrap=False, total=   2.5s\n",
      "[CV] n_estimators=2000, min_samples_split=10, min_samples_leaf=1, max_features=sqrt, max_depth=10, bootstrap=False \n"
     ]
    },
    {
     "name": "stderr",
     "output_type": "stream",
     "text": [
      "[Parallel(n_jobs=-1)]: Done  33 tasks      | elapsed:   54.4s\n"
     ]
    },
    {
     "name": "stdout",
     "output_type": "stream",
     "text": [
      "[CV]  n_estimators=800, min_samples_split=5, min_samples_leaf=1, max_features=sqrt, max_depth=90, bootstrap=False, total=   3.5s\n",
      "[CV] n_estimators=2000, min_samples_split=10, min_samples_leaf=1, max_features=sqrt, max_depth=10, bootstrap=False \n",
      "[CV]  n_estimators=1800, min_samples_split=5, min_samples_leaf=4, max_features=auto, max_depth=10, bootstrap=False, total=  11.2s\n",
      "[CV] n_estimators=2000, min_samples_split=10, min_samples_leaf=1, max_features=sqrt, max_depth=10, bootstrap=False \n",
      "[CV]  n_estimators=1800, min_samples_split=5, min_samples_leaf=4, max_features=auto, max_depth=10, bootstrap=False, total=  11.0s\n",
      "[CV] n_estimators=1600, min_samples_split=5, min_samples_leaf=2, max_features=sqrt, max_depth=10, bootstrap=False \n",
      "[CV]  n_estimators=2000, min_samples_split=10, min_samples_leaf=1, max_features=sqrt, max_depth=10, bootstrap=False, total=   6.8s\n",
      "[CV] n_estimators=1600, min_samples_split=5, min_samples_leaf=2, max_features=sqrt, max_depth=10, bootstrap=False \n",
      "[CV]  n_estimators=1600, min_samples_split=5, min_samples_leaf=2, max_features=sqrt, max_depth=10, bootstrap=False, total=   4.6s\n",
      "[CV] n_estimators=1600, min_samples_split=5, min_samples_leaf=2, max_features=sqrt, max_depth=10, bootstrap=False \n",
      "[CV]  n_estimators=2000, min_samples_split=10, min_samples_leaf=1, max_features=sqrt, max_depth=10, bootstrap=False, total=   5.7s\n",
      "[CV] n_estimators=800, min_samples_split=10, min_samples_leaf=2, max_features=sqrt, max_depth=30, bootstrap=False \n",
      "[CV]  n_estimators=2000, min_samples_split=10, min_samples_leaf=1, max_features=sqrt, max_depth=10, bootstrap=False, total=   5.6s\n",
      "[CV] n_estimators=800, min_samples_split=10, min_samples_leaf=2, max_features=sqrt, max_depth=30, bootstrap=False \n",
      "[CV]  n_estimators=1600, min_samples_split=5, min_samples_leaf=2, max_features=sqrt, max_depth=10, bootstrap=False, total=   5.1s\n",
      "[CV] n_estimators=800, min_samples_split=10, min_samples_leaf=2, max_features=sqrt, max_depth=30, bootstrap=False \n",
      "[CV]  n_estimators=800, min_samples_split=10, min_samples_leaf=2, max_features=sqrt, max_depth=30, bootstrap=False, total=   2.8s\n",
      "[CV] n_estimators=1800, min_samples_split=2, min_samples_leaf=4, max_features=auto, max_depth=50, bootstrap=False \n",
      "[CV]  n_estimators=800, min_samples_split=10, min_samples_leaf=2, max_features=sqrt, max_depth=30, bootstrap=False, total=   2.8s\n",
      "[CV] n_estimators=1800, min_samples_split=2, min_samples_leaf=4, max_features=auto, max_depth=50, bootstrap=False \n",
      "[CV]  n_estimators=1600, min_samples_split=5, min_samples_leaf=2, max_features=sqrt, max_depth=10, bootstrap=False, total=   5.1s\n",
      "[CV] n_estimators=1800, min_samples_split=2, min_samples_leaf=4, max_features=auto, max_depth=50, bootstrap=False \n",
      "[CV]  n_estimators=800, min_samples_split=10, min_samples_leaf=2, max_features=sqrt, max_depth=30, bootstrap=False, total=   2.4s\n",
      "[CV] n_estimators=600, min_samples_split=5, min_samples_leaf=2, max_features=auto, max_depth=70, bootstrap=False \n",
      "[CV]  n_estimators=600, min_samples_split=5, min_samples_leaf=2, max_features=auto, max_depth=70, bootstrap=False, total=   4.5s\n",
      "[CV] n_estimators=600, min_samples_split=5, min_samples_leaf=2, max_features=auto, max_depth=70, bootstrap=False \n",
      "[CV]  n_estimators=600, min_samples_split=5, min_samples_leaf=2, max_features=auto, max_depth=70, bootstrap=False, total=   4.5s\n",
      "[CV] n_estimators=600, min_samples_split=5, min_samples_leaf=2, max_features=auto, max_depth=70, bootstrap=False \n",
      "[CV]  n_estimators=1800, min_samples_split=2, min_samples_leaf=4, max_features=auto, max_depth=50, bootstrap=False, total=  11.8s\n",
      "[CV] n_estimators=1000, min_samples_split=2, min_samples_leaf=1, max_features=sqrt, max_depth=20, bootstrap=True \n",
      "[CV]  n_estimators=1800, min_samples_split=2, min_samples_leaf=4, max_features=auto, max_depth=50, bootstrap=False, total=  11.8s\n",
      "[CV] n_estimators=1000, min_samples_split=2, min_samples_leaf=1, max_features=sqrt, max_depth=20, bootstrap=True \n",
      "[CV]  n_estimators=1800, min_samples_split=2, min_samples_leaf=4, max_features=auto, max_depth=50, bootstrap=False, total=  11.9s\n",
      "[CV] n_estimators=1000, min_samples_split=2, min_samples_leaf=1, max_features=sqrt, max_depth=20, bootstrap=True \n",
      "[CV]  n_estimators=1000, min_samples_split=2, min_samples_leaf=1, max_features=sqrt, max_depth=20, bootstrap=True, total=   3.6s\n",
      "[CV] n_estimators=1800, min_samples_split=10, min_samples_leaf=2, max_features=auto, max_depth=110, bootstrap=False \n",
      "[CV]  n_estimators=1000, min_samples_split=2, min_samples_leaf=1, max_features=sqrt, max_depth=20, bootstrap=True, total=   3.7s\n",
      "[CV] n_estimators=1800, min_samples_split=10, min_samples_leaf=2, max_features=auto, max_depth=110, bootstrap=False \n",
      "[CV]  n_estimators=600, min_samples_split=5, min_samples_leaf=2, max_features=auto, max_depth=70, bootstrap=False, total=   4.7s\n",
      "[CV] n_estimators=1800, min_samples_split=10, min_samples_leaf=2, max_features=auto, max_depth=110, bootstrap=False \n",
      "[CV]  n_estimators=1000, min_samples_split=2, min_samples_leaf=1, max_features=sqrt, max_depth=20, bootstrap=True, total=   3.7s\n",
      "[CV] n_estimators=600, min_samples_split=5, min_samples_leaf=1, max_features=auto, max_depth=80, bootstrap=True \n",
      "[CV]  n_estimators=600, min_samples_split=5, min_samples_leaf=1, max_features=auto, max_depth=80, bootstrap=True, total=   3.8s\n",
      "[CV] n_estimators=600, min_samples_split=5, min_samples_leaf=1, max_features=auto, max_depth=80, bootstrap=True \n",
      "[CV]  n_estimators=600, min_samples_split=5, min_samples_leaf=1, max_features=auto, max_depth=80, bootstrap=True, total=   3.9s\n",
      "[CV] n_estimators=600, min_samples_split=5, min_samples_leaf=1, max_features=auto, max_depth=80, bootstrap=True \n",
      "[CV]  n_estimators=600, min_samples_split=5, min_samples_leaf=1, max_features=auto, max_depth=80, bootstrap=True, total=   3.4s\n",
      "[CV] n_estimators=1800, min_samples_split=10, min_samples_leaf=1, max_features=sqrt, max_depth=30, bootstrap=False \n",
      "[CV]  n_estimators=1800, min_samples_split=10, min_samples_leaf=2, max_features=auto, max_depth=110, bootstrap=False, total=  12.9s\n",
      "[CV] n_estimators=1800, min_samples_split=10, min_samples_leaf=1, max_features=sqrt, max_depth=30, bootstrap=False \n",
      "[CV]  n_estimators=1800, min_samples_split=10, min_samples_leaf=2, max_features=auto, max_depth=110, bootstrap=False, total=  13.0s\n",
      "[CV] n_estimators=1800, min_samples_split=10, min_samples_leaf=1, max_features=sqrt, max_depth=30, bootstrap=False \n",
      "[CV]  n_estimators=1800, min_samples_split=10, min_samples_leaf=2, max_features=auto, max_depth=110, bootstrap=False, total=  13.6s\n",
      "[CV] n_estimators=1600, min_samples_split=5, min_samples_leaf=1, max_features=sqrt, max_depth=70, bootstrap=False \n",
      "[CV]  n_estimators=1800, min_samples_split=10, min_samples_leaf=1, max_features=sqrt, max_depth=30, bootstrap=False, total=   6.8s\n",
      "[CV] n_estimators=1600, min_samples_split=5, min_samples_leaf=1, max_features=sqrt, max_depth=70, bootstrap=False \n",
      "[CV]  n_estimators=1800, min_samples_split=10, min_samples_leaf=1, max_features=sqrt, max_depth=30, bootstrap=False, total=   6.6s\n",
      "[CV] n_estimators=1600, min_samples_split=5, min_samples_leaf=1, max_features=sqrt, max_depth=70, bootstrap=False \n",
      "[CV]  n_estimators=1600, min_samples_split=5, min_samples_leaf=1, max_features=sqrt, max_depth=70, bootstrap=False, total=   6.2s\n",
      "[CV] n_estimators=1400, min_samples_split=5, min_samples_leaf=4, max_features=sqrt, max_depth=80, bootstrap=True \n",
      "[CV]  n_estimators=1800, min_samples_split=10, min_samples_leaf=1, max_features=sqrt, max_depth=30, bootstrap=False, total=   6.9s\n",
      "[CV] n_estimators=1400, min_samples_split=5, min_samples_leaf=4, max_features=sqrt, max_depth=80, bootstrap=True \n",
      "[CV]  n_estimators=1400, min_samples_split=5, min_samples_leaf=4, max_features=sqrt, max_depth=80, bootstrap=True, total=   4.9s\n",
      "[CV] n_estimators=1400, min_samples_split=5, min_samples_leaf=4, max_features=sqrt, max_depth=80, bootstrap=True \n",
      "[CV]  n_estimators=1400, min_samples_split=5, min_samples_leaf=4, max_features=sqrt, max_depth=80, bootstrap=True, total=   4.7s\n",
      "[CV] n_estimators=1800, min_samples_split=2, min_samples_leaf=2, max_features=auto, max_depth=None, bootstrap=True \n",
      "[CV]  n_estimators=1600, min_samples_split=5, min_samples_leaf=1, max_features=sqrt, max_depth=70, bootstrap=False, total=   6.4s\n"
     ]
    },
    {
     "name": "stdout",
     "output_type": "stream",
     "text": [
      "[CV] n_estimators=1800, min_samples_split=2, min_samples_leaf=2, max_features=auto, max_depth=None, bootstrap=True \n",
      "[CV]  n_estimators=1600, min_samples_split=5, min_samples_leaf=1, max_features=sqrt, max_depth=70, bootstrap=False, total=   6.4s\n",
      "[CV] n_estimators=1800, min_samples_split=2, min_samples_leaf=2, max_features=auto, max_depth=None, bootstrap=True \n",
      "[CV]  n_estimators=1400, min_samples_split=5, min_samples_leaf=4, max_features=sqrt, max_depth=80, bootstrap=True, total=   4.0s\n",
      "[CV] n_estimators=1400, min_samples_split=5, min_samples_leaf=1, max_features=sqrt, max_depth=80, bootstrap=False \n",
      "[CV]  n_estimators=1400, min_samples_split=5, min_samples_leaf=1, max_features=sqrt, max_depth=80, bootstrap=False, total=   4.6s\n",
      "[CV] n_estimators=1400, min_samples_split=5, min_samples_leaf=1, max_features=sqrt, max_depth=80, bootstrap=False \n",
      "[CV]  n_estimators=1800, min_samples_split=2, min_samples_leaf=2, max_features=auto, max_depth=None, bootstrap=True, total=  10.6s\n",
      "[CV] n_estimators=1400, min_samples_split=5, min_samples_leaf=1, max_features=sqrt, max_depth=80, bootstrap=False \n",
      "[CV]  n_estimators=1800, min_samples_split=2, min_samples_leaf=2, max_features=auto, max_depth=None, bootstrap=True, total=  10.1s\n",
      "[CV] n_estimators=400, min_samples_split=2, min_samples_leaf=1, max_features=sqrt, max_depth=None, bootstrap=False \n",
      "[CV]  n_estimators=1800, min_samples_split=2, min_samples_leaf=2, max_features=auto, max_depth=None, bootstrap=True, total=  10.4s\n",
      "[CV] n_estimators=400, min_samples_split=2, min_samples_leaf=1, max_features=sqrt, max_depth=None, bootstrap=False \n",
      "[CV]  n_estimators=400, min_samples_split=2, min_samples_leaf=1, max_features=sqrt, max_depth=None, bootstrap=False, total=   1.7s\n",
      "[CV] n_estimators=400, min_samples_split=2, min_samples_leaf=1, max_features=sqrt, max_depth=None, bootstrap=False \n",
      "[CV]  n_estimators=400, min_samples_split=2, min_samples_leaf=1, max_features=sqrt, max_depth=None, bootstrap=False, total=   1.7s\n",
      "[CV] n_estimators=1400, min_samples_split=2, min_samples_leaf=1, max_features=auto, max_depth=40, bootstrap=False \n",
      "[CV]  n_estimators=1400, min_samples_split=5, min_samples_leaf=1, max_features=sqrt, max_depth=80, bootstrap=False, total=   5.3s\n",
      "[CV] n_estimators=1400, min_samples_split=2, min_samples_leaf=1, max_features=auto, max_depth=40, bootstrap=False \n",
      "[CV]  n_estimators=400, min_samples_split=2, min_samples_leaf=1, max_features=sqrt, max_depth=None, bootstrap=False, total=   1.6s\n",
      "[CV] n_estimators=1400, min_samples_split=2, min_samples_leaf=1, max_features=auto, max_depth=40, bootstrap=False \n",
      "[CV]  n_estimators=1400, min_samples_split=5, min_samples_leaf=1, max_features=sqrt, max_depth=80, bootstrap=False, total=   5.2s\n",
      "[CV] n_estimators=1000, min_samples_split=5, min_samples_leaf=2, max_features=sqrt, max_depth=20, bootstrap=True \n",
      "[CV]  n_estimators=1000, min_samples_split=5, min_samples_leaf=2, max_features=sqrt, max_depth=20, bootstrap=True, total=   3.2s\n",
      "[CV] n_estimators=1000, min_samples_split=5, min_samples_leaf=2, max_features=sqrt, max_depth=20, bootstrap=True \n",
      "[CV]  n_estimators=1000, min_samples_split=5, min_samples_leaf=2, max_features=sqrt, max_depth=20, bootstrap=True, total=   3.0s\n",
      "[CV] n_estimators=1000, min_samples_split=5, min_samples_leaf=2, max_features=sqrt, max_depth=20, bootstrap=True \n",
      "[CV]  n_estimators=1000, min_samples_split=5, min_samples_leaf=2, max_features=sqrt, max_depth=20, bootstrap=True, total=   2.4s\n",
      "[CV] n_estimators=2000, min_samples_split=10, min_samples_leaf=4, max_features=auto, max_depth=100, bootstrap=False \n",
      "[CV]  n_estimators=1400, min_samples_split=2, min_samples_leaf=1, max_features=auto, max_depth=40, bootstrap=False, total=  13.0s\n",
      "[CV] n_estimators=2000, min_samples_split=10, min_samples_leaf=4, max_features=auto, max_depth=100, bootstrap=False \n",
      "[CV]  n_estimators=1400, min_samples_split=2, min_samples_leaf=1, max_features=auto, max_depth=40, bootstrap=False, total=  13.9s\n",
      "[CV] n_estimators=2000, min_samples_split=10, min_samples_leaf=4, max_features=auto, max_depth=100, bootstrap=False \n",
      "[CV]  n_estimators=1400, min_samples_split=2, min_samples_leaf=1, max_features=auto, max_depth=40, bootstrap=False, total=  13.3s\n",
      "[CV] n_estimators=1200, min_samples_split=2, min_samples_leaf=2, max_features=sqrt, max_depth=20, bootstrap=True \n",
      "[CV]  n_estimators=1200, min_samples_split=2, min_samples_leaf=2, max_features=sqrt, max_depth=20, bootstrap=True, total=   3.7s\n",
      "[CV] n_estimators=1200, min_samples_split=2, min_samples_leaf=2, max_features=sqrt, max_depth=20, bootstrap=True \n",
      "[CV]  n_estimators=1200, min_samples_split=2, min_samples_leaf=2, max_features=sqrt, max_depth=20, bootstrap=True, total=   3.6s\n",
      "[CV] n_estimators=1200, min_samples_split=2, min_samples_leaf=2, max_features=sqrt, max_depth=20, bootstrap=True \n",
      "[CV]  n_estimators=2000, min_samples_split=10, min_samples_leaf=4, max_features=auto, max_depth=100, bootstrap=False, total=  13.5s\n",
      "[CV] n_estimators=1200, min_samples_split=10, min_samples_leaf=4, max_features=sqrt, max_depth=20, bootstrap=False \n",
      "[CV]  n_estimators=1200, min_samples_split=2, min_samples_leaf=2, max_features=sqrt, max_depth=20, bootstrap=True, total=   4.0s\n",
      "[CV] n_estimators=1200, min_samples_split=10, min_samples_leaf=4, max_features=sqrt, max_depth=20, bootstrap=False \n",
      "[CV]  n_estimators=2000, min_samples_split=10, min_samples_leaf=4, max_features=auto, max_depth=100, bootstrap=False, total=  13.6s\n",
      "[CV] n_estimators=1200, min_samples_split=10, min_samples_leaf=4, max_features=sqrt, max_depth=20, bootstrap=False \n",
      "[CV]  n_estimators=2000, min_samples_split=10, min_samples_leaf=4, max_features=auto, max_depth=100, bootstrap=False, total=  13.6s\n",
      "[CV] n_estimators=800, min_samples_split=2, min_samples_leaf=2, max_features=sqrt, max_depth=50, bootstrap=False \n",
      "[CV]  n_estimators=1200, min_samples_split=10, min_samples_leaf=4, max_features=sqrt, max_depth=20, bootstrap=False, total=   4.1s\n",
      "[CV] n_estimators=800, min_samples_split=2, min_samples_leaf=2, max_features=sqrt, max_depth=50, bootstrap=False \n",
      "[CV]  n_estimators=1200, min_samples_split=10, min_samples_leaf=4, max_features=sqrt, max_depth=20, bootstrap=False, total=   3.9s\n",
      "[CV] n_estimators=800, min_samples_split=2, min_samples_leaf=2, max_features=sqrt, max_depth=50, bootstrap=False \n",
      "[CV]  n_estimators=800, min_samples_split=2, min_samples_leaf=2, max_features=sqrt, max_depth=50, bootstrap=False, total=   3.0s\n",
      "[CV] n_estimators=800, min_samples_split=5, min_samples_leaf=1, max_features=sqrt, max_depth=100, bootstrap=False \n",
      "[CV]  n_estimators=1200, min_samples_split=10, min_samples_leaf=4, max_features=sqrt, max_depth=20, bootstrap=False, total=   4.1s\n",
      "[CV] n_estimators=800, min_samples_split=5, min_samples_leaf=1, max_features=sqrt, max_depth=100, bootstrap=False \n",
      "[CV]  n_estimators=800, min_samples_split=2, min_samples_leaf=2, max_features=sqrt, max_depth=50, bootstrap=False, total=   2.7s\n",
      "[CV] n_estimators=800, min_samples_split=5, min_samples_leaf=1, max_features=sqrt, max_depth=100, bootstrap=False \n",
      "[CV]  n_estimators=800, min_samples_split=2, min_samples_leaf=2, max_features=sqrt, max_depth=50, bootstrap=False, total=   2.9s\n",
      "[CV] n_estimators=800, min_samples_split=10, min_samples_leaf=4, max_features=sqrt, max_depth=50, bootstrap=True \n",
      "[CV]  n_estimators=800, min_samples_split=5, min_samples_leaf=1, max_features=sqrt, max_depth=100, bootstrap=False, total=   2.9s\n",
      "[CV] n_estimators=800, min_samples_split=10, min_samples_leaf=4, max_features=sqrt, max_depth=50, bootstrap=True \n",
      "[CV]  n_estimators=800, min_samples_split=5, min_samples_leaf=1, max_features=sqrt, max_depth=100, bootstrap=False, total=   2.9s\n",
      "[CV] n_estimators=800, min_samples_split=10, min_samples_leaf=4, max_features=sqrt, max_depth=50, bootstrap=True \n",
      "[CV]  n_estimators=800, min_samples_split=5, min_samples_leaf=1, max_features=sqrt, max_depth=100, bootstrap=False, total=   2.8s\n",
      "[CV] n_estimators=1800, min_samples_split=2, min_samples_leaf=4, max_features=sqrt, max_depth=90, bootstrap=True \n",
      "[CV]  n_estimators=800, min_samples_split=10, min_samples_leaf=4, max_features=sqrt, max_depth=50, bootstrap=True, total=   2.2s\n",
      "[CV] n_estimators=1800, min_samples_split=2, min_samples_leaf=4, max_features=sqrt, max_depth=90, bootstrap=True \n"
     ]
    },
    {
     "name": "stdout",
     "output_type": "stream",
     "text": [
      "[CV]  n_estimators=800, min_samples_split=10, min_samples_leaf=4, max_features=sqrt, max_depth=50, bootstrap=True, total=   2.2s\n",
      "[CV] n_estimators=1800, min_samples_split=2, min_samples_leaf=4, max_features=sqrt, max_depth=90, bootstrap=True \n",
      "[CV]  n_estimators=800, min_samples_split=10, min_samples_leaf=4, max_features=sqrt, max_depth=50, bootstrap=True, total=   2.0s\n",
      "[CV] n_estimators=800, min_samples_split=10, min_samples_leaf=2, max_features=sqrt, max_depth=20, bootstrap=False \n",
      "[CV]  n_estimators=800, min_samples_split=10, min_samples_leaf=2, max_features=sqrt, max_depth=20, bootstrap=False, total=   2.0s\n",
      "[CV] n_estimators=800, min_samples_split=10, min_samples_leaf=2, max_features=sqrt, max_depth=20, bootstrap=False \n",
      "[CV]  n_estimators=1800, min_samples_split=2, min_samples_leaf=4, max_features=sqrt, max_depth=90, bootstrap=True, total=   4.2s\n",
      "[CV] n_estimators=800, min_samples_split=10, min_samples_leaf=2, max_features=sqrt, max_depth=20, bootstrap=False \n",
      "[CV]  n_estimators=1800, min_samples_split=2, min_samples_leaf=4, max_features=sqrt, max_depth=90, bootstrap=True, total=   4.4s\n",
      "[CV] n_estimators=1200, min_samples_split=5, min_samples_leaf=2, max_features=sqrt, max_depth=20, bootstrap=True \n",
      "[CV]  n_estimators=1800, min_samples_split=2, min_samples_leaf=4, max_features=sqrt, max_depth=90, bootstrap=True, total=   4.6s\n",
      "[CV] n_estimators=1200, min_samples_split=5, min_samples_leaf=2, max_features=sqrt, max_depth=20, bootstrap=True \n",
      "[CV]  n_estimators=800, min_samples_split=10, min_samples_leaf=2, max_features=sqrt, max_depth=20, bootstrap=False, total=   2.9s\n",
      "[CV] n_estimators=1200, min_samples_split=5, min_samples_leaf=2, max_features=sqrt, max_depth=20, bootstrap=True \n",
      "[CV]  n_estimators=800, min_samples_split=10, min_samples_leaf=2, max_features=sqrt, max_depth=20, bootstrap=False, total=   3.2s\n",
      "[CV] n_estimators=800, min_samples_split=2, min_samples_leaf=1, max_features=auto, max_depth=100, bootstrap=True \n",
      "[CV]  n_estimators=1200, min_samples_split=5, min_samples_leaf=2, max_features=sqrt, max_depth=20, bootstrap=True, total=   4.3s\n",
      "[CV] n_estimators=800, min_samples_split=2, min_samples_leaf=1, max_features=auto, max_depth=100, bootstrap=True \n",
      "[CV]  n_estimators=1200, min_samples_split=5, min_samples_leaf=2, max_features=sqrt, max_depth=20, bootstrap=True, total=   4.0s\n",
      "[CV] n_estimators=800, min_samples_split=2, min_samples_leaf=1, max_features=auto, max_depth=100, bootstrap=True \n",
      "[CV]  n_estimators=1200, min_samples_split=5, min_samples_leaf=2, max_features=sqrt, max_depth=20, bootstrap=True, total=   3.6s\n",
      "[CV] n_estimators=800, min_samples_split=5, min_samples_leaf=2, max_features=auto, max_depth=None, bootstrap=True \n",
      "[CV]  n_estimators=800, min_samples_split=2, min_samples_leaf=1, max_features=auto, max_depth=100, bootstrap=True, total=   5.0s\n",
      "[CV] n_estimators=800, min_samples_split=5, min_samples_leaf=2, max_features=auto, max_depth=None, bootstrap=True \n",
      "[CV]  n_estimators=800, min_samples_split=2, min_samples_leaf=1, max_features=auto, max_depth=100, bootstrap=True, total=   4.7s\n",
      "[CV] n_estimators=800, min_samples_split=5, min_samples_leaf=2, max_features=auto, max_depth=None, bootstrap=True \n",
      "[CV]  n_estimators=800, min_samples_split=5, min_samples_leaf=2, max_features=auto, max_depth=None, bootstrap=True, total=   3.8s\n",
      "[CV] n_estimators=1000, min_samples_split=2, min_samples_leaf=2, max_features=sqrt, max_depth=60, bootstrap=True \n",
      "[CV]  n_estimators=800, min_samples_split=2, min_samples_leaf=1, max_features=auto, max_depth=100, bootstrap=True, total=   4.7s\n",
      "[CV] n_estimators=1000, min_samples_split=2, min_samples_leaf=2, max_features=sqrt, max_depth=60, bootstrap=True \n",
      "[CV]  n_estimators=800, min_samples_split=5, min_samples_leaf=2, max_features=auto, max_depth=None, bootstrap=True, total=   4.0s\n",
      "[CV] n_estimators=1000, min_samples_split=2, min_samples_leaf=2, max_features=sqrt, max_depth=60, bootstrap=True \n",
      "[CV]  n_estimators=1000, min_samples_split=2, min_samples_leaf=2, max_features=sqrt, max_depth=60, bootstrap=True, total=   2.5s\n",
      "[CV] n_estimators=200, min_samples_split=5, min_samples_leaf=4, max_features=auto, max_depth=10, bootstrap=True \n",
      "[CV]  n_estimators=1000, min_samples_split=2, min_samples_leaf=2, max_features=sqrt, max_depth=60, bootstrap=True, total=   2.5s\n",
      "[CV] n_estimators=200, min_samples_split=5, min_samples_leaf=4, max_features=auto, max_depth=10, bootstrap=True \n",
      "[CV]  n_estimators=200, min_samples_split=5, min_samples_leaf=4, max_features=auto, max_depth=10, bootstrap=True, total=   0.8s\n",
      "[CV] n_estimators=200, min_samples_split=5, min_samples_leaf=4, max_features=auto, max_depth=10, bootstrap=True \n",
      "[CV]  n_estimators=200, min_samples_split=5, min_samples_leaf=4, max_features=auto, max_depth=10, bootstrap=True, total=   0.8s\n",
      "[CV] n_estimators=600, min_samples_split=10, min_samples_leaf=2, max_features=sqrt, max_depth=60, bootstrap=True \n",
      "[CV]  n_estimators=800, min_samples_split=5, min_samples_leaf=2, max_features=auto, max_depth=None, bootstrap=True, total=   4.0s\n",
      "[CV] n_estimators=600, min_samples_split=10, min_samples_leaf=2, max_features=sqrt, max_depth=60, bootstrap=True \n",
      "[CV]  n_estimators=200, min_samples_split=5, min_samples_leaf=4, max_features=auto, max_depth=10, bootstrap=True, total=   0.9s\n",
      "[CV] n_estimators=600, min_samples_split=10, min_samples_leaf=2, max_features=sqrt, max_depth=60, bootstrap=True \n",
      "[CV]  n_estimators=600, min_samples_split=10, min_samples_leaf=2, max_features=sqrt, max_depth=60, bootstrap=True, total=   1.6s\n",
      "[CV] n_estimators=800, min_samples_split=2, min_samples_leaf=4, max_features=sqrt, max_depth=90, bootstrap=True \n",
      "[CV]  n_estimators=1000, min_samples_split=2, min_samples_leaf=2, max_features=sqrt, max_depth=60, bootstrap=True, total=   2.7s\n",
      "[CV] n_estimators=800, min_samples_split=2, min_samples_leaf=4, max_features=sqrt, max_depth=90, bootstrap=True \n",
      "[CV]  n_estimators=600, min_samples_split=10, min_samples_leaf=2, max_features=sqrt, max_depth=60, bootstrap=True, total=   1.6s\n",
      "[CV] n_estimators=800, min_samples_split=2, min_samples_leaf=4, max_features=sqrt, max_depth=90, bootstrap=True \n",
      "[CV]  n_estimators=600, min_samples_split=10, min_samples_leaf=2, max_features=sqrt, max_depth=60, bootstrap=True, total=   1.6s\n",
      "[CV] n_estimators=400, min_samples_split=10, min_samples_leaf=4, max_features=sqrt, max_depth=90, bootstrap=True \n",
      "[CV]  n_estimators=400, min_samples_split=10, min_samples_leaf=4, max_features=sqrt, max_depth=90, bootstrap=True, total=   0.9s\n",
      "[CV] n_estimators=400, min_samples_split=10, min_samples_leaf=4, max_features=sqrt, max_depth=90, bootstrap=True \n",
      "[CV]  n_estimators=800, min_samples_split=2, min_samples_leaf=4, max_features=sqrt, max_depth=90, bootstrap=True, total=   2.0s\n",
      "[CV] n_estimators=400, min_samples_split=10, min_samples_leaf=4, max_features=sqrt, max_depth=90, bootstrap=True \n",
      "[CV]  n_estimators=800, min_samples_split=2, min_samples_leaf=4, max_features=sqrt, max_depth=90, bootstrap=True, total=   2.0s\n",
      "[CV] n_estimators=200, min_samples_split=5, min_samples_leaf=2, max_features=auto, max_depth=90, bootstrap=False \n",
      "[CV]  n_estimators=800, min_samples_split=2, min_samples_leaf=4, max_features=sqrt, max_depth=90, bootstrap=True, total=   2.0s\n",
      "[CV] n_estimators=200, min_samples_split=5, min_samples_leaf=2, max_features=auto, max_depth=90, bootstrap=False \n",
      "[CV]  n_estimators=400, min_samples_split=10, min_samples_leaf=4, max_features=sqrt, max_depth=90, bootstrap=True, total=   1.0s\n",
      "[CV] n_estimators=200, min_samples_split=5, min_samples_leaf=2, max_features=auto, max_depth=90, bootstrap=False \n",
      "[CV]  n_estimators=400, min_samples_split=10, min_samples_leaf=4, max_features=sqrt, max_depth=90, bootstrap=True, total=   1.0s\n",
      "[CV] n_estimators=1000, min_samples_split=2, min_samples_leaf=1, max_features=sqrt, max_depth=110, bootstrap=True \n",
      "[CV]  n_estimators=200, min_samples_split=5, min_samples_leaf=2, max_features=auto, max_depth=90, bootstrap=False, total=   1.4s\n",
      "[CV] n_estimators=1000, min_samples_split=2, min_samples_leaf=1, max_features=sqrt, max_depth=110, bootstrap=True \n",
      "[CV]  n_estimators=200, min_samples_split=5, min_samples_leaf=2, max_features=auto, max_depth=90, bootstrap=False, total=   1.3s\n",
      "[CV] n_estimators=1000, min_samples_split=2, min_samples_leaf=1, max_features=sqrt, max_depth=110, bootstrap=True \n"
     ]
    },
    {
     "name": "stdout",
     "output_type": "stream",
     "text": [
      "[CV]  n_estimators=200, min_samples_split=5, min_samples_leaf=2, max_features=auto, max_depth=90, bootstrap=False, total=   1.3s\n",
      "[CV] n_estimators=2000, min_samples_split=2, min_samples_leaf=2, max_features=auto, max_depth=90, bootstrap=True \n",
      "[CV]  n_estimators=1000, min_samples_split=2, min_samples_leaf=1, max_features=sqrt, max_depth=110, bootstrap=True, total=   3.0s\n",
      "[CV] n_estimators=2000, min_samples_split=2, min_samples_leaf=2, max_features=auto, max_depth=90, bootstrap=True \n",
      "[CV]  n_estimators=1000, min_samples_split=2, min_samples_leaf=1, max_features=sqrt, max_depth=110, bootstrap=True, total=   3.0s\n",
      "[CV] n_estimators=2000, min_samples_split=2, min_samples_leaf=2, max_features=auto, max_depth=90, bootstrap=True \n",
      "[CV]  n_estimators=1000, min_samples_split=2, min_samples_leaf=1, max_features=sqrt, max_depth=110, bootstrap=True, total=   3.1s\n",
      "[CV] n_estimators=400, min_samples_split=10, min_samples_leaf=4, max_features=sqrt, max_depth=80, bootstrap=False \n",
      "[CV]  n_estimators=400, min_samples_split=10, min_samples_leaf=4, max_features=sqrt, max_depth=80, bootstrap=False, total=   1.0s\n",
      "[CV] n_estimators=400, min_samples_split=10, min_samples_leaf=4, max_features=sqrt, max_depth=80, bootstrap=False \n",
      "[CV]  n_estimators=400, min_samples_split=10, min_samples_leaf=4, max_features=sqrt, max_depth=80, bootstrap=False, total=   1.0s\n",
      "[CV] n_estimators=400, min_samples_split=10, min_samples_leaf=4, max_features=sqrt, max_depth=80, bootstrap=False \n",
      "[CV]  n_estimators=400, min_samples_split=10, min_samples_leaf=4, max_features=sqrt, max_depth=80, bootstrap=False, total=   1.0s\n",
      "[CV] n_estimators=1200, min_samples_split=2, min_samples_leaf=4, max_features=sqrt, max_depth=70, bootstrap=False \n",
      "[CV]  n_estimators=1200, min_samples_split=2, min_samples_leaf=4, max_features=sqrt, max_depth=70, bootstrap=False, total=   2.9s\n",
      "[CV] n_estimators=1200, min_samples_split=2, min_samples_leaf=4, max_features=sqrt, max_depth=70, bootstrap=False \n",
      "[CV]  n_estimators=2000, min_samples_split=2, min_samples_leaf=2, max_features=auto, max_depth=90, bootstrap=True, total=  10.5s\n",
      "[CV] n_estimators=1200, min_samples_split=2, min_samples_leaf=4, max_features=sqrt, max_depth=70, bootstrap=False \n",
      "[CV]  n_estimators=1200, min_samples_split=2, min_samples_leaf=4, max_features=sqrt, max_depth=70, bootstrap=False, total=   3.1s\n",
      "[CV]  n_estimators=2000, min_samples_split=2, min_samples_leaf=2, max_features=auto, max_depth=90, bootstrap=True, total=   9.9s\n",
      "[CV] n_estimators=600, min_samples_split=2, min_samples_leaf=2, max_features=sqrt, max_depth=110, bootstrap=False \n",
      "[CV] n_estimators=600, min_samples_split=2, min_samples_leaf=2, max_features=sqrt, max_depth=110, bootstrap=False \n",
      "[CV]  n_estimators=2000, min_samples_split=2, min_samples_leaf=2, max_features=auto, max_depth=90, bootstrap=True, total=   9.9s\n",
      "[CV] n_estimators=600, min_samples_split=2, min_samples_leaf=2, max_features=sqrt, max_depth=110, bootstrap=False \n",
      "[CV]  n_estimators=1200, min_samples_split=2, min_samples_leaf=4, max_features=sqrt, max_depth=70, bootstrap=False, total=   3.0s\n",
      "[CV] n_estimators=1800, min_samples_split=2, min_samples_leaf=1, max_features=auto, max_depth=20, bootstrap=False \n",
      "[CV]  n_estimators=600, min_samples_split=2, min_samples_leaf=2, max_features=sqrt, max_depth=110, bootstrap=False, total=   1.7s\n",
      "[CV] n_estimators=1800, min_samples_split=2, min_samples_leaf=1, max_features=auto, max_depth=20, bootstrap=False \n",
      "[CV]  n_estimators=600, min_samples_split=2, min_samples_leaf=2, max_features=sqrt, max_depth=110, bootstrap=False, total=   1.7s\n",
      "[CV] n_estimators=1800, min_samples_split=2, min_samples_leaf=1, max_features=auto, max_depth=20, bootstrap=False \n",
      "[CV]  n_estimators=600, min_samples_split=2, min_samples_leaf=2, max_features=sqrt, max_depth=110, bootstrap=False, total=   1.7s\n",
      "[CV] n_estimators=2000, min_samples_split=10, min_samples_leaf=2, max_features=auto, max_depth=50, bootstrap=False \n",
      "[CV]  n_estimators=2000, min_samples_split=10, min_samples_leaf=2, max_features=auto, max_depth=50, bootstrap=False, total=  16.5s\n",
      "[CV] n_estimators=2000, min_samples_split=10, min_samples_leaf=2, max_features=auto, max_depth=50, bootstrap=False \n",
      "[CV]  n_estimators=1800, min_samples_split=2, min_samples_leaf=1, max_features=auto, max_depth=20, bootstrap=False, total=  18.3s\n",
      "[CV]  n_estimators=1800, min_samples_split=2, min_samples_leaf=1, max_features=auto, max_depth=20, bootstrap=False, total=  18.2s\n",
      "[CV] n_estimators=2000, min_samples_split=10, min_samples_leaf=2, max_features=auto, max_depth=50, bootstrap=False \n",
      "[CV] n_estimators=1000, min_samples_split=10, min_samples_leaf=4, max_features=auto, max_depth=50, bootstrap=False \n",
      "[CV]  n_estimators=1800, min_samples_split=2, min_samples_leaf=1, max_features=auto, max_depth=20, bootstrap=False, total=  19.3s\n",
      "[CV] n_estimators=1000, min_samples_split=10, min_samples_leaf=4, max_features=auto, max_depth=50, bootstrap=False \n"
     ]
    },
    {
     "name": "stderr",
     "output_type": "stream",
     "text": [
      "[Parallel(n_jobs=-1)]: Done 154 tasks      | elapsed:  3.6min\n"
     ]
    },
    {
     "name": "stdout",
     "output_type": "stream",
     "text": [
      "[CV]  n_estimators=1000, min_samples_split=10, min_samples_leaf=4, max_features=auto, max_depth=50, bootstrap=False, total=   7.4s\n",
      "[CV] n_estimators=1000, min_samples_split=10, min_samples_leaf=4, max_features=auto, max_depth=50, bootstrap=False \n",
      "[CV]  n_estimators=1000, min_samples_split=10, min_samples_leaf=4, max_features=auto, max_depth=50, bootstrap=False, total=   7.9s\n",
      "[CV] n_estimators=1000, min_samples_split=5, min_samples_leaf=4, max_features=auto, max_depth=30, bootstrap=False \n",
      "[CV]  n_estimators=2000, min_samples_split=10, min_samples_leaf=2, max_features=auto, max_depth=50, bootstrap=False, total=  15.6s\n",
      "[CV] n_estimators=1000, min_samples_split=5, min_samples_leaf=4, max_features=auto, max_depth=30, bootstrap=False \n",
      "[CV]  n_estimators=1000, min_samples_split=10, min_samples_leaf=4, max_features=auto, max_depth=50, bootstrap=False, total=   7.2s\n",
      "[CV] n_estimators=1000, min_samples_split=5, min_samples_leaf=4, max_features=auto, max_depth=30, bootstrap=False \n",
      "[CV]  n_estimators=2000, min_samples_split=10, min_samples_leaf=2, max_features=auto, max_depth=50, bootstrap=False, total=  15.4s\n",
      "[CV] n_estimators=1400, min_samples_split=5, min_samples_leaf=2, max_features=sqrt, max_depth=None, bootstrap=False \n",
      "[CV]  n_estimators=1000, min_samples_split=5, min_samples_leaf=4, max_features=auto, max_depth=30, bootstrap=False, total=   7.0s\n",
      "[CV] n_estimators=1400, min_samples_split=5, min_samples_leaf=2, max_features=sqrt, max_depth=None, bootstrap=False \n",
      "[CV]  n_estimators=1400, min_samples_split=5, min_samples_leaf=2, max_features=sqrt, max_depth=None, bootstrap=False, total=   4.2s\n",
      "[CV] n_estimators=1400, min_samples_split=5, min_samples_leaf=2, max_features=sqrt, max_depth=None, bootstrap=False \n",
      "[CV]  n_estimators=1400, min_samples_split=5, min_samples_leaf=2, max_features=sqrt, max_depth=None, bootstrap=False, total=   4.3s\n",
      "[CV] n_estimators=600, min_samples_split=2, min_samples_leaf=4, max_features=sqrt, max_depth=60, bootstrap=False \n",
      "[CV]  n_estimators=1000, min_samples_split=5, min_samples_leaf=4, max_features=auto, max_depth=30, bootstrap=False, total=   6.5s\n",
      "[CV] n_estimators=600, min_samples_split=2, min_samples_leaf=4, max_features=sqrt, max_depth=60, bootstrap=False \n",
      "[CV]  n_estimators=1000, min_samples_split=5, min_samples_leaf=4, max_features=auto, max_depth=30, bootstrap=False, total=   6.5s\n",
      "[CV] n_estimators=600, min_samples_split=2, min_samples_leaf=4, max_features=sqrt, max_depth=60, bootstrap=False \n",
      "[CV]  n_estimators=600, min_samples_split=2, min_samples_leaf=4, max_features=sqrt, max_depth=60, bootstrap=False, total=   1.7s\n",
      "[CV] n_estimators=1600, min_samples_split=5, min_samples_leaf=1, max_features=auto, max_depth=10, bootstrap=True \n",
      "[CV]  n_estimators=600, min_samples_split=2, min_samples_leaf=4, max_features=sqrt, max_depth=60, bootstrap=False, total=   1.8s\n",
      "[CV] n_estimators=1600, min_samples_split=5, min_samples_leaf=1, max_features=auto, max_depth=10, bootstrap=True \n",
      "[CV]  n_estimators=600, min_samples_split=2, min_samples_leaf=4, max_features=sqrt, max_depth=60, bootstrap=False, total=   1.8s\n",
      "[CV] n_estimators=1600, min_samples_split=5, min_samples_leaf=1, max_features=auto, max_depth=10, bootstrap=True \n",
      "[CV]  n_estimators=1400, min_samples_split=5, min_samples_leaf=2, max_features=sqrt, max_depth=None, bootstrap=False, total=   4.4s\n",
      "[CV] n_estimators=1800, min_samples_split=2, min_samples_leaf=2, max_features=auto, max_depth=80, bootstrap=True \n",
      "[CV]  n_estimators=1600, min_samples_split=5, min_samples_leaf=1, max_features=auto, max_depth=10, bootstrap=True, total=   8.3s\n",
      "[CV] n_estimators=1800, min_samples_split=2, min_samples_leaf=2, max_features=auto, max_depth=80, bootstrap=True \n",
      "[CV]  n_estimators=1600, min_samples_split=5, min_samples_leaf=1, max_features=auto, max_depth=10, bootstrap=True, total=   8.0s\n",
      "[CV] n_estimators=1800, min_samples_split=2, min_samples_leaf=2, max_features=auto, max_depth=80, bootstrap=True \n",
      "[CV]  n_estimators=1600, min_samples_split=5, min_samples_leaf=1, max_features=auto, max_depth=10, bootstrap=True, total=   8.0s\n",
      "[CV] n_estimators=1400, min_samples_split=2, min_samples_leaf=1, max_features=auto, max_depth=100, bootstrap=True \n",
      "[CV]  n_estimators=1800, min_samples_split=2, min_samples_leaf=2, max_features=auto, max_depth=80, bootstrap=True, total=  10.0s\n",
      "[CV] n_estimators=1400, min_samples_split=2, min_samples_leaf=1, max_features=auto, max_depth=100, bootstrap=True \n",
      "[CV]  n_estimators=1800, min_samples_split=2, min_samples_leaf=2, max_features=auto, max_depth=80, bootstrap=True, total=   9.8s\n",
      "[CV] n_estimators=1400, min_samples_split=2, min_samples_leaf=1, max_features=auto, max_depth=100, bootstrap=True \n",
      "[CV]  n_estimators=1400, min_samples_split=2, min_samples_leaf=1, max_features=auto, max_depth=100, bootstrap=True, total=   9.2s\n",
      "[CV] n_estimators=1400, min_samples_split=10, min_samples_leaf=2, max_features=sqrt, max_depth=80, bootstrap=True \n",
      "[CV]  n_estimators=1800, min_samples_split=2, min_samples_leaf=2, max_features=auto, max_depth=80, bootstrap=True, total=   9.9s\n",
      "[CV] n_estimators=1400, min_samples_split=10, min_samples_leaf=2, max_features=sqrt, max_depth=80, bootstrap=True \n",
      "[CV]  n_estimators=1400, min_samples_split=2, min_samples_leaf=1, max_features=auto, max_depth=100, bootstrap=True, total=   9.2s\n",
      "[CV] n_estimators=1400, min_samples_split=10, min_samples_leaf=2, max_features=sqrt, max_depth=80, bootstrap=True \n",
      "[CV]  n_estimators=1400, min_samples_split=10, min_samples_leaf=2, max_features=sqrt, max_depth=80, bootstrap=True, total=   4.2s\n",
      "[CV] n_estimators=200, min_samples_split=2, min_samples_leaf=1, max_features=sqrt, max_depth=50, bootstrap=True \n",
      "[CV]  n_estimators=1400, min_samples_split=10, min_samples_leaf=2, max_features=sqrt, max_depth=80, bootstrap=True, total=   4.0s\n",
      "[CV] n_estimators=200, min_samples_split=2, min_samples_leaf=1, max_features=sqrt, max_depth=50, bootstrap=True \n",
      "[CV]  n_estimators=200, min_samples_split=2, min_samples_leaf=1, max_features=sqrt, max_depth=50, bootstrap=True, total=   0.7s\n",
      "[CV] n_estimators=200, min_samples_split=2, min_samples_leaf=1, max_features=sqrt, max_depth=50, bootstrap=True \n",
      "[CV]  n_estimators=200, min_samples_split=2, min_samples_leaf=1, max_features=sqrt, max_depth=50, bootstrap=True, total=   0.6s\n",
      "[CV] n_estimators=400, min_samples_split=2, min_samples_leaf=4, max_features=sqrt, max_depth=10, bootstrap=True \n",
      "[CV]  n_estimators=200, min_samples_split=2, min_samples_leaf=1, max_features=sqrt, max_depth=50, bootstrap=True, total=   0.7s\n",
      "[CV] n_estimators=400, min_samples_split=2, min_samples_leaf=4, max_features=sqrt, max_depth=10, bootstrap=True \n",
      "[CV]  n_estimators=400, min_samples_split=2, min_samples_leaf=4, max_features=sqrt, max_depth=10, bootstrap=True, total=   1.0s\n",
      "[CV] n_estimators=400, min_samples_split=2, min_samples_leaf=4, max_features=sqrt, max_depth=10, bootstrap=True \n",
      "[CV]  n_estimators=400, min_samples_split=2, min_samples_leaf=4, max_features=sqrt, max_depth=10, bootstrap=True, total=   1.1s\n",
      "[CV] n_estimators=1000, min_samples_split=10, min_samples_leaf=4, max_features=auto, max_depth=80, bootstrap=False \n",
      "[CV]  n_estimators=1400, min_samples_split=10, min_samples_leaf=2, max_features=sqrt, max_depth=80, bootstrap=True, total=   4.0s\n",
      "[CV] n_estimators=1000, min_samples_split=10, min_samples_leaf=4, max_features=auto, max_depth=80, bootstrap=False \n",
      "[CV]  n_estimators=400, min_samples_split=2, min_samples_leaf=4, max_features=sqrt, max_depth=10, bootstrap=True, total=   1.1s\n",
      "[CV] n_estimators=1000, min_samples_split=10, min_samples_leaf=4, max_features=auto, max_depth=80, bootstrap=False \n",
      "[CV]  n_estimators=1400, min_samples_split=2, min_samples_leaf=1, max_features=auto, max_depth=100, bootstrap=True, total=   9.4s\n",
      "[CV] n_estimators=1200, min_samples_split=10, min_samples_leaf=2, max_features=auto, max_depth=None, bootstrap=False \n",
      "[CV]  n_estimators=1000, min_samples_split=10, min_samples_leaf=4, max_features=auto, max_depth=80, bootstrap=False, total=   6.2s\n",
      "[CV] n_estimators=1200, min_samples_split=10, min_samples_leaf=2, max_features=auto, max_depth=None, bootstrap=False \n",
      "[CV]  n_estimators=1000, min_samples_split=10, min_samples_leaf=4, max_features=auto, max_depth=80, bootstrap=False, total=   6.2s\n"
     ]
    },
    {
     "name": "stdout",
     "output_type": "stream",
     "text": [
      "[CV] n_estimators=1200, min_samples_split=10, min_samples_leaf=2, max_features=auto, max_depth=None, bootstrap=False \n",
      "[CV]  n_estimators=1000, min_samples_split=10, min_samples_leaf=4, max_features=auto, max_depth=80, bootstrap=False, total=   6.1s\n",
      "[CV] n_estimators=1600, min_samples_split=10, min_samples_leaf=1, max_features=sqrt, max_depth=20, bootstrap=True \n",
      "[CV]  n_estimators=1200, min_samples_split=10, min_samples_leaf=2, max_features=auto, max_depth=None, bootstrap=False, total=   8.2s\n",
      "[CV] n_estimators=1600, min_samples_split=10, min_samples_leaf=1, max_features=sqrt, max_depth=20, bootstrap=True \n",
      "[CV]  n_estimators=1600, min_samples_split=10, min_samples_leaf=1, max_features=sqrt, max_depth=20, bootstrap=True, total=   4.9s\n",
      "[CV] n_estimators=1600, min_samples_split=10, min_samples_leaf=1, max_features=sqrt, max_depth=20, bootstrap=True \n",
      "[CV]  n_estimators=1200, min_samples_split=10, min_samples_leaf=2, max_features=auto, max_depth=None, bootstrap=False, total=   9.0s\n",
      "[CV] n_estimators=1600, min_samples_split=10, min_samples_leaf=2, max_features=auto, max_depth=None, bootstrap=True \n",
      "[CV]  n_estimators=1200, min_samples_split=10, min_samples_leaf=2, max_features=auto, max_depth=None, bootstrap=False, total=   9.2s\n",
      "[CV] n_estimators=1600, min_samples_split=10, min_samples_leaf=2, max_features=auto, max_depth=None, bootstrap=True \n",
      "[CV]  n_estimators=1600, min_samples_split=10, min_samples_leaf=1, max_features=sqrt, max_depth=20, bootstrap=True, total=   6.1s\n",
      "[CV] n_estimators=1600, min_samples_split=10, min_samples_leaf=2, max_features=auto, max_depth=None, bootstrap=True \n",
      "[CV]  n_estimators=1600, min_samples_split=10, min_samples_leaf=1, max_features=sqrt, max_depth=20, bootstrap=True, total=   6.0s\n",
      "[CV] n_estimators=1800, min_samples_split=2, min_samples_leaf=4, max_features=auto, max_depth=10, bootstrap=False \n",
      "[CV]  n_estimators=1600, min_samples_split=10, min_samples_leaf=2, max_features=auto, max_depth=None, bootstrap=True, total=   9.4s\n",
      "[CV] n_estimators=1800, min_samples_split=2, min_samples_leaf=4, max_features=auto, max_depth=10, bootstrap=False \n",
      "[CV]  n_estimators=1600, min_samples_split=10, min_samples_leaf=2, max_features=auto, max_depth=None, bootstrap=True, total=   9.2s\n",
      "[CV] n_estimators=1800, min_samples_split=2, min_samples_leaf=4, max_features=auto, max_depth=10, bootstrap=False \n",
      "[CV]  n_estimators=1600, min_samples_split=10, min_samples_leaf=2, max_features=auto, max_depth=None, bootstrap=True, total=   8.9s\n",
      "[CV] n_estimators=1400, min_samples_split=2, min_samples_leaf=2, max_features=auto, max_depth=70, bootstrap=True \n",
      "[CV]  n_estimators=1800, min_samples_split=2, min_samples_leaf=4, max_features=auto, max_depth=10, bootstrap=False, total=  11.9s\n",
      "[CV] n_estimators=1400, min_samples_split=2, min_samples_leaf=2, max_features=auto, max_depth=70, bootstrap=True \n",
      "[CV]  n_estimators=1400, min_samples_split=2, min_samples_leaf=2, max_features=auto, max_depth=70, bootstrap=True, total=   8.1s\n",
      "[CV] n_estimators=1400, min_samples_split=2, min_samples_leaf=2, max_features=auto, max_depth=70, bootstrap=True \n",
      "[CV]  n_estimators=1800, min_samples_split=2, min_samples_leaf=4, max_features=auto, max_depth=10, bootstrap=False, total=  10.6s\n",
      "[CV] n_estimators=1000, min_samples_split=10, min_samples_leaf=1, max_features=sqrt, max_depth=80, bootstrap=False \n",
      "[CV]  n_estimators=1800, min_samples_split=2, min_samples_leaf=4, max_features=auto, max_depth=10, bootstrap=False, total=  10.3s\n",
      "[CV] n_estimators=1000, min_samples_split=10, min_samples_leaf=1, max_features=sqrt, max_depth=80, bootstrap=False \n",
      "[CV]  n_estimators=1400, min_samples_split=2, min_samples_leaf=2, max_features=auto, max_depth=70, bootstrap=True, total=   6.7s\n",
      "[CV] n_estimators=1000, min_samples_split=10, min_samples_leaf=1, max_features=sqrt, max_depth=80, bootstrap=False \n",
      "[CV]  n_estimators=1000, min_samples_split=10, min_samples_leaf=1, max_features=sqrt, max_depth=80, bootstrap=False, total=   2.6s\n",
      "[CV] n_estimators=2000, min_samples_split=10, min_samples_leaf=2, max_features=auto, max_depth=60, bootstrap=False \n",
      "[CV]  n_estimators=1000, min_samples_split=10, min_samples_leaf=1, max_features=sqrt, max_depth=80, bootstrap=False, total=   2.6s\n",
      "[CV] n_estimators=2000, min_samples_split=10, min_samples_leaf=2, max_features=auto, max_depth=60, bootstrap=False \n",
      "[CV]  n_estimators=1000, min_samples_split=10, min_samples_leaf=1, max_features=sqrt, max_depth=80, bootstrap=False, total=   2.7s\n",
      "[CV] n_estimators=2000, min_samples_split=10, min_samples_leaf=2, max_features=auto, max_depth=60, bootstrap=False \n",
      "[CV]  n_estimators=1400, min_samples_split=2, min_samples_leaf=2, max_features=auto, max_depth=70, bootstrap=True, total=   6.9s\n",
      "[CV] n_estimators=1400, min_samples_split=2, min_samples_leaf=4, max_features=sqrt, max_depth=80, bootstrap=False \n",
      "[CV]  n_estimators=1400, min_samples_split=2, min_samples_leaf=4, max_features=sqrt, max_depth=80, bootstrap=False, total=   3.4s\n",
      "[CV] n_estimators=1400, min_samples_split=2, min_samples_leaf=4, max_features=sqrt, max_depth=80, bootstrap=False \n",
      "[CV]  n_estimators=1400, min_samples_split=2, min_samples_leaf=4, max_features=sqrt, max_depth=80, bootstrap=False, total=   3.3s\n",
      "[CV] n_estimators=1400, min_samples_split=2, min_samples_leaf=4, max_features=sqrt, max_depth=80, bootstrap=False \n",
      "[CV]  n_estimators=2000, min_samples_split=10, min_samples_leaf=2, max_features=auto, max_depth=60, bootstrap=False, total=  11.6s\n",
      "[CV] n_estimators=800, min_samples_split=2, min_samples_leaf=4, max_features=sqrt, max_depth=20, bootstrap=False \n",
      "[CV]  n_estimators=2000, min_samples_split=10, min_samples_leaf=2, max_features=auto, max_depth=60, bootstrap=False, total=  12.2s\n",
      "[CV] n_estimators=800, min_samples_split=2, min_samples_leaf=4, max_features=sqrt, max_depth=20, bootstrap=False \n",
      "[CV]  n_estimators=1400, min_samples_split=2, min_samples_leaf=4, max_features=sqrt, max_depth=80, bootstrap=False, total=   3.3s\n",
      "[CV] n_estimators=800, min_samples_split=2, min_samples_leaf=4, max_features=sqrt, max_depth=20, bootstrap=False \n",
      "[CV]  n_estimators=2000, min_samples_split=10, min_samples_leaf=2, max_features=auto, max_depth=60, bootstrap=False, total=  11.5s\n",
      "[CV] n_estimators=1800, min_samples_split=5, min_samples_leaf=2, max_features=sqrt, max_depth=60, bootstrap=True \n",
      "[CV]  n_estimators=800, min_samples_split=2, min_samples_leaf=4, max_features=sqrt, max_depth=20, bootstrap=False, total=   2.0s\n",
      "[CV] n_estimators=1800, min_samples_split=5, min_samples_leaf=2, max_features=sqrt, max_depth=60, bootstrap=True \n",
      "[CV]  n_estimators=800, min_samples_split=2, min_samples_leaf=4, max_features=sqrt, max_depth=20, bootstrap=False, total=   2.1s\n",
      "[CV] n_estimators=1800, min_samples_split=5, min_samples_leaf=2, max_features=sqrt, max_depth=60, bootstrap=True \n",
      "[CV]  n_estimators=800, min_samples_split=2, min_samples_leaf=4, max_features=sqrt, max_depth=20, bootstrap=False, total=   2.1s\n",
      "[CV] n_estimators=400, min_samples_split=5, min_samples_leaf=1, max_features=auto, max_depth=90, bootstrap=False \n",
      "[CV]  n_estimators=1800, min_samples_split=5, min_samples_leaf=2, max_features=sqrt, max_depth=60, bootstrap=True, total=   4.3s\n",
      "[CV] n_estimators=400, min_samples_split=5, min_samples_leaf=1, max_features=auto, max_depth=90, bootstrap=False \n",
      "[CV]  n_estimators=400, min_samples_split=5, min_samples_leaf=1, max_features=auto, max_depth=90, bootstrap=False, total=   2.9s\n",
      "[CV] n_estimators=400, min_samples_split=5, min_samples_leaf=1, max_features=auto, max_depth=90, bootstrap=False \n",
      "[CV]  n_estimators=1800, min_samples_split=5, min_samples_leaf=2, max_features=sqrt, max_depth=60, bootstrap=True, total=   4.3s\n",
      "[CV] n_estimators=1600, min_samples_split=5, min_samples_leaf=1, max_features=auto, max_depth=90, bootstrap=True \n",
      "[CV]  n_estimators=1800, min_samples_split=5, min_samples_leaf=2, max_features=sqrt, max_depth=60, bootstrap=True, total=   4.4s\n",
      "[CV] n_estimators=1600, min_samples_split=5, min_samples_leaf=1, max_features=auto, max_depth=90, bootstrap=True \n",
      "[CV]  n_estimators=400, min_samples_split=5, min_samples_leaf=1, max_features=auto, max_depth=90, bootstrap=False, total=   2.8s\n",
      "[CV] n_estimators=1600, min_samples_split=5, min_samples_leaf=1, max_features=auto, max_depth=90, bootstrap=True \n"
     ]
    },
    {
     "name": "stdout",
     "output_type": "stream",
     "text": [
      "[CV]  n_estimators=400, min_samples_split=5, min_samples_leaf=1, max_features=auto, max_depth=90, bootstrap=False, total=   2.8s\n",
      "[CV] n_estimators=400, min_samples_split=10, min_samples_leaf=2, max_features=sqrt, max_depth=90, bootstrap=False \n",
      "[CV]  n_estimators=400, min_samples_split=10, min_samples_leaf=2, max_features=sqrt, max_depth=90, bootstrap=False, total=   1.0s\n",
      "[CV] n_estimators=400, min_samples_split=10, min_samples_leaf=2, max_features=sqrt, max_depth=90, bootstrap=False \n",
      "[CV]  n_estimators=400, min_samples_split=10, min_samples_leaf=2, max_features=sqrt, max_depth=90, bootstrap=False, total=   1.0s\n",
      "[CV] n_estimators=400, min_samples_split=10, min_samples_leaf=2, max_features=sqrt, max_depth=90, bootstrap=False \n",
      "[CV]  n_estimators=400, min_samples_split=10, min_samples_leaf=2, max_features=sqrt, max_depth=90, bootstrap=False, total=   1.1s\n",
      "[CV] n_estimators=1600, min_samples_split=10, min_samples_leaf=1, max_features=sqrt, max_depth=None, bootstrap=True \n",
      "[CV]  n_estimators=1600, min_samples_split=5, min_samples_leaf=1, max_features=auto, max_depth=90, bootstrap=True, total=   8.3s\n",
      "[CV] n_estimators=1600, min_samples_split=10, min_samples_leaf=1, max_features=sqrt, max_depth=None, bootstrap=True \n",
      "[CV]  n_estimators=1600, min_samples_split=5, min_samples_leaf=1, max_features=auto, max_depth=90, bootstrap=True, total=   8.0s\n",
      "[CV] n_estimators=1600, min_samples_split=10, min_samples_leaf=1, max_features=sqrt, max_depth=None, bootstrap=True \n",
      "[CV]  n_estimators=1600, min_samples_split=10, min_samples_leaf=1, max_features=sqrt, max_depth=None, bootstrap=True, total=   4.0s\n",
      "[CV] n_estimators=2000, min_samples_split=5, min_samples_leaf=1, max_features=sqrt, max_depth=100, bootstrap=True \n",
      "[CV]  n_estimators=1600, min_samples_split=5, min_samples_leaf=1, max_features=auto, max_depth=90, bootstrap=True, total=   8.0s\n",
      "[CV] n_estimators=2000, min_samples_split=5, min_samples_leaf=1, max_features=sqrt, max_depth=100, bootstrap=True \n",
      "[CV]  n_estimators=1600, min_samples_split=10, min_samples_leaf=1, max_features=sqrt, max_depth=None, bootstrap=True, total=   3.9s\n",
      "[CV] n_estimators=2000, min_samples_split=5, min_samples_leaf=1, max_features=sqrt, max_depth=100, bootstrap=True \n",
      "[CV]  n_estimators=1600, min_samples_split=10, min_samples_leaf=1, max_features=sqrt, max_depth=None, bootstrap=True, total=   4.0s\n",
      "[CV] n_estimators=1000, min_samples_split=5, min_samples_leaf=2, max_features=sqrt, max_depth=10, bootstrap=True \n",
      "[CV]  n_estimators=1000, min_samples_split=5, min_samples_leaf=2, max_features=sqrt, max_depth=10, bootstrap=True, total=   2.4s\n",
      "[CV]  n_estimators=2000, min_samples_split=5, min_samples_leaf=1, max_features=sqrt, max_depth=100, bootstrap=True, total=   5.2s\n",
      "[CV] n_estimators=1000, min_samples_split=5, min_samples_leaf=2, max_features=sqrt, max_depth=10, bootstrap=True \n",
      "[CV] n_estimators=1000, min_samples_split=5, min_samples_leaf=2, max_features=sqrt, max_depth=10, bootstrap=True \n",
      "[CV]  n_estimators=2000, min_samples_split=5, min_samples_leaf=1, max_features=sqrt, max_depth=100, bootstrap=True, total=   5.2s\n",
      "[CV] n_estimators=200, min_samples_split=5, min_samples_leaf=4, max_features=auto, max_depth=80, bootstrap=True \n",
      "[CV]  n_estimators=200, min_samples_split=5, min_samples_leaf=4, max_features=auto, max_depth=80, bootstrap=True, total=   0.9s\n",
      "[CV] n_estimators=200, min_samples_split=5, min_samples_leaf=4, max_features=auto, max_depth=80, bootstrap=True \n",
      "[CV]  n_estimators=200, min_samples_split=5, min_samples_leaf=4, max_features=auto, max_depth=80, bootstrap=True, total=   0.9s\n",
      "[CV] n_estimators=200, min_samples_split=5, min_samples_leaf=4, max_features=auto, max_depth=80, bootstrap=True \n",
      "[CV]  n_estimators=1000, min_samples_split=5, min_samples_leaf=2, max_features=sqrt, max_depth=10, bootstrap=True, total=   2.6s\n",
      "[CV] n_estimators=2000, min_samples_split=2, min_samples_leaf=4, max_features=auto, max_depth=60, bootstrap=False \n",
      "[CV]  n_estimators=1000, min_samples_split=5, min_samples_leaf=2, max_features=sqrt, max_depth=10, bootstrap=True, total=   2.6s\n",
      "[CV] n_estimators=2000, min_samples_split=2, min_samples_leaf=4, max_features=auto, max_depth=60, bootstrap=False \n",
      "[CV]  n_estimators=2000, min_samples_split=5, min_samples_leaf=1, max_features=sqrt, max_depth=100, bootstrap=True, total=   5.5s\n",
      "[CV] n_estimators=2000, min_samples_split=2, min_samples_leaf=4, max_features=auto, max_depth=60, bootstrap=False \n",
      "[CV]  n_estimators=200, min_samples_split=5, min_samples_leaf=4, max_features=auto, max_depth=80, bootstrap=True, total=   1.0s\n",
      "[CV] n_estimators=600, min_samples_split=10, min_samples_leaf=2, max_features=auto, max_depth=100, bootstrap=True \n",
      "[CV]  n_estimators=600, min_samples_split=10, min_samples_leaf=2, max_features=auto, max_depth=100, bootstrap=True, total=   2.6s\n",
      "[CV] n_estimators=600, min_samples_split=10, min_samples_leaf=2, max_features=auto, max_depth=100, bootstrap=True \n",
      "[CV]  n_estimators=600, min_samples_split=10, min_samples_leaf=2, max_features=auto, max_depth=100, bootstrap=True, total=   2.5s\n",
      "[CV] n_estimators=600, min_samples_split=10, min_samples_leaf=2, max_features=auto, max_depth=100, bootstrap=True \n",
      "[CV]  n_estimators=600, min_samples_split=10, min_samples_leaf=2, max_features=auto, max_depth=100, bootstrap=True, total=   2.5s\n",
      "[CV] n_estimators=1000, min_samples_split=5, min_samples_leaf=4, max_features=auto, max_depth=100, bootstrap=True \n",
      "[CV]  n_estimators=2000, min_samples_split=2, min_samples_leaf=4, max_features=auto, max_depth=60, bootstrap=False, total=  10.8s\n",
      "[CV] n_estimators=1000, min_samples_split=5, min_samples_leaf=4, max_features=auto, max_depth=100, bootstrap=True \n",
      "[CV]  n_estimators=2000, min_samples_split=2, min_samples_leaf=4, max_features=auto, max_depth=60, bootstrap=False, total=  11.0s\n",
      "[CV] n_estimators=1000, min_samples_split=5, min_samples_leaf=4, max_features=auto, max_depth=100, bootstrap=True \n",
      "[CV]  n_estimators=2000, min_samples_split=2, min_samples_leaf=4, max_features=auto, max_depth=60, bootstrap=False, total=  11.1s\n",
      "[CV] n_estimators=800, min_samples_split=10, min_samples_leaf=2, max_features=auto, max_depth=None, bootstrap=False \n",
      "[CV]  n_estimators=1000, min_samples_split=5, min_samples_leaf=4, max_features=auto, max_depth=100, bootstrap=True, total=   4.1s\n",
      "[CV] n_estimators=800, min_samples_split=10, min_samples_leaf=2, max_features=auto, max_depth=None, bootstrap=False \n",
      "[CV]  n_estimators=1000, min_samples_split=5, min_samples_leaf=4, max_features=auto, max_depth=100, bootstrap=True, total=   4.1s\n",
      "[CV] n_estimators=800, min_samples_split=10, min_samples_leaf=2, max_features=auto, max_depth=None, bootstrap=False \n",
      "[CV]  n_estimators=1000, min_samples_split=5, min_samples_leaf=4, max_features=auto, max_depth=100, bootstrap=True, total=   4.1s\n",
      "[CV] n_estimators=800, min_samples_split=5, min_samples_leaf=4, max_features=sqrt, max_depth=70, bootstrap=False \n",
      "[CV]  n_estimators=800, min_samples_split=10, min_samples_leaf=2, max_features=auto, max_depth=None, bootstrap=False, total=   4.8s\n",
      "[CV] n_estimators=800, min_samples_split=5, min_samples_leaf=4, max_features=sqrt, max_depth=70, bootstrap=False \n",
      "[CV]  n_estimators=800, min_samples_split=10, min_samples_leaf=2, max_features=auto, max_depth=None, bootstrap=False, total=   4.7s\n",
      "[CV] n_estimators=800, min_samples_split=5, min_samples_leaf=4, max_features=sqrt, max_depth=70, bootstrap=False \n",
      "[CV]  n_estimators=800, min_samples_split=5, min_samples_leaf=4, max_features=sqrt, max_depth=70, bootstrap=False, total=   2.0s\n",
      "[CV] n_estimators=600, min_samples_split=10, min_samples_leaf=1, max_features=sqrt, max_depth=40, bootstrap=False \n",
      "[CV]  n_estimators=800, min_samples_split=5, min_samples_leaf=4, max_features=sqrt, max_depth=70, bootstrap=False, total=   2.0s\n",
      "[CV] n_estimators=600, min_samples_split=10, min_samples_leaf=1, max_features=sqrt, max_depth=40, bootstrap=False \n",
      "[CV]  n_estimators=600, min_samples_split=10, min_samples_leaf=1, max_features=sqrt, max_depth=40, bootstrap=False, total=   1.6s\n",
      "[CV] n_estimators=600, min_samples_split=10, min_samples_leaf=1, max_features=sqrt, max_depth=40, bootstrap=False \n",
      "[CV]  n_estimators=800, min_samples_split=5, min_samples_leaf=4, max_features=sqrt, max_depth=70, bootstrap=False, total=   2.0s\n"
     ]
    },
    {
     "name": "stdout",
     "output_type": "stream",
     "text": [
      "[CV] n_estimators=400, min_samples_split=5, min_samples_leaf=1, max_features=sqrt, max_depth=100, bootstrap=True \n",
      "[CV]  n_estimators=600, min_samples_split=10, min_samples_leaf=1, max_features=sqrt, max_depth=40, bootstrap=False, total=   1.6s\n",
      "[CV] n_estimators=400, min_samples_split=5, min_samples_leaf=1, max_features=sqrt, max_depth=100, bootstrap=True \n",
      "[CV]  n_estimators=800, min_samples_split=10, min_samples_leaf=2, max_features=auto, max_depth=None, bootstrap=False, total=   4.7s\n",
      "[CV] n_estimators=400, min_samples_split=5, min_samples_leaf=1, max_features=sqrt, max_depth=100, bootstrap=True \n",
      "[CV]  n_estimators=400, min_samples_split=5, min_samples_leaf=1, max_features=sqrt, max_depth=100, bootstrap=True, total=   1.0s\n",
      "[CV] n_estimators=1600, min_samples_split=2, min_samples_leaf=4, max_features=sqrt, max_depth=80, bootstrap=True \n",
      "[CV]  n_estimators=600, min_samples_split=10, min_samples_leaf=1, max_features=sqrt, max_depth=40, bootstrap=False, total=   1.6s\n",
      "[CV] n_estimators=1600, min_samples_split=2, min_samples_leaf=4, max_features=sqrt, max_depth=80, bootstrap=True \n",
      "[CV]  n_estimators=400, min_samples_split=5, min_samples_leaf=1, max_features=sqrt, max_depth=100, bootstrap=True, total=   1.1s\n",
      "[CV] n_estimators=1600, min_samples_split=2, min_samples_leaf=4, max_features=sqrt, max_depth=80, bootstrap=True \n",
      "[CV]  n_estimators=400, min_samples_split=5, min_samples_leaf=1, max_features=sqrt, max_depth=100, bootstrap=True, total=   1.1s\n",
      "[CV] n_estimators=800, min_samples_split=10, min_samples_leaf=4, max_features=sqrt, max_depth=100, bootstrap=True \n",
      "[CV]  n_estimators=800, min_samples_split=10, min_samples_leaf=4, max_features=sqrt, max_depth=100, bootstrap=True, total=   1.9s\n",
      "[CV] n_estimators=800, min_samples_split=10, min_samples_leaf=4, max_features=sqrt, max_depth=100, bootstrap=True \n",
      "[CV]  n_estimators=1600, min_samples_split=2, min_samples_leaf=4, max_features=sqrt, max_depth=80, bootstrap=True, total=   3.8s\n",
      "[CV] n_estimators=800, min_samples_split=10, min_samples_leaf=4, max_features=sqrt, max_depth=100, bootstrap=True \n",
      "[CV]  n_estimators=1600, min_samples_split=2, min_samples_leaf=4, max_features=sqrt, max_depth=80, bootstrap=True, total=   3.9s\n",
      "[CV] n_estimators=1000, min_samples_split=10, min_samples_leaf=2, max_features=sqrt, max_depth=10, bootstrap=True \n",
      "[CV]  n_estimators=1600, min_samples_split=2, min_samples_leaf=4, max_features=sqrt, max_depth=80, bootstrap=True, total=   3.7s\n",
      "[CV] n_estimators=1000, min_samples_split=10, min_samples_leaf=2, max_features=sqrt, max_depth=10, bootstrap=True \n",
      "[CV]  n_estimators=800, min_samples_split=10, min_samples_leaf=4, max_features=sqrt, max_depth=100, bootstrap=True, total=   2.1s\n",
      "[CV] n_estimators=1000, min_samples_split=10, min_samples_leaf=2, max_features=sqrt, max_depth=10, bootstrap=True \n",
      "[CV]  n_estimators=800, min_samples_split=10, min_samples_leaf=4, max_features=sqrt, max_depth=100, bootstrap=True, total=   2.2s\n",
      "[CV] n_estimators=600, min_samples_split=10, min_samples_leaf=1, max_features=sqrt, max_depth=110, bootstrap=True \n",
      "[CV]  n_estimators=1000, min_samples_split=10, min_samples_leaf=2, max_features=sqrt, max_depth=10, bootstrap=True, total=   2.6s\n",
      "[CV] n_estimators=600, min_samples_split=10, min_samples_leaf=1, max_features=sqrt, max_depth=110, bootstrap=True \n",
      "[CV]  n_estimators=1000, min_samples_split=10, min_samples_leaf=2, max_features=sqrt, max_depth=10, bootstrap=True, total=   2.6s\n",
      "[CV] n_estimators=600, min_samples_split=10, min_samples_leaf=1, max_features=sqrt, max_depth=110, bootstrap=True \n",
      "[CV]  n_estimators=1000, min_samples_split=10, min_samples_leaf=2, max_features=sqrt, max_depth=10, bootstrap=True, total=   2.6s\n",
      "[CV] n_estimators=2000, min_samples_split=5, min_samples_leaf=4, max_features=sqrt, max_depth=None, bootstrap=False \n",
      "[CV]  n_estimators=600, min_samples_split=10, min_samples_leaf=1, max_features=sqrt, max_depth=110, bootstrap=True, total=   1.7s\n",
      "[CV] n_estimators=2000, min_samples_split=5, min_samples_leaf=4, max_features=sqrt, max_depth=None, bootstrap=False \n",
      "[CV]  n_estimators=600, min_samples_split=10, min_samples_leaf=1, max_features=sqrt, max_depth=110, bootstrap=True, total=   1.6s\n",
      "[CV] n_estimators=2000, min_samples_split=5, min_samples_leaf=4, max_features=sqrt, max_depth=None, bootstrap=False \n",
      "[CV]  n_estimators=600, min_samples_split=10, min_samples_leaf=1, max_features=sqrt, max_depth=110, bootstrap=True, total=   1.6s\n",
      "[CV] n_estimators=800, min_samples_split=5, min_samples_leaf=1, max_features=sqrt, max_depth=40, bootstrap=True \n",
      "[CV]  n_estimators=800, min_samples_split=5, min_samples_leaf=1, max_features=sqrt, max_depth=40, bootstrap=True, total=   2.1s\n",
      "[CV] n_estimators=800, min_samples_split=5, min_samples_leaf=1, max_features=sqrt, max_depth=40, bootstrap=True \n",
      "[CV]  n_estimators=2000, min_samples_split=5, min_samples_leaf=4, max_features=sqrt, max_depth=None, bootstrap=False, total=   5.0s\n",
      "[CV] n_estimators=800, min_samples_split=5, min_samples_leaf=1, max_features=sqrt, max_depth=40, bootstrap=True \n",
      "[CV]  n_estimators=2000, min_samples_split=5, min_samples_leaf=4, max_features=sqrt, max_depth=None, bootstrap=False, total=   5.0s\n",
      "[CV] n_estimators=600, min_samples_split=2, min_samples_leaf=4, max_features=auto, max_depth=40, bootstrap=True \n",
      "[CV]  n_estimators=800, min_samples_split=5, min_samples_leaf=1, max_features=sqrt, max_depth=40, bootstrap=True, total=   2.1s\n",
      "[CV] n_estimators=600, min_samples_split=2, min_samples_leaf=4, max_features=auto, max_depth=40, bootstrap=True \n",
      "[CV]  n_estimators=2000, min_samples_split=5, min_samples_leaf=4, max_features=sqrt, max_depth=None, bootstrap=False, total=   5.1s\n",
      "[CV] n_estimators=600, min_samples_split=2, min_samples_leaf=4, max_features=auto, max_depth=40, bootstrap=True \n",
      "[CV]  n_estimators=800, min_samples_split=5, min_samples_leaf=1, max_features=sqrt, max_depth=40, bootstrap=True, total=   2.1s\n",
      "[CV] n_estimators=600, min_samples_split=2, min_samples_leaf=4, max_features=sqrt, max_depth=30, bootstrap=False \n",
      "[CV]  n_estimators=600, min_samples_split=2, min_samples_leaf=4, max_features=auto, max_depth=40, bootstrap=True, total=   2.5s\n",
      "[CV] n_estimators=600, min_samples_split=2, min_samples_leaf=4, max_features=sqrt, max_depth=30, bootstrap=False \n",
      "[CV]  n_estimators=600, min_samples_split=2, min_samples_leaf=4, max_features=auto, max_depth=40, bootstrap=True, total=   2.5s\n",
      "[CV] n_estimators=600, min_samples_split=2, min_samples_leaf=4, max_features=sqrt, max_depth=30, bootstrap=False \n",
      "[CV]  n_estimators=600, min_samples_split=2, min_samples_leaf=4, max_features=sqrt, max_depth=30, bootstrap=False, total=   1.5s\n",
      "[CV] n_estimators=400, min_samples_split=10, min_samples_leaf=2, max_features=auto, max_depth=40, bootstrap=False \n",
      "[CV]  n_estimators=600, min_samples_split=2, min_samples_leaf=4, max_features=auto, max_depth=40, bootstrap=True, total=   2.6s\n",
      "[CV] n_estimators=400, min_samples_split=10, min_samples_leaf=2, max_features=auto, max_depth=40, bootstrap=False \n",
      "[CV]  n_estimators=600, min_samples_split=2, min_samples_leaf=4, max_features=sqrt, max_depth=30, bootstrap=False, total=   1.5s\n",
      "[CV] n_estimators=400, min_samples_split=10, min_samples_leaf=2, max_features=auto, max_depth=40, bootstrap=False \n",
      "[CV]  n_estimators=600, min_samples_split=2, min_samples_leaf=4, max_features=sqrt, max_depth=30, bootstrap=False, total=   1.5s\n",
      "[CV] n_estimators=1000, min_samples_split=2, min_samples_leaf=1, max_features=auto, max_depth=10, bootstrap=False \n",
      "[CV]  n_estimators=400, min_samples_split=10, min_samples_leaf=2, max_features=auto, max_depth=40, bootstrap=False, total=   2.4s\n",
      "[CV] n_estimators=1000, min_samples_split=2, min_samples_leaf=1, max_features=auto, max_depth=10, bootstrap=False \n",
      "[CV]  n_estimators=400, min_samples_split=10, min_samples_leaf=2, max_features=auto, max_depth=40, bootstrap=False, total=   2.3s\n",
      "[CV] n_estimators=1000, min_samples_split=2, min_samples_leaf=1, max_features=auto, max_depth=10, bootstrap=False \n",
      "[CV]  n_estimators=400, min_samples_split=10, min_samples_leaf=2, max_features=auto, max_depth=40, bootstrap=False, total=   2.3s\n",
      "[CV] n_estimators=200, min_samples_split=5, min_samples_leaf=4, max_features=auto, max_depth=100, bootstrap=False \n",
      "[CV]  n_estimators=200, min_samples_split=5, min_samples_leaf=4, max_features=auto, max_depth=100, bootstrap=False, total=   1.1s\n"
     ]
    },
    {
     "name": "stdout",
     "output_type": "stream",
     "text": [
      "[CV] n_estimators=200, min_samples_split=5, min_samples_leaf=4, max_features=auto, max_depth=100, bootstrap=False \n",
      "[CV]  n_estimators=200, min_samples_split=5, min_samples_leaf=4, max_features=auto, max_depth=100, bootstrap=False, total=   1.1s\n",
      "[CV] n_estimators=200, min_samples_split=5, min_samples_leaf=4, max_features=auto, max_depth=100, bootstrap=False \n",
      "[CV]  n_estimators=200, min_samples_split=5, min_samples_leaf=4, max_features=auto, max_depth=100, bootstrap=False, total=   1.1s\n",
      "[CV] n_estimators=2000, min_samples_split=2, min_samples_leaf=2, max_features=sqrt, max_depth=20, bootstrap=True \n",
      "[CV]  n_estimators=1000, min_samples_split=2, min_samples_leaf=1, max_features=auto, max_depth=10, bootstrap=False, total=   6.2s\n",
      "[CV] n_estimators=2000, min_samples_split=2, min_samples_leaf=2, max_features=sqrt, max_depth=20, bootstrap=True \n",
      "[CV]  n_estimators=1000, min_samples_split=2, min_samples_leaf=1, max_features=auto, max_depth=10, bootstrap=False, total=   5.8s\n",
      "[CV] n_estimators=2000, min_samples_split=2, min_samples_leaf=2, max_features=sqrt, max_depth=20, bootstrap=True \n",
      "[CV]  n_estimators=1000, min_samples_split=2, min_samples_leaf=1, max_features=auto, max_depth=10, bootstrap=False, total=   5.9s\n",
      "[CV] n_estimators=2000, min_samples_split=10, min_samples_leaf=2, max_features=auto, max_depth=40, bootstrap=True \n",
      "[CV]  n_estimators=2000, min_samples_split=2, min_samples_leaf=2, max_features=sqrt, max_depth=20, bootstrap=True, total=   4.9s\n",
      "[CV] n_estimators=2000, min_samples_split=10, min_samples_leaf=2, max_features=auto, max_depth=40, bootstrap=True \n",
      "[CV]  n_estimators=2000, min_samples_split=2, min_samples_leaf=2, max_features=sqrt, max_depth=20, bootstrap=True, total=   5.0s\n",
      "[CV] n_estimators=2000, min_samples_split=10, min_samples_leaf=2, max_features=auto, max_depth=40, bootstrap=True \n",
      "[CV]  n_estimators=2000, min_samples_split=2, min_samples_leaf=2, max_features=sqrt, max_depth=20, bootstrap=True, total=   4.9s\n",
      "[CV]  n_estimators=2000, min_samples_split=10, min_samples_leaf=2, max_features=auto, max_depth=40, bootstrap=True, total=   8.0s\n",
      "[CV]  n_estimators=2000, min_samples_split=10, min_samples_leaf=2, max_features=auto, max_depth=40, bootstrap=True, total=   6.8s\n",
      "[CV]  n_estimators=2000, min_samples_split=10, min_samples_leaf=2, max_features=auto, max_depth=40, bootstrap=True, total=   6.4s\n"
     ]
    },
    {
     "name": "stderr",
     "output_type": "stream",
     "text": [
      "[Parallel(n_jobs=-1)]: Done 300 out of 300 | elapsed:  6.6min finished\n"
     ]
    },
    {
     "data": {
      "text/plain": [
       "RandomizedSearchCV(cv=3, error_score='raise',\n",
       "          estimator=RandomForestRegressor(bootstrap=True, criterion='mse', max_depth=None,\n",
       "           max_features='auto', max_leaf_nodes=None,\n",
       "           min_impurity_split=1e-07, min_samples_leaf=1,\n",
       "           min_samples_split=2, min_weight_fraction_leaf=0.0,\n",
       "           n_estimators=10, n_jobs=1, oob_score=False, random_state=None,\n",
       "           verbose=0, warm_start=False),\n",
       "          fit_params={}, iid=True, n_iter=100, n_jobs=-1,\n",
       "          param_distributions={'n_estimators': [200, 400, 600, 800, 1000, 1200, 1400, 1600, 1800, 2000], 'max_features': ['auto', 'sqrt'], 'max_depth': [10, 20, 30, 40, 50, 60, 70, 80, 90, 100, 110, None], 'min_samples_split': [2, 5, 10], 'min_samples_leaf': [1, 2, 4], 'bootstrap': [True, False]},\n",
       "          pre_dispatch='2*n_jobs', random_state=42, refit=True,\n",
       "          return_train_score=True, scoring=None, verbose=2)"
      ]
     },
     "execution_count": 91,
     "metadata": {},
     "output_type": "execute_result"
    }
   ],
   "source": [
    "rf_random = RandomizedSearchCV(estimator = rf, param_distributions = random_grid, \n",
    "                               n_iter = 100, cv = 3, verbose=2, random_state=42, n_jobs = -1)\n",
    "\n",
    "rf_random.fit(X_train, y_train)"
   ]
  },
  {
   "cell_type": "code",
   "execution_count": 92,
   "metadata": {},
   "outputs": [
    {
     "data": {
      "text/plain": [
       "{'bootstrap': False,\n",
       " 'max_depth': None,\n",
       " 'max_features': 'sqrt',\n",
       " 'min_samples_leaf': 2,\n",
       " 'min_samples_split': 5,\n",
       " 'n_estimators': 1400}"
      ]
     },
     "execution_count": 92,
     "metadata": {},
     "output_type": "execute_result"
    }
   ],
   "source": [
    "rf_random.best_params_"
   ]
  },
  {
   "cell_type": "code",
   "execution_count": 101,
   "metadata": {},
   "outputs": [
    {
     "name": "stdout",
     "output_type": "stream",
     "text": [
      "Model Performance\n",
      "RMSE = 70217.02.\n"
     ]
    }
   ],
   "source": [
    "def evaluate(model, test_features, test_labels):\n",
    "    predictions = model.predict(test_features)\n",
    "    rmse = np.sqrt(metrics.mean_squared_error(test_labels, predictions))\n",
    "    print('Model Performance')\n",
    "#     print('Average Error: {:0.4f} degrees.'.format(np.mean(errors)))\n",
    "    print('RMSE = {:0.2f}.'.format(rmse))\n",
    "    \n",
    "    return rmse\n",
    "base_model = RandomForestRegressor(n_estimators = 10, random_state = 42)\n",
    "base_model.fit(X_train, y_train)\n",
    "base_accuracy = evaluate(base_model, X_test, y_test)"
   ]
  },
  {
   "cell_type": "code",
   "execution_count": 100,
   "metadata": {},
   "outputs": [
    {
     "name": "stdout",
     "output_type": "stream",
     "text": [
      "Model Performance\n",
      "RMSE = 65109.12.\n"
     ]
    }
   ],
   "source": [
    "best_random = rf_random.best_estimator_\n",
    "random_accuracy = evaluate(best_random, X_test, y_test)"
   ]
  },
  {
   "cell_type": "code",
   "execution_count": 149,
   "metadata": {},
   "outputs": [
    {
     "data": {
      "text/plain": [
       "array([ 22870.17616779,  41884.60476362,  31897.72616314,  86472.84550429,\n",
       "        90129.12905082,  41665.66423762,  29687.43181198,  18288.12747496,\n",
       "        66869.56599538,  68516.17361661])"
      ]
     },
     "execution_count": 149,
     "metadata": {},
     "output_type": "execute_result"
    }
   ],
   "source": [
    "scores = cross_val_score(best_random, X_train, y_train, scoring=\"neg_mean_squared_error\", cv=10)\n",
    "np.sqrt(-scores)"
   ]
  },
  {
   "cell_type": "code",
   "execution_count": 150,
   "metadata": {},
   "outputs": [
    {
     "data": {
      "text/plain": [
       "array([  87559.58015173,  100999.10445978,   22292.23935044,\n",
       "         84270.88302759,   28431.19237772,   33459.69400979,\n",
       "         97833.33091506,   38178.09060975,   84311.87882443,\n",
       "         33706.88499959])"
      ]
     },
     "execution_count": 150,
     "metadata": {},
     "output_type": "execute_result"
    }
   ],
   "source": [
    "scores = cross_val_score(best_random, X_test, y_test, scoring=\"neg_mean_squared_error\", cv=10)\n",
    "np.sqrt(-scores)"
   ]
  },
  {
   "cell_type": "code",
   "execution_count": 106,
   "metadata": {
    "collapsed": true
   },
   "outputs": [],
   "source": [
    "from sklearn.model_selection import GridSearchCV\n",
    "# Create the parameter grid based on the results of random search \n",
    "param_grid = {\n",
    "    'bootstrap': [False],\n",
    "#     'max_depth': [],\n",
    "    'max_features': ['sqrt'],\n",
    "    'min_samples_leaf': [1,2, 3],\n",
    "    'min_samples_split': [3, 5, 8],\n",
    "    'n_estimators': [500, 700, 1400, 2000]\n",
    "}\n",
    "# Create a based model\n",
    "rf = RandomForestRegressor()\n",
    "# Instantiate the grid search model\n",
    "grid_search = GridSearchCV(estimator = rf, param_grid = param_grid, \n",
    "                          cv = 3, n_jobs = -1, verbose = 2)"
   ]
  },
  {
   "cell_type": "code",
   "execution_count": 107,
   "metadata": {},
   "outputs": [
    {
     "name": "stdout",
     "output_type": "stream",
     "text": [
      "Fitting 3 folds for each of 36 candidates, totalling 108 fits\n",
      "[CV] bootstrap=False, max_features=sqrt, min_samples_leaf=1, min_samples_split=3, n_estimators=500 \n",
      "[CV] bootstrap=False, max_features=sqrt, min_samples_leaf=1, min_samples_split=3, n_estimators=500 \n",
      "[CV] bootstrap=False, max_features=sqrt, min_samples_leaf=1, min_samples_split=3, n_estimators=500 \n",
      "[CV] bootstrap=False, max_features=sqrt, min_samples_leaf=1, min_samples_split=3, n_estimators=700 \n",
      "[CV]  bootstrap=False, max_features=sqrt, min_samples_leaf=1, min_samples_split=3, n_estimators=500, total=   1.5s\n",
      "[CV] bootstrap=False, max_features=sqrt, min_samples_leaf=1, min_samples_split=3, n_estimators=700 \n",
      "[CV]  bootstrap=False, max_features=sqrt, min_samples_leaf=1, min_samples_split=3, n_estimators=500, total=   1.5s\n",
      "[CV] bootstrap=False, max_features=sqrt, min_samples_leaf=1, min_samples_split=3, n_estimators=700 \n",
      "[CV]  bootstrap=False, max_features=sqrt, min_samples_leaf=1, min_samples_split=3, n_estimators=500, total=   1.5s\n",
      "[CV] bootstrap=False, max_features=sqrt, min_samples_leaf=1, min_samples_split=3, n_estimators=1400 \n",
      "[CV]  bootstrap=False, max_features=sqrt, min_samples_leaf=1, min_samples_split=3, n_estimators=700, total=   2.2s\n",
      "[CV] bootstrap=False, max_features=sqrt, min_samples_leaf=1, min_samples_split=3, n_estimators=1400 \n",
      "[CV]  bootstrap=False, max_features=sqrt, min_samples_leaf=1, min_samples_split=3, n_estimators=700, total=   2.1s\n",
      "[CV] bootstrap=False, max_features=sqrt, min_samples_leaf=1, min_samples_split=3, n_estimators=1400 \n",
      "[CV]  bootstrap=False, max_features=sqrt, min_samples_leaf=1, min_samples_split=3, n_estimators=700, total=   2.2s\n",
      "[CV] bootstrap=False, max_features=sqrt, min_samples_leaf=1, min_samples_split=3, n_estimators=2000 \n",
      "[CV]  bootstrap=False, max_features=sqrt, min_samples_leaf=1, min_samples_split=3, n_estimators=1400, total=   4.4s\n",
      "[CV] bootstrap=False, max_features=sqrt, min_samples_leaf=1, min_samples_split=3, n_estimators=2000 \n",
      "[CV]  bootstrap=False, max_features=sqrt, min_samples_leaf=1, min_samples_split=3, n_estimators=1400, total=   4.5s\n",
      "[CV] bootstrap=False, max_features=sqrt, min_samples_leaf=1, min_samples_split=3, n_estimators=2000 \n",
      "[CV]  bootstrap=False, max_features=sqrt, min_samples_leaf=1, min_samples_split=3, n_estimators=1400, total=   4.8s\n",
      "[CV] bootstrap=False, max_features=sqrt, min_samples_leaf=1, min_samples_split=5, n_estimators=500 \n",
      "[CV]  bootstrap=False, max_features=sqrt, min_samples_leaf=1, min_samples_split=5, n_estimators=500, total=   1.5s\n",
      "[CV] bootstrap=False, max_features=sqrt, min_samples_leaf=1, min_samples_split=5, n_estimators=500 \n",
      "[CV]  bootstrap=False, max_features=sqrt, min_samples_leaf=1, min_samples_split=3, n_estimators=2000, total=   6.8s\n",
      "[CV] bootstrap=False, max_features=sqrt, min_samples_leaf=1, min_samples_split=5, n_estimators=500 \n",
      "[CV]  bootstrap=False, max_features=sqrt, min_samples_leaf=1, min_samples_split=5, n_estimators=500, total=   1.5s\n",
      "[CV] bootstrap=False, max_features=sqrt, min_samples_leaf=1, min_samples_split=5, n_estimators=700 \n",
      "[CV]  bootstrap=False, max_features=sqrt, min_samples_leaf=1, min_samples_split=5, n_estimators=500, total=   1.6s\n",
      "[CV] bootstrap=False, max_features=sqrt, min_samples_leaf=1, min_samples_split=5, n_estimators=700 \n",
      "[CV]  bootstrap=False, max_features=sqrt, min_samples_leaf=1, min_samples_split=3, n_estimators=2000, total=   6.8s\n",
      "[CV] bootstrap=False, max_features=sqrt, min_samples_leaf=1, min_samples_split=5, n_estimators=700 \n",
      "[CV]  bootstrap=False, max_features=sqrt, min_samples_leaf=1, min_samples_split=3, n_estimators=2000, total=   6.7s\n",
      "[CV] bootstrap=False, max_features=sqrt, min_samples_leaf=1, min_samples_split=5, n_estimators=1400 \n",
      "[CV]  bootstrap=False, max_features=sqrt, min_samples_leaf=1, min_samples_split=5, n_estimators=700, total=   2.2s\n",
      "[CV] bootstrap=False, max_features=sqrt, min_samples_leaf=1, min_samples_split=5, n_estimators=1400 \n",
      "[CV]  bootstrap=False, max_features=sqrt, min_samples_leaf=1, min_samples_split=5, n_estimators=700, total=   2.2s\n",
      "[CV] bootstrap=False, max_features=sqrt, min_samples_leaf=1, min_samples_split=5, n_estimators=1400 \n",
      "[CV]  bootstrap=False, max_features=sqrt, min_samples_leaf=1, min_samples_split=5, n_estimators=700, total=   2.2s\n",
      "[CV] bootstrap=False, max_features=sqrt, min_samples_leaf=1, min_samples_split=5, n_estimators=2000 \n",
      "[CV]  bootstrap=False, max_features=sqrt, min_samples_leaf=1, min_samples_split=5, n_estimators=1400, total=   4.1s\n",
      "[CV] bootstrap=False, max_features=sqrt, min_samples_leaf=1, min_samples_split=5, n_estimators=2000 \n",
      "[CV]  bootstrap=False, max_features=sqrt, min_samples_leaf=1, min_samples_split=5, n_estimators=1400, total=   4.0s\n",
      "[CV] bootstrap=False, max_features=sqrt, min_samples_leaf=1, min_samples_split=5, n_estimators=2000 \n",
      "[CV]  bootstrap=False, max_features=sqrt, min_samples_leaf=1, min_samples_split=5, n_estimators=1400, total=   4.1s\n",
      "[CV] bootstrap=False, max_features=sqrt, min_samples_leaf=1, min_samples_split=8, n_estimators=500 \n",
      "[CV]  bootstrap=False, max_features=sqrt, min_samples_leaf=1, min_samples_split=8, n_estimators=500, total=   1.5s\n",
      "[CV] bootstrap=False, max_features=sqrt, min_samples_leaf=1, min_samples_split=8, n_estimators=500 \n",
      "[CV]  bootstrap=False, max_features=sqrt, min_samples_leaf=1, min_samples_split=5, n_estimators=2000, total=   6.1s\n",
      "[CV] bootstrap=False, max_features=sqrt, min_samples_leaf=1, min_samples_split=8, n_estimators=500 \n",
      "[CV]  bootstrap=False, max_features=sqrt, min_samples_leaf=1, min_samples_split=8, n_estimators=500, total=   1.6s\n",
      "[CV] bootstrap=False, max_features=sqrt, min_samples_leaf=1, min_samples_split=8, n_estimators=700 \n",
      "[CV]  bootstrap=False, max_features=sqrt, min_samples_leaf=1, min_samples_split=8, n_estimators=500, total=   1.7s\n",
      "[CV] bootstrap=False, max_features=sqrt, min_samples_leaf=1, min_samples_split=8, n_estimators=700 \n",
      "[CV]  bootstrap=False, max_features=sqrt, min_samples_leaf=1, min_samples_split=8, n_estimators=700, total=   2.4s\n",
      "[CV] bootstrap=False, max_features=sqrt, min_samples_leaf=1, min_samples_split=8, n_estimators=700 \n",
      "[CV]  bootstrap=False, max_features=sqrt, min_samples_leaf=1, min_samples_split=5, n_estimators=2000, total=   6.7s\n",
      "[CV] bootstrap=False, max_features=sqrt, min_samples_leaf=1, min_samples_split=8, n_estimators=1400 \n",
      "[CV]  bootstrap=False, max_features=sqrt, min_samples_leaf=1, min_samples_split=5, n_estimators=2000, total=   6.9s\n",
      "[CV] bootstrap=False, max_features=sqrt, min_samples_leaf=1, min_samples_split=8, n_estimators=1400 \n",
      "[CV]  bootstrap=False, max_features=sqrt, min_samples_leaf=1, min_samples_split=8, n_estimators=700, total=   2.6s\n",
      "[CV] bootstrap=False, max_features=sqrt, min_samples_leaf=1, min_samples_split=8, n_estimators=1400 \n",
      "[CV]  bootstrap=False, max_features=sqrt, min_samples_leaf=1, min_samples_split=8, n_estimators=700, total=   2.2s\n",
      "[CV] bootstrap=False, max_features=sqrt, min_samples_leaf=1, min_samples_split=8, n_estimators=2000 \n",
      "[CV]  bootstrap=False, max_features=sqrt, min_samples_leaf=1, min_samples_split=8, n_estimators=1400, total=   4.1s\n",
      "[CV] bootstrap=False, max_features=sqrt, min_samples_leaf=1, min_samples_split=8, n_estimators=2000 \n",
      "[CV]  bootstrap=False, max_features=sqrt, min_samples_leaf=1, min_samples_split=8, n_estimators=1400, total=   4.1s\n",
      "[CV] bootstrap=False, max_features=sqrt, min_samples_leaf=1, min_samples_split=8, n_estimators=2000 \n",
      "[CV]  bootstrap=False, max_features=sqrt, min_samples_leaf=1, min_samples_split=8, n_estimators=1400, total=   4.0s\n",
      "[CV] bootstrap=False, max_features=sqrt, min_samples_leaf=2, min_samples_split=3, n_estimators=500 \n"
     ]
    },
    {
     "name": "stderr",
     "output_type": "stream",
     "text": [
      "[Parallel(n_jobs=-1)]: Done  33 tasks      | elapsed:   31.7s\n"
     ]
    },
    {
     "name": "stdout",
     "output_type": "stream",
     "text": [
      "[CV]  bootstrap=False, max_features=sqrt, min_samples_leaf=2, min_samples_split=3, n_estimators=500, total=   2.0s\n",
      "[CV] bootstrap=False, max_features=sqrt, min_samples_leaf=2, min_samples_split=3, n_estimators=500 \n",
      "[CV]  bootstrap=False, max_features=sqrt, min_samples_leaf=1, min_samples_split=8, n_estimators=2000, total=   6.7s\n",
      "[CV] bootstrap=False, max_features=sqrt, min_samples_leaf=2, min_samples_split=3, n_estimators=500 \n",
      "[CV]  bootstrap=False, max_features=sqrt, min_samples_leaf=2, min_samples_split=3, n_estimators=500, total=   1.9s\n",
      "[CV] bootstrap=False, max_features=sqrt, min_samples_leaf=2, min_samples_split=3, n_estimators=700 \n",
      "[CV]  bootstrap=False, max_features=sqrt, min_samples_leaf=2, min_samples_split=3, n_estimators=500, total=   1.8s\n",
      "[CV] bootstrap=False, max_features=sqrt, min_samples_leaf=2, min_samples_split=3, n_estimators=700 \n",
      "[CV]  bootstrap=False, max_features=sqrt, min_samples_leaf=1, min_samples_split=8, n_estimators=2000, total=   7.3s\n",
      "[CV] bootstrap=False, max_features=sqrt, min_samples_leaf=2, min_samples_split=3, n_estimators=700 \n",
      "[CV]  bootstrap=False, max_features=sqrt, min_samples_leaf=2, min_samples_split=3, n_estimators=700, total=   2.3s\n",
      "[CV] bootstrap=False, max_features=sqrt, min_samples_leaf=2, min_samples_split=3, n_estimators=1400 \n",
      "[CV]  bootstrap=False, max_features=sqrt, min_samples_leaf=1, min_samples_split=8, n_estimators=2000, total=   7.3s\n",
      "[CV] bootstrap=False, max_features=sqrt, min_samples_leaf=2, min_samples_split=3, n_estimators=1400 \n",
      "[CV]  bootstrap=False, max_features=sqrt, min_samples_leaf=2, min_samples_split=3, n_estimators=700, total=   2.1s\n",
      "[CV] bootstrap=False, max_features=sqrt, min_samples_leaf=2, min_samples_split=3, n_estimators=1400 \n",
      "[CV]  bootstrap=False, max_features=sqrt, min_samples_leaf=2, min_samples_split=3, n_estimators=700, total=   2.1s\n",
      "[CV] bootstrap=False, max_features=sqrt, min_samples_leaf=2, min_samples_split=3, n_estimators=2000 \n",
      "[CV]  bootstrap=False, max_features=sqrt, min_samples_leaf=2, min_samples_split=3, n_estimators=1400, total=   4.1s\n",
      "[CV] bootstrap=False, max_features=sqrt, min_samples_leaf=2, min_samples_split=3, n_estimators=2000 \n",
      "[CV]  bootstrap=False, max_features=sqrt, min_samples_leaf=2, min_samples_split=3, n_estimators=1400, total=   4.1s\n",
      "[CV] bootstrap=False, max_features=sqrt, min_samples_leaf=2, min_samples_split=3, n_estimators=2000 \n",
      "[CV]  bootstrap=False, max_features=sqrt, min_samples_leaf=2, min_samples_split=3, n_estimators=1400, total=   4.2s\n",
      "[CV] bootstrap=False, max_features=sqrt, min_samples_leaf=2, min_samples_split=5, n_estimators=500 \n",
      "[CV]  bootstrap=False, max_features=sqrt, min_samples_leaf=2, min_samples_split=5, n_estimators=500, total=   2.0s\n",
      "[CV] bootstrap=False, max_features=sqrt, min_samples_leaf=2, min_samples_split=5, n_estimators=500 \n",
      "[CV]  bootstrap=False, max_features=sqrt, min_samples_leaf=2, min_samples_split=3, n_estimators=2000, total=   7.2s\n",
      "[CV] bootstrap=False, max_features=sqrt, min_samples_leaf=2, min_samples_split=5, n_estimators=500 \n",
      "[CV]  bootstrap=False, max_features=sqrt, min_samples_leaf=2, min_samples_split=5, n_estimators=500, total=   2.9s\n",
      "[CV] bootstrap=False, max_features=sqrt, min_samples_leaf=2, min_samples_split=5, n_estimators=700 \n",
      "[CV]  bootstrap=False, max_features=sqrt, min_samples_leaf=2, min_samples_split=5, n_estimators=500, total=   2.2s\n",
      "[CV] bootstrap=False, max_features=sqrt, min_samples_leaf=2, min_samples_split=5, n_estimators=700 \n",
      "[CV]  bootstrap=False, max_features=sqrt, min_samples_leaf=2, min_samples_split=3, n_estimators=2000, total=   8.6s\n",
      "[CV] bootstrap=False, max_features=sqrt, min_samples_leaf=2, min_samples_split=5, n_estimators=700 \n",
      "[CV]  bootstrap=False, max_features=sqrt, min_samples_leaf=2, min_samples_split=3, n_estimators=2000, total=   8.7s\n",
      "[CV] bootstrap=False, max_features=sqrt, min_samples_leaf=2, min_samples_split=5, n_estimators=1400 \n",
      "[CV]  bootstrap=False, max_features=sqrt, min_samples_leaf=2, min_samples_split=5, n_estimators=700, total=   3.4s\n",
      "[CV] bootstrap=False, max_features=sqrt, min_samples_leaf=2, min_samples_split=5, n_estimators=1400 \n",
      "[CV]  bootstrap=False, max_features=sqrt, min_samples_leaf=2, min_samples_split=5, n_estimators=700, total=   3.5s\n",
      "[CV] bootstrap=False, max_features=sqrt, min_samples_leaf=2, min_samples_split=5, n_estimators=1400 \n",
      "[CV]  bootstrap=False, max_features=sqrt, min_samples_leaf=2, min_samples_split=5, n_estimators=700, total=   3.6s\n",
      "[CV] bootstrap=False, max_features=sqrt, min_samples_leaf=2, min_samples_split=5, n_estimators=2000 \n",
      "[CV]  bootstrap=False, max_features=sqrt, min_samples_leaf=2, min_samples_split=5, n_estimators=1400, total=   6.7s\n",
      "[CV] bootstrap=False, max_features=sqrt, min_samples_leaf=2, min_samples_split=5, n_estimators=2000 \n",
      "[CV]  bootstrap=False, max_features=sqrt, min_samples_leaf=2, min_samples_split=5, n_estimators=1400, total=   6.9s\n",
      "[CV] bootstrap=False, max_features=sqrt, min_samples_leaf=2, min_samples_split=5, n_estimators=2000 \n",
      "[CV]  bootstrap=False, max_features=sqrt, min_samples_leaf=2, min_samples_split=5, n_estimators=1400, total=   6.7s\n",
      "[CV] bootstrap=False, max_features=sqrt, min_samples_leaf=2, min_samples_split=8, n_estimators=500 \n",
      "[CV]  bootstrap=False, max_features=sqrt, min_samples_leaf=2, min_samples_split=8, n_estimators=500, total=   2.3s\n",
      "[CV] bootstrap=False, max_features=sqrt, min_samples_leaf=2, min_samples_split=8, n_estimators=500 \n",
      "[CV]  bootstrap=False, max_features=sqrt, min_samples_leaf=2, min_samples_split=5, n_estimators=2000, total=   9.7s\n",
      "[CV] bootstrap=False, max_features=sqrt, min_samples_leaf=2, min_samples_split=8, n_estimators=500 \n",
      "[CV]  bootstrap=False, max_features=sqrt, min_samples_leaf=2, min_samples_split=8, n_estimators=500, total=   2.5s\n",
      "[CV] bootstrap=False, max_features=sqrt, min_samples_leaf=2, min_samples_split=8, n_estimators=700 \n",
      "[CV]  bootstrap=False, max_features=sqrt, min_samples_leaf=2, min_samples_split=8, n_estimators=500, total=   2.5s\n",
      "[CV] bootstrap=False, max_features=sqrt, min_samples_leaf=2, min_samples_split=8, n_estimators=700 \n",
      "[CV]  bootstrap=False, max_features=sqrt, min_samples_leaf=2, min_samples_split=5, n_estimators=2000, total=   9.9s\n",
      "[CV] bootstrap=False, max_features=sqrt, min_samples_leaf=2, min_samples_split=8, n_estimators=700 \n",
      "[CV]  bootstrap=False, max_features=sqrt, min_samples_leaf=2, min_samples_split=8, n_estimators=700, total=   3.0s\n",
      "[CV] bootstrap=False, max_features=sqrt, min_samples_leaf=2, min_samples_split=8, n_estimators=1400 \n",
      "[CV]  bootstrap=False, max_features=sqrt, min_samples_leaf=2, min_samples_split=5, n_estimators=2000, total=   9.4s\n",
      "[CV] bootstrap=False, max_features=sqrt, min_samples_leaf=2, min_samples_split=8, n_estimators=1400 \n",
      "[CV]  bootstrap=False, max_features=sqrt, min_samples_leaf=2, min_samples_split=8, n_estimators=700, total=   2.4s\n",
      "[CV] bootstrap=False, max_features=sqrt, min_samples_leaf=2, min_samples_split=8, n_estimators=1400 \n",
      "[CV]  bootstrap=False, max_features=sqrt, min_samples_leaf=2, min_samples_split=8, n_estimators=700, total=   2.3s\n",
      "[CV] bootstrap=False, max_features=sqrt, min_samples_leaf=2, min_samples_split=8, n_estimators=2000 \n",
      "[CV]  bootstrap=False, max_features=sqrt, min_samples_leaf=2, min_samples_split=8, n_estimators=1400, total=   4.9s\n",
      "[CV] bootstrap=False, max_features=sqrt, min_samples_leaf=2, min_samples_split=8, n_estimators=2000 \n",
      "[CV]  bootstrap=False, max_features=sqrt, min_samples_leaf=2, min_samples_split=8, n_estimators=1400, total=   4.8s\n",
      "[CV] bootstrap=False, max_features=sqrt, min_samples_leaf=2, min_samples_split=8, n_estimators=2000 \n",
      "[CV]  bootstrap=False, max_features=sqrt, min_samples_leaf=2, min_samples_split=8, n_estimators=1400, total=   5.1s\n",
      "[CV] bootstrap=False, max_features=sqrt, min_samples_leaf=3, min_samples_split=3, n_estimators=500 \n",
      "[CV]  bootstrap=False, max_features=sqrt, min_samples_leaf=3, min_samples_split=3, n_estimators=500, total=   1.7s\n",
      "[CV] bootstrap=False, max_features=sqrt, min_samples_leaf=3, min_samples_split=3, n_estimators=500 \n",
      "[CV]  bootstrap=False, max_features=sqrt, min_samples_leaf=2, min_samples_split=8, n_estimators=2000, total=   7.2s\n",
      "[CV] bootstrap=False, max_features=sqrt, min_samples_leaf=3, min_samples_split=3, n_estimators=500 \n"
     ]
    },
    {
     "name": "stdout",
     "output_type": "stream",
     "text": [
      "[CV]  bootstrap=False, max_features=sqrt, min_samples_leaf=3, min_samples_split=3, n_estimators=500, total=   2.1s\n",
      "[CV] bootstrap=False, max_features=sqrt, min_samples_leaf=3, min_samples_split=3, n_estimators=700 \n",
      "[CV]  bootstrap=False, max_features=sqrt, min_samples_leaf=3, min_samples_split=3, n_estimators=500, total=   2.2s\n",
      "[CV] bootstrap=False, max_features=sqrt, min_samples_leaf=3, min_samples_split=3, n_estimators=700 \n",
      "[CV]  bootstrap=False, max_features=sqrt, min_samples_leaf=2, min_samples_split=8, n_estimators=2000, total=   7.9s\n",
      "[CV] bootstrap=False, max_features=sqrt, min_samples_leaf=3, min_samples_split=3, n_estimators=700 \n",
      "[CV]  bootstrap=False, max_features=sqrt, min_samples_leaf=3, min_samples_split=3, n_estimators=700, total=   2.9s\n",
      "[CV] bootstrap=False, max_features=sqrt, min_samples_leaf=3, min_samples_split=3, n_estimators=1400 \n",
      "[CV]  bootstrap=False, max_features=sqrt, min_samples_leaf=2, min_samples_split=8, n_estimators=2000, total=   8.0s\n",
      "[CV] bootstrap=False, max_features=sqrt, min_samples_leaf=3, min_samples_split=3, n_estimators=1400 \n",
      "[CV]  bootstrap=False, max_features=sqrt, min_samples_leaf=3, min_samples_split=3, n_estimators=700, total=   2.5s\n",
      "[CV] bootstrap=False, max_features=sqrt, min_samples_leaf=3, min_samples_split=3, n_estimators=1400 \n",
      "[CV]  bootstrap=False, max_features=sqrt, min_samples_leaf=3, min_samples_split=3, n_estimators=700, total=   2.1s\n",
      "[CV] bootstrap=False, max_features=sqrt, min_samples_leaf=3, min_samples_split=3, n_estimators=2000 \n",
      "[CV]  bootstrap=False, max_features=sqrt, min_samples_leaf=3, min_samples_split=3, n_estimators=1400, total=   4.2s\n",
      "[CV] bootstrap=False, max_features=sqrt, min_samples_leaf=3, min_samples_split=3, n_estimators=2000 \n",
      "[CV]  bootstrap=False, max_features=sqrt, min_samples_leaf=3, min_samples_split=3, n_estimators=1400, total=   4.3s\n",
      "[CV] bootstrap=False, max_features=sqrt, min_samples_leaf=3, min_samples_split=3, n_estimators=2000 \n",
      "[CV]  bootstrap=False, max_features=sqrt, min_samples_leaf=3, min_samples_split=3, n_estimators=1400, total=   5.1s\n",
      "[CV] bootstrap=False, max_features=sqrt, min_samples_leaf=3, min_samples_split=5, n_estimators=500 \n",
      "[CV]  bootstrap=False, max_features=sqrt, min_samples_leaf=3, min_samples_split=5, n_estimators=500, total=   2.3s\n",
      "[CV] bootstrap=False, max_features=sqrt, min_samples_leaf=3, min_samples_split=5, n_estimators=500 \n",
      "[CV]  bootstrap=False, max_features=sqrt, min_samples_leaf=3, min_samples_split=3, n_estimators=2000, total=   8.0s\n",
      "[CV] bootstrap=False, max_features=sqrt, min_samples_leaf=3, min_samples_split=5, n_estimators=500 \n",
      "[CV]  bootstrap=False, max_features=sqrt, min_samples_leaf=3, min_samples_split=5, n_estimators=500, total=   1.6s\n",
      "[CV] bootstrap=False, max_features=sqrt, min_samples_leaf=3, min_samples_split=5, n_estimators=700 \n",
      "[CV]  bootstrap=False, max_features=sqrt, min_samples_leaf=3, min_samples_split=5, n_estimators=500, total=   1.7s\n",
      "[CV] bootstrap=False, max_features=sqrt, min_samples_leaf=3, min_samples_split=5, n_estimators=700 \n",
      "[CV]  bootstrap=False, max_features=sqrt, min_samples_leaf=3, min_samples_split=3, n_estimators=2000, total=   8.0s\n",
      "[CV] bootstrap=False, max_features=sqrt, min_samples_leaf=3, min_samples_split=5, n_estimators=700 \n",
      "[CV]  bootstrap=False, max_features=sqrt, min_samples_leaf=3, min_samples_split=3, n_estimators=2000, total=   7.6s\n",
      "[CV] bootstrap=False, max_features=sqrt, min_samples_leaf=3, min_samples_split=5, n_estimators=1400 \n",
      "[CV]  bootstrap=False, max_features=sqrt, min_samples_leaf=3, min_samples_split=5, n_estimators=700, total=   2.3s\n",
      "[CV] bootstrap=False, max_features=sqrt, min_samples_leaf=3, min_samples_split=5, n_estimators=1400 \n",
      "[CV]  bootstrap=False, max_features=sqrt, min_samples_leaf=3, min_samples_split=5, n_estimators=700, total=   2.3s\n",
      "[CV] bootstrap=False, max_features=sqrt, min_samples_leaf=3, min_samples_split=5, n_estimators=1400 \n",
      "[CV]  bootstrap=False, max_features=sqrt, min_samples_leaf=3, min_samples_split=5, n_estimators=700, total=   2.2s\n",
      "[CV] bootstrap=False, max_features=sqrt, min_samples_leaf=3, min_samples_split=5, n_estimators=2000 \n",
      "[CV]  bootstrap=False, max_features=sqrt, min_samples_leaf=3, min_samples_split=5, n_estimators=1400, total=   4.1s\n",
      "[CV] bootstrap=False, max_features=sqrt, min_samples_leaf=3, min_samples_split=5, n_estimators=2000 \n",
      "[CV]  bootstrap=False, max_features=sqrt, min_samples_leaf=3, min_samples_split=5, n_estimators=1400, total=   4.1s\n",
      "[CV] bootstrap=False, max_features=sqrt, min_samples_leaf=3, min_samples_split=5, n_estimators=2000 \n",
      "[CV]  bootstrap=False, max_features=sqrt, min_samples_leaf=3, min_samples_split=5, n_estimators=1400, total=   4.4s\n",
      "[CV] bootstrap=False, max_features=sqrt, min_samples_leaf=3, min_samples_split=8, n_estimators=500 \n",
      "[CV]  bootstrap=False, max_features=sqrt, min_samples_leaf=3, min_samples_split=8, n_estimators=500, total=   1.9s\n",
      "[CV] bootstrap=False, max_features=sqrt, min_samples_leaf=3, min_samples_split=8, n_estimators=500 \n",
      "[CV]  bootstrap=False, max_features=sqrt, min_samples_leaf=3, min_samples_split=5, n_estimators=2000, total=   6.6s\n",
      "[CV] bootstrap=False, max_features=sqrt, min_samples_leaf=3, min_samples_split=8, n_estimators=500 \n",
      "[CV]  bootstrap=False, max_features=sqrt, min_samples_leaf=3, min_samples_split=8, n_estimators=500, total=   1.4s\n",
      "[CV] bootstrap=False, max_features=sqrt, min_samples_leaf=3, min_samples_split=8, n_estimators=700 \n",
      "[CV]  bootstrap=False, max_features=sqrt, min_samples_leaf=3, min_samples_split=8, n_estimators=500, total=   1.5s\n",
      "[CV] bootstrap=False, max_features=sqrt, min_samples_leaf=3, min_samples_split=8, n_estimators=700 \n",
      "[CV]  bootstrap=False, max_features=sqrt, min_samples_leaf=3, min_samples_split=5, n_estimators=2000, total=   6.9s\n",
      "[CV] bootstrap=False, max_features=sqrt, min_samples_leaf=3, min_samples_split=8, n_estimators=700 \n",
      "[CV]  bootstrap=False, max_features=sqrt, min_samples_leaf=3, min_samples_split=5, n_estimators=2000, total=   6.8s\n",
      "[CV] bootstrap=False, max_features=sqrt, min_samples_leaf=3, min_samples_split=8, n_estimators=1400 \n",
      "[CV]  bootstrap=False, max_features=sqrt, min_samples_leaf=3, min_samples_split=8, n_estimators=700, total=   2.5s\n",
      "[CV] bootstrap=False, max_features=sqrt, min_samples_leaf=3, min_samples_split=8, n_estimators=1400 \n",
      "[CV]  bootstrap=False, max_features=sqrt, min_samples_leaf=3, min_samples_split=8, n_estimators=700, total=   2.4s\n",
      "[CV] bootstrap=False, max_features=sqrt, min_samples_leaf=3, min_samples_split=8, n_estimators=1400 \n",
      "[CV]  bootstrap=False, max_features=sqrt, min_samples_leaf=3, min_samples_split=8, n_estimators=700, total=   2.5s\n",
      "[CV] bootstrap=False, max_features=sqrt, min_samples_leaf=3, min_samples_split=8, n_estimators=2000 \n",
      "[CV]  bootstrap=False, max_features=sqrt, min_samples_leaf=3, min_samples_split=8, n_estimators=1400, total=   4.5s\n",
      "[CV] bootstrap=False, max_features=sqrt, min_samples_leaf=3, min_samples_split=8, n_estimators=2000 \n",
      "[CV]  bootstrap=False, max_features=sqrt, min_samples_leaf=3, min_samples_split=8, n_estimators=1400, total=   4.4s\n",
      "[CV] bootstrap=False, max_features=sqrt, min_samples_leaf=3, min_samples_split=8, n_estimators=2000 \n",
      "[CV]  bootstrap=False, max_features=sqrt, min_samples_leaf=3, min_samples_split=8, n_estimators=1400, total=   4.5s\n",
      "[CV]  bootstrap=False, max_features=sqrt, min_samples_leaf=3, min_samples_split=8, n_estimators=2000, total=   5.7s\n",
      "[CV]  bootstrap=False, max_features=sqrt, min_samples_leaf=3, min_samples_split=8, n_estimators=2000, total=   4.6s\n",
      "[CV]  bootstrap=False, max_features=sqrt, min_samples_leaf=3, min_samples_split=8, n_estimators=2000, total=   4.4s\n"
     ]
    },
    {
     "name": "stderr",
     "output_type": "stream",
     "text": [
      "[Parallel(n_jobs=-1)]: Done 108 out of 108 | elapsed:  2.0min finished\n"
     ]
    },
    {
     "data": {
      "text/plain": [
       "GridSearchCV(cv=3, error_score='raise',\n",
       "       estimator=RandomForestRegressor(bootstrap=True, criterion='mse', max_depth=None,\n",
       "           max_features='auto', max_leaf_nodes=None,\n",
       "           min_impurity_split=1e-07, min_samples_leaf=1,\n",
       "           min_samples_split=2, min_weight_fraction_leaf=0.0,\n",
       "           n_estimators=10, n_jobs=1, oob_score=False, random_state=None,\n",
       "           verbose=0, warm_start=False),\n",
       "       fit_params={}, iid=True, n_jobs=-1,\n",
       "       param_grid={'bootstrap': [False], 'max_features': ['sqrt'], 'min_samples_leaf': [1, 2, 3], 'min_samples_split': [3, 5, 8], 'n_estimators': [500, 700, 1400, 2000]},\n",
       "       pre_dispatch='2*n_jobs', refit=True, return_train_score=True,\n",
       "       scoring=None, verbose=2)"
      ]
     },
     "execution_count": 107,
     "metadata": {},
     "output_type": "execute_result"
    }
   ],
   "source": [
    "grid_search.fit(X_train, y_train)"
   ]
  },
  {
   "cell_type": "code",
   "execution_count": 108,
   "metadata": {},
   "outputs": [
    {
     "name": "stdout",
     "output_type": "stream",
     "text": [
      "{'bootstrap': False, 'max_features': 'sqrt', 'min_samples_leaf': 2, 'min_samples_split': 8, 'n_estimators': 500}\n",
      "Model Performance\n",
      "RMSE = 65625.81.\n"
     ]
    }
   ],
   "source": [
    "print(grid_search.best_params_)\n",
    "best_grid = grid_search.best_estimator_\n",
    "grid_accuracy = evaluate(best_grid, X_test, y_test)"
   ]
  },
  {
   "cell_type": "markdown",
   "metadata": {},
   "source": [
    "## Random forest Best Result"
   ]
  },
  {
   "cell_type": "code",
   "execution_count": 86,
   "metadata": {},
   "outputs": [
    {
     "name": "stdout",
     "output_type": "stream",
     "text": [
      "Root Mean Squared Error: 69168.3572631\n"
     ]
    }
   ],
   "source": [
    "print('Root Mean Squared Error:', np.sqrt(metrics.mean_squared_error(y_test, predictions))) "
   ]
  },
  {
   "cell_type": "markdown",
   "metadata": {},
   "source": [
    "### ******************************"
   ]
  },
  {
   "cell_type": "code",
   "execution_count": null,
   "metadata": {},
   "outputs": [],
   "source": [
    "# Calculate the absolute errors\n",
    "errors = abs(predictions - y_test)\n",
    "# Print out the mean absolute error (mae)\n",
    "print('Mean Absolute Error:', round(np.mean(errors), 2), 'degrees.')"
   ]
  },
  {
   "cell_type": "code",
   "execution_count": null,
   "metadata": {},
   "outputs": [],
   "source": [
    "from sklearn.cross_validation import cross_val_score\n",
    "np.mean(cross_val_score(rf, X_train, y_train, cv=10))"
   ]
  },
  {
   "cell_type": "code",
   "execution_count": null,
   "metadata": {},
   "outputs": [],
   "source": [
    "rf.score(X_test,y_test)"
   ]
  },
  {
   "cell_type": "code",
   "execution_count": null,
   "metadata": {},
   "outputs": [],
   "source": [
    "np.sum(rf.feature_importances_>0)"
   ]
  },
  {
   "cell_type": "code",
   "execution_count": null,
   "metadata": {},
   "outputs": [],
   "source": [
    "df_numerical['wages'].mean()"
   ]
  },
  {
   "cell_type": "code",
   "execution_count": null,
   "metadata": {},
   "outputs": [],
   "source": [
    "np.sum(lasso.coef_!=0)"
   ]
  },
  {
   "cell_type": "code",
   "execution_count": null,
   "metadata": {},
   "outputs": [],
   "source": [
    "import matplotlib.pyplot as plt\n",
    "plt.scatter(df_numerical['wages'],df_numerical['wages'])\n",
    "plt.show()"
   ]
  },
  {
   "cell_type": "code",
   "execution_count": null,
   "metadata": {},
   "outputs": [],
   "source": [
    "df_numerical.corr()"
   ]
  },
  {
   "cell_type": "code",
   "execution_count": null,
   "metadata": {
    "collapsed": true
   },
   "outputs": [],
   "source": []
  },
  {
   "cell_type": "code",
   "execution_count": null,
   "metadata": {
    "collapsed": true
   },
   "outputs": [],
   "source": []
  },
  {
   "cell_type": "code",
   "execution_count": null,
   "metadata": {
    "collapsed": true
   },
   "outputs": [],
   "source": [
    "from sklearn import neighbors\n",
    "from sklearn.metrics import mean_squared_error \n",
    "from math import sqrt\n",
    "import matplotlib.pyplot as plt\n",
    "%matplotlib inline"
   ]
  },
  {
   "cell_type": "code",
   "execution_count": null,
   "metadata": {},
   "outputs": [],
   "source": [
    "rmse_val = [] #to store rmse values for different k\n",
    "for K in range(20):\n",
    "    K = K+1\n",
    "    model = neighbors.KNeighborsRegressor(n_neighbors = K)\n",
    "\n",
    "    model.fit(X_train, y_train)  #fit the model\n",
    "    pred=model.predict(X_test) #make prediction on test set\n",
    "    error = sqrt(mean_squared_error(y_test,pred)) #calculate rmse\n",
    "    rmse_val.append(error) #store rmse values\n",
    "    print('RMSE value for k= ' , K , 'is:', error)"
   ]
  },
  {
   "cell_type": "code",
   "execution_count": null,
   "metadata": {},
   "outputs": [],
   "source": [
    "curve = pd.DataFrame(rmse_val) #elbow curve \n",
    "curve.plot()"
   ]
  },
  {
   "cell_type": "code",
   "execution_count": null,
   "metadata": {},
   "outputs": [],
   "source": [
    "from sklearn.model_selection import GridSearchCV\n",
    "params = {'n_neighbors':[2,3,4,5,6,7,8,9]}\n",
    "\n",
    "knn = neighbors.KNeighborsRegressor()\n",
    "\n",
    "model = GridSearchCV(knn, params, cv=5)\n",
    "model.fit(X_train,y_train)\n",
    "model.best_params_"
   ]
  },
  {
   "cell_type": "markdown",
   "metadata": {},
   "source": [
    "## Garbage"
   ]
  },
  {
   "cell_type": "code",
   "execution_count": null,
   "metadata": {
    "collapsed": true
   },
   "outputs": [],
   "source": [
    "print(dummies)"
   ]
  },
  {
   "cell_type": "code",
   "execution_count": null,
   "metadata": {
    "collapsed": true
   },
   "outputs": [],
   "source": [
    "from elasticsearch import Elasticsearch\n",
    "es = Elasticsearch()"
   ]
  },
  {
   "cell_type": "code",
   "execution_count": null,
   "metadata": {
    "collapsed": true
   },
   "outputs": [],
   "source": [
    "import re\n",
    "s = 'cat and dog'\n",
    "s = re.split(',|and|\\s+',s)\n",
    "s"
   ]
  },
  {
   "cell_type": "code",
   "execution_count": null,
   "metadata": {
    "collapsed": true
   },
   "outputs": [],
   "source": [
    "a=1\n",
    "b=2\n",
    "c=3\n",
    "cols = [a,b,c]"
   ]
  },
  {
   "cell_type": "code",
   "execution_count": null,
   "metadata": {},
   "outputs": [],
   "source": [
    "cols[1]"
   ]
  },
  {
   "cell_type": "code",
   "execution_count": null,
   "metadata": {
    "collapsed": true
   },
   "outputs": [],
   "source": [
    "cols[0]"
   ]
  },
  {
   "cell_type": "code",
   "execution_count": null,
   "metadata": {},
   "outputs": [],
   "source": [
    "zf+'s'=3"
   ]
  },
  {
   "cell_type": "code",
   "execution_count": null,
   "metadata": {
    "collapsed": true
   },
   "outputs": [],
   "source": []
  }
 ],
 "metadata": {
  "kernelspec": {
   "display_name": "Python 3",
   "language": "python",
   "name": "python3"
  },
  "language_info": {
   "codemirror_mode": {
    "name": "ipython",
    "version": 3
   },
   "file_extension": ".py",
   "mimetype": "text/x-python",
   "name": "python",
   "nbconvert_exporter": "python",
   "pygments_lexer": "ipython3",
   "version": "3.6.3"
  }
 },
 "nbformat": 4,
 "nbformat_minor": 2
}
